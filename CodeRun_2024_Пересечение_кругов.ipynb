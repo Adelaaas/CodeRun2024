{
  "nbformat": 4,
  "nbformat_minor": 0,
  "metadata": {
    "colab": {
      "provenance": []
    },
    "kernelspec": {
      "name": "python3",
      "display_name": "Python 3"
    },
    "language_info": {
      "name": "python"
    }
  },
  "cells": [
    {
      "cell_type": "markdown",
      "source": [
        "https://github.com/hugosal/CirclesIntersections/blob/main/R/Librino_N.R\n",
        "\n",
        "https://planetcalc.ru/8098/"
      ],
      "metadata": {
        "id": "ub5AxCcNUTbt"
      }
    },
    {
      "cell_type": "code",
      "source": [
        "import numpy as np\n",
        "from scipy.spatial import distance\n",
        "from scipy.special import comb"
      ],
      "metadata": {
        "id": "ZkBsZqbpSXRF"
      },
      "execution_count": null,
      "outputs": []
    },
    {
      "cell_type": "code",
      "execution_count": null,
      "metadata": {
        "id": "dg8rA0nhQfxF"
      },
      "outputs": [],
      "source": [
        "def two_circles_inters_points(cx, cy, r, distance):\n",
        "    \"\"\"Возвращает точки пересечения двух окружностей.\"\"\"\n",
        "    if distance >= r[0] + r[1] or distance <= abs(r[0] - r[1]) or distance == 0:\n",
        "        return np.array([])  # Нет точек пересечения\n",
        "\n",
        "    a = (r[0]**2 - r[1]**2 + distance**2) / (2 * distance)\n",
        "    h = np.sqrt(r[0]**2 - a**2)\n",
        "    x2 = cx[0] + a * (cx[1] - cx[0]) / distance\n",
        "    y2 = cy[0] + a * (cy[1] - cy[0]) / distance\n",
        "    x3 = x2 + h * (cy[1] - cy[0]) / distance\n",
        "    y3 = y2 - h * (cx[1] - cx[0]) / distance\n",
        "    x4 = x2 - h * (cy[1] - cy[0]) / distance\n",
        "    y4 = y2 + h * (cx[1] - cx[0]) / distance\n",
        "    return np.array([[x3, y3], [x4, y4]])"
      ]
    },
    {
      "cell_type": "code",
      "source": [
        "def intersection_two_circles(cx, cy, r):\n",
        "    \"\"\"Возвращает площадь пересечения двух окружностей.\"\"\"\n",
        "    d = np.sqrt((cx[1] - cx[0])**2 + (cy[1] - cy[0])**2)\n",
        "\n",
        "    if d >= r[0] + r[1]:\n",
        "        return 0  # Нет пересечения\n",
        "    if d <= abs(r[0] - r[1]):\n",
        "        return np.pi * min(r[0], r[1])**2  # Одна окружность внутри другой\n",
        "\n",
        "    r1_sq = r[0]**2\n",
        "    r2_sq = r[1]**2\n",
        "\n",
        "    part1 = r1_sq * np.arccos((d**2 + r1_sq - r2_sq) / (2 * d * r[0]))\n",
        "    part2 = r2_sq * np.arccos((d**2 + r2_sq - r1_sq) / (2 * d * r[1]))\n",
        "    part3 = 0.5 * np.sqrt((-d + r[0] + r[1]) * (d + r[0] - r[1]) * (d - r[0] + r[1]) * (d + r[0] + r[1]))\n",
        "\n",
        "    return part1 + part2 - part3"
      ],
      "metadata": {
        "id": "M1Oh1thnQgl8"
      },
      "execution_count": null,
      "outputs": []
    },
    {
      "cell_type": "code",
      "source": [
        "x1, y1, r1, x2, y2, r2, x3, y3, r3 = (2, 2, 6, 1, 1, 6, 9, 2, 4)\n",
        "\n",
        "radii = [6,6,4]\n",
        "centers_x = [2,1,9]\n",
        "centers_y = [2,1,2]\n",
        "\n",
        "indices = np.argsort(radii)[::-1]\n",
        "print(indices)\n",
        "cx = np.array(centers_x)[indices]\n",
        "cy = np.array(centers_y)[indices]\n",
        "r = np.array(radii)[indices]\n",
        "\n",
        "Dist = np.linalg.norm(np.array([[cx[0], cy[0]], [cx[1], cy[1]], [cx[2], cy[2]]]), axis=1)\n",
        "Dist = np.sqrt(((cx[:, None] - cx[None, :])**2 + (cy[:, None] - cy[None, :])**2))\n",
        "\n",
        "print(Dist)"
      ],
      "metadata": {
        "colab": {
          "base_uri": "https://localhost:8080/"
        },
        "id": "Gjf-s3nsQhvz",
        "outputId": "f0c78773-1939-460e-c0ab-550631d87d77"
      },
      "execution_count": null,
      "outputs": [
        {
          "output_type": "stream",
          "name": "stdout",
          "text": [
            "[1 0 2]\n",
            "[[0.         1.41421356 8.06225775]\n",
            " [1.41421356 0.         7.        ]\n",
            " [8.06225775 7.         0.        ]]\n"
          ]
        }
      ]
    },
    {
      "cell_type": "code",
      "source": [
        "radii = [6,6,4]\n",
        "indices = np.argsort(radii)[::-1]\n",
        "print(indices)\n",
        "np.array(radii)[indices]"
      ],
      "metadata": {
        "colab": {
          "base_uri": "https://localhost:8080/"
        },
        "id": "bkYX_461BuQz",
        "outputId": "62c066f0-22ed-41f7-f8fc-2d52155e78ec"
      },
      "execution_count": null,
      "outputs": [
        {
          "output_type": "stream",
          "name": "stdout",
          "text": [
            "[1 0 2]\n"
          ]
        },
        {
          "output_type": "execute_result",
          "data": {
            "text/plain": [
              "array([6, 6, 4])"
            ]
          },
          "metadata": {},
          "execution_count": 14
        }
      ]
    },
    {
      "cell_type": "code",
      "source": [
        "np.array([[cx[0], cy[0]], [cx[1], cy[1]], [cx[2], cy[2]]])"
      ],
      "metadata": {
        "colab": {
          "base_uri": "https://localhost:8080/"
        },
        "id": "EaTvUex1Axay",
        "outputId": "42423797-912e-4543-f21b-76b62dd40f21"
      },
      "execution_count": null,
      "outputs": [
        {
          "output_type": "execute_result",
          "data": {
            "text/plain": [
              "array([[1, 1],\n",
              "       [2, 2],\n",
              "       [9, 2]])"
            ]
          },
          "metadata": {},
          "execution_count": 9
        }
      ]
    },
    {
      "cell_type": "markdown",
      "source": [
        "представляет собой матрицу расстояний между центрами окружностей. Это двумерный массив, где элемент Dist[i, j] хранит расстояние между центрами окружностей i и j. Эта матрица используется для проверки пересечений окружностей и для вычисления площади пересечения."
      ],
      "metadata": {
        "id": "PhYLNqkLREUt"
      }
    },
    {
      "cell_type": "code",
      "source": [
        "if np.any([Dist[i, j] > r[i] + r[j] for i, j in [(0, 1), (1, 2), (0, 2)]]):\n",
        "    print('No interseption')"
      ],
      "metadata": {
        "id": "26zOKYlpQrEJ"
      },
      "execution_count": null,
      "outputs": []
    },
    {
      "cell_type": "code",
      "source": [
        "inside = [r[i] >= Dist[i, j] + r[j] for i, j in [(0, 1), (1, 2), (0, 2)]]\n",
        "if any(inside):\n",
        "    print(\"Circle inside\")\n",
        "    max_container = np.argmin([i if x else float('inf') for i, x in enumerate(inside)])\n",
        "    circle_most_inside = np.argmax([i if x else -1 for i, x in enumerate(inside)])\n",
        "    other_circle = {0, 1, 2} - {max_container, circle_most_inside}\n",
        "    # return intersection_two_circles([cx[circle_most_inside], cx[other_circle]],\n",
        "    #                                 [cy[circle_most_inside], cy[other_circle]],\n",
        "    #                                 [r[circle_most_inside], r[other_circle]])"
      ],
      "metadata": {
        "id": "z0OkoDzaQw6S"
      },
      "execution_count": null,
      "outputs": []
    },
    {
      "cell_type": "code",
      "source": [
        "# Проверка, содержатся ли точки пересечения двух окружностей в третьей окружности\n",
        "intersec_points_contained = [False, False, False]\n",
        "for g in range(3):\n",
        "    c1, c2 = list({0, 1, 2} - {g})\n",
        "    D_c1_c2 = Dist[c1, c2]\n",
        "    intsrs_points = two_circles_inters_points([cx[c1], cx[c2]], [cy[c1], cy[c2]], [r[c1], r[c2]], D_c1_c2)\n",
        "\n",
        "    if intsrs_points.size == 0:\n",
        "        continue\n",
        "\n",
        "    points = np.vstack([np.array([cx[g], cy[g]]), intsrs_points])\n",
        "    dist_matrix = np.linalg.norm(points - np.array([cx[g], cy[g]]), axis=1)\n",
        "\n",
        "    if np.all(dist_matrix < r[g]):\n",
        "        intersec_points_contained[g] = True\n",
        "\n",
        "intersec_points_contained"
      ],
      "metadata": {
        "colab": {
          "base_uri": "https://localhost:8080/"
        },
        "id": "BXm6x5yGQ75V",
        "outputId": "bb673f3e-a7e9-41e2-bc71-5983b97c7a85"
      },
      "execution_count": null,
      "outputs": [
        {
          "output_type": "execute_result",
          "data": {
            "text/plain": [
              "[False, True, False]"
            ]
          },
          "metadata": {},
          "execution_count": 16
        }
      ]
    },
    {
      "cell_type": "code",
      "source": [
        "intersec_points_contained = [False, False, False]\n",
        "\n",
        "# Compute points of overlap and check containment\n",
        "for g in range(3):\n",
        "    c1, c2 = {0, 1, 2} - {g}\n",
        "    D_c1_c2 = Dist[c1, c2]\n",
        "\n",
        "    intsrs_points = two_circles_inters_points([cx[c1], cx[c2]], [cy[c1], cy[c2]], [r[c1], r[c2]], D_c1_c2)\n",
        "    print((cx[c1], cy[c1]), r[c1], '|', (cx[c2], cy[c2]), r[c2])\n",
        "    print(intsrs_points)\n",
        "    # матрица расстояний между центром окружности и точками пересечения\n",
        "    dist_matrix = np.linalg.norm(intsrs_points - np.array([cx[g], cy[g]]), axis=1)\n",
        "    print(dist_matrix)\n",
        "    # Проверка, содержатся ли все точки пересечения внутри текущей окружности\n",
        "    if np.all(dist_matrix < r[g]):\n",
        "        intersec_points_contained[g] = True\n",
        "\n",
        "    # dist_matrix = np.linalg.norm(np.array([cx[g], intsrs_points[:, 0]]), axis=1)\n",
        "    # if np.all(dist_matrix < r[g]):\n",
        "    #     intersec_points_contained[g] = True\n",
        "    print('_'*10)\n",
        "\n",
        "intersec_points_contained"
      ],
      "metadata": {
        "colab": {
          "base_uri": "https://localhost:8080/"
        },
        "id": "tTO0-YUGUZNh",
        "outputId": "33f85408-ac40-4bce-bdf5-9dd97dcf77ba"
      },
      "execution_count": null,
      "outputs": [
        {
          "output_type": "stream",
          "name": "stdout",
          "text": [
            "(2, 2) 6 | (9, 2) 4\n",
            "[[ 6.92857143 -1.42186845]\n",
            " [ 6.92857143  5.42186845]]\n",
            "[6.40417098 7.39600431]\n",
            "__________\n",
            "(1, 1) 6 | (9, 2) 4\n",
            "[[ 6.58620046 -1.18960371]\n",
            " [ 5.875338    4.49729601]]\n",
            "[5.58630526 4.61028546]\n",
            "__________\n",
            "(1, 1) 6 | (2, 2) 6\n",
            "[[ 5.71307489 -2.71307489]\n",
            " [-2.71307489  5.71307489]]\n",
            "[ 5.7460379  12.28751596]\n",
            "__________\n"
          ]
        },
        {
          "output_type": "execute_result",
          "data": {
            "text/plain": [
              "[False, True, False]"
            ]
          },
          "metadata": {},
          "execution_count": 28
        }
      ]
    },
    {
      "cell_type": "code",
      "source": [
        "xx1 = 2\n",
        "yy1 = 2\n",
        "xx2 = 9\n",
        "yy2 = 2\n",
        "((xx1 - xx2) ** 2 + (yy1 - yy2) ** 2) ** 0.5"
      ],
      "metadata": {
        "colab": {
          "base_uri": "https://localhost:8080/"
        },
        "id": "tB1YdVJ4WIO_",
        "outputId": "e9fab31a-15a8-4ccd-8ca4-88173e6e443e"
      },
      "execution_count": null,
      "outputs": [
        {
          "output_type": "execute_result",
          "data": {
            "text/plain": [
              "7.0"
            ]
          },
          "metadata": {},
          "execution_count": 8
        }
      ]
    },
    {
      "cell_type": "code",
      "source": [
        "xx1 = 9\n",
        "yy1 = 2\n",
        "xx2 = 6.92857143\n",
        "yy2 = 6.92857143\n",
        "((xx1 - xx2) ** 2 + (yy1 - yy2) ** 2) ** 0.5"
      ],
      "metadata": {
        "colab": {
          "base_uri": "https://localhost:8080/"
        },
        "id": "xI-ycDH7VyBm",
        "outputId": "0bff6acb-8710-487f-f766-fac9b24dded4"
      },
      "execution_count": null,
      "outputs": [
        {
          "output_type": "execute_result",
          "data": {
            "text/plain": [
              "5.346179258238961"
            ]
          },
          "metadata": {},
          "execution_count": 25
        }
      ]
    },
    {
      "cell_type": "code",
      "source": [
        "# Compute points of overlap and check containment\n",
        "for g in range(3):\n",
        "    c1, c2 = {0, 1, 2} - {g}\n",
        "    D_c1_c2 = Dist[c1, c2]\n",
        "    print(c1, c2, D_c1_c2)\n",
        "    intsrs_points = two_circles_inters_points([cx[c1], cx[c2]], [cy[c1], cy[c2]], [r[c1], r[c2]], D_c1_c2)\n",
        "    print(intsrs_points)\n",
        "    print('-'*10)\n",
        "    # dist_matrix = np.linalg.norm(np.array([cx[g], intsrs_points[:, 0]]), axis=1)\n",
        "    # if np.all(dist_matrix < r[g]):\n",
        "    #     intersec_points_contained[g] = True"
      ],
      "metadata": {
        "colab": {
          "base_uri": "https://localhost:8080/"
        },
        "id": "O3G-oDfDTVTQ",
        "outputId": "621a1402-eda1-4e22-d7d4-f4c31a515158"
      },
      "execution_count": null,
      "outputs": [
        {
          "output_type": "stream",
          "name": "stdout",
          "text": [
            "1 2 7.0\n",
            "[[ 6.92857143 -1.42186845]\n",
            " [ 6.92857143  5.42186845]]\n",
            "----------\n",
            "0 2 8.06225774829855\n",
            "[[ 6.58620046 -1.18960371]\n",
            " [ 5.875338    4.49729601]]\n",
            "----------\n",
            "0 1 1.4142135623730951\n",
            "[[ 5.71307489 -2.71307489]\n",
            " [-2.71307489  5.71307489]]\n",
            "----------\n"
          ]
        }
      ]
    },
    {
      "cell_type": "markdown",
      "source": [
        "# Отладка"
      ],
      "metadata": {
        "id": "Bujrf0TGKke5"
      }
    },
    {
      "cell_type": "code",
      "source": [
        "import numpy as np\n",
        "from scipy.spatial import distance\n",
        "from scipy.special import comb\n",
        "from math import pi, sqrt, asin, acos, sin\n",
        "import itertools"
      ],
      "metadata": {
        "id": "jRwkUatdKl5A"
      },
      "execution_count": null,
      "outputs": []
    },
    {
      "cell_type": "code",
      "source": [
        "# Вычисляет площадь пересечения двух кругов на основе их радиусов и расстояния между центрами\n",
        "def intersection_two_circles(centers_x, centers_y, radii):\n",
        "    r1, r2 = radii\n",
        "    D = sqrt((centers_x[0] - centers_x[1])**2 + (centers_y[0] - centers_y[1])**2)\n",
        "\n",
        "    if D <= abs(r1 - r2):\n",
        "        return pi * min(r1, r2)**2\n",
        "\n",
        "    if D > r1 + r2:\n",
        "        return 0\n",
        "\n",
        "    aa = (r1**2 - r2**2 + D**2) / (2 * D)\n",
        "    bb = (r2**2 - r1**2 + D**2) / (2 * D)\n",
        "    th1 = 2 * acos(aa / r1)\n",
        "    th2 = 2 * acos(bb / r2)\n",
        "\n",
        "    if th1 > pi:\n",
        "        a1 = (r2**2 * (th2 + sin(2 * pi - th2))) / 2\n",
        "    else:\n",
        "        a1 = (r2**2 * (th2 - sin(th2))) / 2\n",
        "\n",
        "    if th2 > pi:\n",
        "        a2 = (r1**2 * (th1 + sin(2 * pi - th1))) / 2\n",
        "    else:\n",
        "        a2 = (r1**2 * (th1 - sin(th1))) / 2\n",
        "\n",
        "    return a1 + a2"
      ],
      "metadata": {
        "id": "y1A0z5a3Knsm"
      },
      "execution_count": null,
      "outputs": []
    },
    {
      "cell_type": "code",
      "source": [
        "radii = [6,6]\n",
        "centers_x = [2,1]\n",
        "centers_y = [2,1]\n",
        "\n",
        "intersection_two_circles(centers_x, centers_y, radii)"
      ],
      "metadata": {
        "colab": {
          "base_uri": "https://localhost:8080/"
        },
        "id": "jCDuHhshKx08",
        "outputId": "0a47adff-1114-4966-f98d-9c60814ea106"
      },
      "execution_count": null,
      "outputs": [
        {
          "output_type": "execute_result",
          "data": {
            "text/plain": [
              "96.16613874060447"
            ]
          },
          "metadata": {},
          "execution_count": 19
        }
      ]
    },
    {
      "cell_type": "code",
      "source": [
        "# Находит точки пересечения двух кругов, используя уравнения окружностей\n",
        "def two_circles_inters_points(centers_x, centers_y, radii, distance):\n",
        "    x1, x2 = centers_x\n",
        "    y1, y2 = centers_y\n",
        "    r1, r2 = radii\n",
        "\n",
        "    a = (r1**2 - r2**2 + distance**2) / (2 * distance)\n",
        "    h = sqrt(abs(r1**2 - a**2))\n",
        "\n",
        "    x0 = x1 + a * (x2 - x1) / distance\n",
        "    y0 = y1 + a * (y2 - y1) / distance\n",
        "\n",
        "    intersection_x1 = x0 + h * (y2 - y1) / distance\n",
        "    intersection_y1 = y0 - h * (x2 - x1) / distance\n",
        "\n",
        "    intersection_x2 = x0 - h * (y2 - y1) / distance\n",
        "    intersection_y2 = y0 + h * (x2 - x1) / distance\n",
        "\n",
        "    return np.array([[intersection_x1, intersection_x2], [intersection_y1, intersection_y2]])"
      ],
      "metadata": {
        "id": "YEyIGM24LTTU"
      },
      "execution_count": null,
      "outputs": []
    },
    {
      "cell_type": "code",
      "source": [
        "radii = [6,6,4]\n",
        "centers_x = [2,1,9]\n",
        "centers_y = [2,1,2]\n",
        "order_rad = np.argsort(radii)[::-1]\n",
        "cx = np.array(centers_x)[order_rad]\n",
        "cy = np.array(centers_y)[order_rad]\n",
        "r = np.array(radii)[order_rad]\n",
        "Dist = distance.cdist(list(zip(cx, cy)), list(zip(cx, cy)))\n",
        "Dist"
      ],
      "metadata": {
        "colab": {
          "base_uri": "https://localhost:8080/"
        },
        "id": "7Bv7yRj9LbZF",
        "outputId": "066694d2-445e-4c98-f2b8-2f0bd0f2ceb5"
      },
      "execution_count": null,
      "outputs": [
        {
          "output_type": "execute_result",
          "data": {
            "text/plain": [
              "array([[0.        , 1.41421356, 8.06225775],\n",
              "       [1.41421356, 0.        , 7.        ],\n",
              "       [8.06225775, 7.        , 0.        ]])"
            ]
          },
          "metadata": {},
          "execution_count": 21
        }
      ]
    },
    {
      "cell_type": "code",
      "source": [
        "def intersection_three_circles(centers_x, centers_y, radii):\n",
        "    # Circles must be sorted according to their radius\n",
        "    order_rad = np.argsort(radii)[::-1]\n",
        "    cx = np.array(centers_x)[order_rad]\n",
        "    cy = np.array(centers_y)[order_rad]\n",
        "    r = np.array(radii)[order_rad]\n",
        "    Dist = distance.cdist(list(zip(cx, cy)), list(zip(cx, cy)))\n",
        "    print('Params:')\n",
        "    print(cx)\n",
        "    print(cy)\n",
        "    print(r)\n",
        "    print(\"Distanse matrix computed:\")\n",
        "    print(Dist)\n",
        "    # Check if any pair of circles are completely separate\n",
        "    if any(Dist[i, j] > r[i] + r[j] for i in range(3) for j in range(i + 1, 3)):\n",
        "        return 0\n",
        "    else:\n",
        "        print('Check if any pair of circles are completely separate: NO')\n",
        "\n",
        "    # Check if any circle is completely inside another\n",
        "    circles_inside = [r[i] >= Dist[i, j] + r[j] for i in range(3) for j in range(i + 1, 3)]\n",
        "    print('Check if any circle is completely inside another', circles_inside)\n",
        "\n",
        "    # List of intersecting circles\n",
        "    circles_intersecting = [i for i in range(3) for j in range(i + 1, 3) if (r[i] - r[j]) < Dist[i, j] < (r[i] + r[j])]\n",
        "    print(\"List of intersecting circles\", circles_intersecting)\n",
        "\n",
        "    print('any(circles_inside')\n",
        "    if any(circles_inside):\n",
        "        container_name = [1, 1, 2]\n",
        "        contained_name = [2, 3, 3]\n",
        "\n",
        "        maximum_container = min(np.array(container_name)[circles_inside])\n",
        "        circle_most_inside = max(np.array(contained_name)[circles_inside])\n",
        "        other_circle = [i for i in range(3) if i not in (maximum_container, circle_most_inside)]\n",
        "\n",
        "        return intersection_two_circles(\n",
        "            centers_x=[cx[circle_most_inside], cx[other_circle[0]]],\n",
        "            centers_y=[cy[circle_most_inside], cy[other_circle[0]]],\n",
        "            radii=[r[circle_most_inside], r[other_circle[0]]]\n",
        "        )\n",
        "    else:\n",
        "        print(\"No any(circles_inside)\")\n",
        "\n",
        "    intersec_points_contained = [False, False, False]\n",
        "    for g in range(3):\n",
        "        c1, c2 = list({0, 1, 2} - {g})\n",
        "        D_c1_c2 = Dist[c1, c2]\n",
        "        intsrs_points = two_circles_inters_points([cx[c1], cx[c2]], [cy[c1], cy[c2]], [r[c1], r[c2]], D_c1_c2)\n",
        "\n",
        "        if intsrs_points.size == 0:\n",
        "            continue\n",
        "\n",
        "        points = np.vstack([np.array([cx[g], cy[g]]), intsrs_points])\n",
        "        dist_matrix = np.linalg.norm(points - np.array([cx[g], cy[g]]), axis=1)\n",
        "\n",
        "        if np.all(dist_matrix < r[g]):\n",
        "            intersec_points_contained[g] = True\n",
        "\n",
        "    print('intersec_points_contained', intersec_points_contained)\n",
        "\n",
        "    if sum(intersec_points_contained) == 2:\n",
        "        print('here IF')\n",
        "        containing_circle = [i for i in range(3) if not intersec_points_contained[i]][0]\n",
        "        containing_circle_area = r[containing_circle]**2 * pi\n",
        "\n",
        "        area_remove = 0\n",
        "        for f in [i for i in range(3) if i != containing_circle]:\n",
        "            area_inters = intersection_two_circles(\n",
        "                centers_x=[cx[f], cx[containing_circle]],\n",
        "                centers_y=[cy[f], cy[containing_circle]],\n",
        "                radii=[r[f], r[containing_circle]]\n",
        "            )\n",
        "            area_remove += (containing_circle_area - area_inters)\n",
        "\n",
        "        return containing_circle_area - area_remove\n",
        "\n",
        "    # }else if (sum(intersec_points_contained) == 1){\n",
        "    # print(\"HERE\")\n",
        "    # circs <- which(!intersec_points_contained)\n",
        "\n",
        "    # result <- intersection_two_circles(centers_x = cx[circs], centers_y = cy[circs], radii =  r[circs])\n",
        "    # }\n",
        "    elif sum(intersec_points_contained) == 1:\n",
        "        print(\"here ELIF\")\n",
        "        circs = [i for i in range(3) if not intersec_points_contained[i]]\n",
        "        print(circs)\n",
        "        print(intersection_two_circles([cx[circs[0]], cx[circs[1]]], [cy[circs[0]], cy[circs[1]]],[r[circs[0]], r[circs[1]]]))\n",
        "        return intersection_two_circles([cx[circs[0]], cx[circs[1]]], [cy[circs[0]], cy[circs[1]]],[r[circs[0]], r[circs[1]]])\n",
        "    # print('here')\n",
        "    if not (r[0] - r[1] < Dist[0, 1] < (r[0] + r[1])):\n",
        "        return 0\n",
        "\n",
        "    rs = [r_i**2 for r_i in r]\n",
        "    d = [Dist[0, 1], Dist[1, 2], Dist[0, 2]]\n",
        "\n",
        "    x12 = (rs[0] - rs[1] + d[0]**2) / (2 * d[0])\n",
        "    y12 = sqrt(((2 * d[0]**2) * (rs[0] + rs[1])) - (rs[0] - rs[1])**2 - d[0]**4) / (2 * d[0])\n",
        "\n",
        "    costheta = (d[0]**2 + d[2]**2 - d[1]**2) / (2 * d[0] * d[2])\n",
        "    sintheta = sqrt(1 - costheta**2)\n",
        "\n",
        "    costhetap = -(d[0]**2 + d[1]**2 - d[2]**2) / (2 * d[0] * d[1])\n",
        "    sinthetap = sqrt(1 - costhetap**2)\n",
        "\n",
        "    if not ((x12 - (d[2] * costheta))**2 + (y12 - (d[2] * sintheta))**2 < rs[2]):\n",
        "        return 0\n",
        "\n",
        "    if not ((x12 - (d[2] * costheta))**2 + (y12 + (d[2] * sintheta))**2 > rs[2]):\n",
        "        return 0\n",
        "\n",
        "    x13p = (rs[0] - rs[2] + d[2]**2) / (2 * d[2])\n",
        "    y13p = -sqrt((2 * d[2]**2 * (rs[0] + rs[2])) - (rs[0] - rs[2])**2 - d[2]**4) / (2 * d[2])\n",
        "\n",
        "    x13 = (x13p * costheta) - (y13p * sintheta)\n",
        "    y13 = (x13p * sintheta) + (y13p * costheta)\n",
        "\n",
        "    x23pp = (rs[1] - rs[2] + d[1]**2) / (2 * d[1])\n",
        "    y23pp = sqrt((2 * d[1]**2 * (rs[1] + rs[2])) - (rs[1] - rs[2])**2 - d[1]**4) / (2 * d[1])\n",
        "\n",
        "    x23 = (x23pp * costhetap) - (y23pp * sinthetap) + d[0]\n",
        "    y23 = (x23pp * sinthetap) + (y23pp * costhetap)\n",
        "\n",
        "    if x23 - x13 == 0:\n",
        "        return 0\n",
        "\n",
        "    c1 = sqrt((x13 - x12)**2 + (y13 - y12)**2)\n",
        "    c2 = sqrt((x12 - x23)**2 + (y12 - y23)**2)\n",
        "    c3 = sqrt((x23 - x13)**2 + (y23 - y13)**2)\n",
        "\n",
        "    A = (sqrt((c1 + c2 + c3) * (c2 + c3 - c1) * (c1 + c3 - c2) * (c1 + c2 - c3)) / 4) + \\\n",
        "        ((rs[0] * asin(c1 / (2 * r[0]))) - ((c1 / 4) * sqrt((4 * rs[0]) - c1**2))) + \\\n",
        "        ((rs[1] * asin(c2 / (2 * r[1]))) - ((c2 / 4) * sqrt((4 * rs[1]) - c2**2))) + \\\n",
        "        ((rs[2] * asin(c3 / (2 * r[2]))) - ((c3 / 4) * sqrt((4 * rs[2]) - c3**2)))\n",
        "\n",
        "    return A"
      ],
      "metadata": {
        "id": "gJir9SdOLTcf"
      },
      "execution_count": null,
      "outputs": []
    },
    {
      "cell_type": "code",
      "source": [
        "radii = [6,6,4]\n",
        "centers_x = [2,1,9]\n",
        "centers_y = [2,1,2]\n",
        "intersection_three_circles(centers_x, centers_y, radii)"
      ],
      "metadata": {
        "colab": {
          "base_uri": "https://localhost:8080/"
        },
        "id": "VmIc_9CBM71u",
        "outputId": "59a0f36b-fdc2-468d-89b3-6208e5eeab36"
      },
      "execution_count": null,
      "outputs": [
        {
          "output_type": "stream",
          "name": "stdout",
          "text": [
            "OK\n",
            "[0, 0, 1]\n",
            "OK2\n",
            "OK3\n",
            "[False, True, False]\n",
            "OK4\n"
          ]
        },
        {
          "output_type": "execute_result",
          "data": {
            "text/plain": [
              "7.599910406248205"
            ]
          },
          "metadata": {},
          "execution_count": 31
        }
      ]
    },
    {
      "cell_type": "code",
      "source": [
        "import numpy as np\n",
        "from scipy.spatial import distance\n",
        "from scipy.special import factorial\n",
        "import math\n",
        "from itertools import combinations\n",
        "\n",
        "def intersection_two_circles(centers_x, centers_y, radii):\n",
        "    # Ваш код для вычисления площади пересечения двух кругов\n",
        "    pass\n",
        "\n",
        "def intersection_three_circles(centers_x, centers_y, radii):\n",
        "    # Ваш код для вычисления площади пересечения трех кругов\n",
        "    pass\n",
        "\n",
        "def two_circles_inters_points(centers_x, centers_y, radii, distance):\n",
        "    # Ваш код для вычисления точек пересечения двух кругов\n",
        "    pass\n",
        "\n",
        "def get_circle_number_from_binary(binary):\n",
        "    return [i for i, bit in enumerate(binary) if bit == '1']\n",
        "\n",
        "def get_transition_M_n_to_k(n, k, transitions):\n",
        "    name_transition = f\"{n + k - 1}:{n + k}\"\n",
        "    a_bar = transitions[name_transition]\n",
        "    if k > 1:\n",
        "        for i in range(1, k):\n",
        "            name_transition = f\"{n + k - i - 1}:{n + k - i}\"\n",
        "            a_bar = np.dot(a_bar, transitions[name_transition])\n",
        "    return a_bar / factorial(k)\n",
        "\n",
        "def get_sub_trellis(original, nvert, nelement, start):\n",
        "    final_node = list(original[nvert][nelement].keys())[0]\n",
        "    reduced_trellis = original[:nvert - 1]\n",
        "    n_final_node = list(final_node)\n",
        "    for back in range(nvert - 1, start - 1, -1):\n",
        "        included_nodes = [x for x in reduced_trellis[back] if sum(np.array(list(x)) != np.array(n_final_node)) == (nvert - back)]\n",
        "        reduced_trellis[back] = {k: reduced_trellis[back][k] for k in included_nodes}\n",
        "    return reduced_trellis\n",
        "\n",
        "def transition_from_a_i(a, start):\n",
        "    transition_matrices_a = {}\n",
        "\n",
        "    for r in range(start, len(a) - 1):\n",
        "        next_lab = f\"{r}:{r + 1}\"\n",
        "\n",
        "        # Проверка типа и содержимого\n",
        "        if not isinstance(a[r + 1], (list, np.ndarray)):\n",
        "            print(f\"Error: Expected list or ndarray, but got {type(a[r + 1])}\")\n",
        "            continue\n",
        "        if not isinstance(a[r], (list, np.ndarray)):\n",
        "            print(f\"Error: Expected list or ndarray, but got {type(a[r])}\")\n",
        "            continue\n",
        "\n",
        "        names_rows = [list(name) for name in a[r + 1]]\n",
        "        names_cols = [list(name) for name in a[r]]\n",
        "\n",
        "        # Проверка содержимого\n",
        "        print(f\"names_rows: {names_rows}\")\n",
        "        print(f\"names_cols: {names_cols}\")\n",
        "\n",
        "        # Создание матрицы переходов\n",
        "        this_matrix = np.array([[sum(x != y) == 1 for y in names_cols] for x in names_rows])\n",
        "\n",
        "        # Установка имен строк и столбцов\n",
        "        if len(names_rows) > 0:\n",
        "            row_names = [''.join(name) for name in names_rows]\n",
        "            col_names = [''.join(name) for name in names_cols]\n",
        "            this_matrix = pd.DataFrame(this_matrix, index=row_names, columns=col_names)\n",
        "\n",
        "        transition_matrices_a[next_lab] = this_matrix\n",
        "\n",
        "    return transition_matrices_a\n",
        "\n",
        "def Librino_N(centers_x, centers_y, radii):\n",
        "    N = len(centers_x)\n",
        "\n",
        "    if len(centers_y) != N or len(radii) != N:\n",
        "        raise ValueError(\"arguments must have the same length\")\n",
        "\n",
        "    if any(r <= 0 for r in radii):\n",
        "        raise ValueError(\"radii must be greater than 0\")\n",
        "\n",
        "    areas = np.pi * np.array(radii) ** 2\n",
        "\n",
        "    if N == 2:\n",
        "        intersection = intersection_two_circles(centers_x, centers_y, radii)\n",
        "        return {\n",
        "            \"1:2\": intersection,\n",
        "            \"1\": areas[0] - intersection,\n",
        "            \"2\": areas[1] - intersection\n",
        "        }\n",
        "\n",
        "    d = distance.cdist(np.array([centers_x, centers_y]).T, np.array([centers_x, centers_y]).T)\n",
        "    vector_dec_from_bin = [format(x, '0' + str(N) + 'b') for x in range(2 ** N)]\n",
        "    sum_binary = np.array([bin(x).count('1') for x in range(2 ** N)])\n",
        "\n",
        "    a_i = [sorted(np.where(sum_binary == x)[0], reverse=True) for x in range(1, N + 1)]\n",
        "\n",
        "    transition_matrices = transition_from_a_i(a_i, start=1)\n",
        "\n",
        "    a_i[0] = np.array([areas[int(''.join(x), 2)] for x in vector_dec_from_bin if sum(int(b) for b in x) == 1])\n",
        "    a_i[1] = np.array([intersection_two_circles(\n",
        "        [centers_x[i] for i in get_circle_number_from_binary(x)],\n",
        "        [centers_y[i] for i in get_circle_number_from_binary(x)],\n",
        "        [radii[i] for i in get_circle_number_from_binary(x)]\n",
        "    ) for x in vector_dec_from_bin if sum(int(b) for b in x) == 2])\n",
        "    a_i[2] = np.array([intersection_three_circles(\n",
        "        [centers_x[i] for i in get_circle_number_from_binary(x)],\n",
        "        [centers_y[i] for i in get_circle_number_from_binary(x)],\n",
        "        [radii[i] for i in get_circle_number_from_binary(x)]\n",
        "    ) for x in vector_dec_from_bin if sum(int(b) for b in x) == 3])\n",
        "\n",
        "    if N >= 4:\n",
        "        for u in range(4, N + 1):\n",
        "            for v in range(len(a_i[u - 1])):\n",
        "                another_one = u != 4\n",
        "                minimum_depth = 1 if u == 4 else u - 2\n",
        "                Abar = [None] * (u - 1 - another_one)\n",
        "                subtrellis = get_sub_trellis(a_i, nvert=u, nelement=v, start=minimum_depth)\n",
        "                transition_sub = transition_from_a_i(subtrellis, start=minimum_depth)\n",
        "\n",
        "                if any(np.array(list(subtrellis[-1].values())) == 0):\n",
        "                    a_i[u - 1][v] = 0\n",
        "                    continue\n",
        "\n",
        "                for e in range(minimum_depth, u - 1 - another_one):\n",
        "                    product_sum = 0\n",
        "                    if e < u - 1:\n",
        "                        for j in range(e + 1, u - 1):\n",
        "                            tnk = get_transition_M_n_to_k(n=e, k=j - e, transitions=transition_sub)\n",
        "                            this_rep = (-1) ** (j - e + 1) * np.dot(tnk.T, np.array(list(subtrellis[j].values())))\n",
        "                            product_sum += this_rep\n",
        "                    Abar[e] = list(subtrellis[e].values()) - product_sum\n",
        "\n",
        "                if u == 4:\n",
        "                    agam = min(Abar[0])\n",
        "                    bgam = max(-Abar[1])\n",
        "                    cgam = min(Abar[2])\n",
        "\n",
        "                    if any(np.array(list(subtrellis[2].values())) < 1e-6):\n",
        "                        a_i[u - 1][v] = min(Abar[u - 2])\n",
        "                    else:\n",
        "                        if cgam > bgam and abs(cgam - cgam) < 1e-5:\n",
        "                            four_circles = get_circle_number_from_binary(vector_dec_from_bin[v])\n",
        "                            combinations_2 = list(combinations(four_circles, 2))\n",
        "\n",
        "                            intersc_pts = []\n",
        "                            for c1, c2 in combinations_2:\n",
        "                                D_c1_c2 = d[c1, c2]\n",
        "                                points = two_circles_inters_points(\n",
        "                                    [centers_x[c1], centers_x[c2]],\n",
        "                                    [centers_y[c1], centers_y[c2]],\n",
        "                                    [radii[c1], radii[c2]],\n",
        "                                    D_c1_c2\n",
        "                                )\n",
        "                                intersc_pts.append(points)\n",
        "\n",
        "                            intersections_mat = np.vstack(intersc_pts)\n",
        "\n",
        "                            inters_pts_inside_circle = []\n",
        "                            for x in four_circles:\n",
        "                                distances_to_inters = distance.cdist(\n",
        "                                    np.array([[centers_x[x], centers_y[x]]]),\n",
        "                                    intersections_mat\n",
        "                                ).flatten()\n",
        "                                not_including = [x not in y.split(':') for y in map(str, range(len(intersections_mat)))]\n",
        "                                inside_pts = np.where((distances_to_inters < radii[x]) & not_including)[0]\n",
        "                                inters_pts_inside_circle.append(inside_pts.tolist())\n",
        "\n",
        "                            the_one = [False] * 4\n",
        "                            for j in range(len(inters_pts_inside_circle)):\n",
        "                                the_one[j] = all(len(set(inters_pts_inside_circle[j]) & set(inters_pts_inside_circle[x])) == 1\n",
        "                                                 for x in range(len(inters_pts_inside_circle)) if x != j)\n",
        "\n",
        "                            if all(len(x) == 3 for x in inters_pts_inside_circle):\n",
        "                                if sum(the_one) == 1:\n",
        "                                    a_i[u - 1][v] = min(Abar[u - 2])\n",
        "                                else:\n",
        "                                    a_i[u - 1][v] = max(-Abar[u - 3])\n",
        "                            else:\n",
        "                                a_i[u - 1][v] = max(-Abar[u - 3])\n",
        "                        else:\n",
        "                            a_i[u - 1][v] = max(-Abar[u - 3])\n",
        "                else:\n",
        "                    a_i[u - 1][v] = max(-Abar[u - 3])\n",
        "\n",
        "    Intersections_final = []\n",
        "    for i in range(N):\n",
        "        This_intersection_area = a_i[i]\n",
        "        product_sum = 0\n",
        "        if i < N - 1:\n",
        "            product_sum = np.sum([\n",
        "                (-1) ** (j - i + 1) * np.dot(get_transition_M_n_to_k(n=i, k=j - i, transitions=transition_matrices).T, a_i[j])\n",
        "                for j in range(i + 1, N)\n",
        "            ], axis=0)\n",
        "        Intersections_final.append(This_intersection_area - product_sum)\n",
        "\n",
        "    for l in range(len(Intersections_final) - 1, -1, -1):\n",
        "        this_vect = Intersections_final[l]\n",
        "        if len(this_vect) == 0:\n",
        "            Intersections_final[l] = None\n",
        "        else:\n",
        "            Intersections_final[l] = this_vect[:, 0]\n",
        "\n",
        "    return Intersections_final"
      ],
      "metadata": {
        "id": "3cX6FPhGM8Ar"
      },
      "execution_count": null,
      "outputs": []
    },
    {
      "cell_type": "code",
      "source": [
        "radii = [6,6,4]\n",
        "centers_x = [2,1,9]\n",
        "centers_y = [2,1,2]\n",
        "Librino_N(centers_x, centers_y, radii)"
      ],
      "metadata": {
        "colab": {
          "base_uri": "https://localhost:8080/",
          "height": 321
        },
        "id": "obkF09gZOOST",
        "outputId": "464b0962-2fc7-4b1a-eed9-ac2d0b170244"
      },
      "execution_count": null,
      "outputs": [
        {
          "output_type": "error",
          "ename": "TypeError",
          "evalue": "'numpy.int64' object is not iterable",
          "traceback": [
            "\u001b[0;31m---------------------------------------------------------------------------\u001b[0m",
            "\u001b[0;31mTypeError\u001b[0m                                 Traceback (most recent call last)",
            "\u001b[0;32m<ipython-input-63-b241101d007a>\u001b[0m in \u001b[0;36m<cell line: 4>\u001b[0;34m()\u001b[0m\n\u001b[1;32m      2\u001b[0m \u001b[0mcenters_x\u001b[0m \u001b[0;34m=\u001b[0m \u001b[0;34m[\u001b[0m\u001b[0;36m2\u001b[0m\u001b[0;34m,\u001b[0m\u001b[0;36m1\u001b[0m\u001b[0;34m,\u001b[0m\u001b[0;36m9\u001b[0m\u001b[0;34m]\u001b[0m\u001b[0;34m\u001b[0m\u001b[0;34m\u001b[0m\u001b[0m\n\u001b[1;32m      3\u001b[0m \u001b[0mcenters_y\u001b[0m \u001b[0;34m=\u001b[0m \u001b[0;34m[\u001b[0m\u001b[0;36m2\u001b[0m\u001b[0;34m,\u001b[0m\u001b[0;36m1\u001b[0m\u001b[0;34m,\u001b[0m\u001b[0;36m2\u001b[0m\u001b[0;34m]\u001b[0m\u001b[0;34m\u001b[0m\u001b[0;34m\u001b[0m\u001b[0m\n\u001b[0;32m----> 4\u001b[0;31m \u001b[0mLibrino_N\u001b[0m\u001b[0;34m(\u001b[0m\u001b[0mcenters_x\u001b[0m\u001b[0;34m,\u001b[0m \u001b[0mcenters_y\u001b[0m\u001b[0;34m,\u001b[0m \u001b[0mradii\u001b[0m\u001b[0;34m)\u001b[0m\u001b[0;34m\u001b[0m\u001b[0;34m\u001b[0m\u001b[0m\n\u001b[0m",
            "\u001b[0;32m<ipython-input-62-fa36f3e675cc>\u001b[0m in \u001b[0;36mLibrino_N\u001b[0;34m(centers_x, centers_y, radii)\u001b[0m\n\u001b[1;32m     97\u001b[0m     \u001b[0ma_i\u001b[0m \u001b[0;34m=\u001b[0m \u001b[0;34m[\u001b[0m\u001b[0msorted\u001b[0m\u001b[0;34m(\u001b[0m\u001b[0mnp\u001b[0m\u001b[0;34m.\u001b[0m\u001b[0mwhere\u001b[0m\u001b[0;34m(\u001b[0m\u001b[0msum_binary\u001b[0m \u001b[0;34m==\u001b[0m \u001b[0mx\u001b[0m\u001b[0;34m)\u001b[0m\u001b[0;34m[\u001b[0m\u001b[0;36m0\u001b[0m\u001b[0;34m]\u001b[0m\u001b[0;34m,\u001b[0m \u001b[0mreverse\u001b[0m\u001b[0;34m=\u001b[0m\u001b[0;32mTrue\u001b[0m\u001b[0;34m)\u001b[0m \u001b[0;32mfor\u001b[0m \u001b[0mx\u001b[0m \u001b[0;32min\u001b[0m \u001b[0mrange\u001b[0m\u001b[0;34m(\u001b[0m\u001b[0;36m1\u001b[0m\u001b[0;34m,\u001b[0m \u001b[0mN\u001b[0m \u001b[0;34m+\u001b[0m \u001b[0;36m1\u001b[0m\u001b[0;34m)\u001b[0m\u001b[0;34m]\u001b[0m\u001b[0;34m\u001b[0m\u001b[0;34m\u001b[0m\u001b[0m\n\u001b[1;32m     98\u001b[0m \u001b[0;34m\u001b[0m\u001b[0m\n\u001b[0;32m---> 99\u001b[0;31m     \u001b[0mtransition_matrices\u001b[0m \u001b[0;34m=\u001b[0m \u001b[0mtransition_from_a_i\u001b[0m\u001b[0;34m(\u001b[0m\u001b[0ma_i\u001b[0m\u001b[0;34m,\u001b[0m \u001b[0mstart\u001b[0m\u001b[0;34m=\u001b[0m\u001b[0;36m1\u001b[0m\u001b[0;34m)\u001b[0m\u001b[0;34m\u001b[0m\u001b[0;34m\u001b[0m\u001b[0m\n\u001b[0m\u001b[1;32m    100\u001b[0m \u001b[0;34m\u001b[0m\u001b[0m\n\u001b[1;32m    101\u001b[0m     \u001b[0ma_i\u001b[0m\u001b[0;34m[\u001b[0m\u001b[0;36m0\u001b[0m\u001b[0;34m]\u001b[0m \u001b[0;34m=\u001b[0m \u001b[0mnp\u001b[0m\u001b[0;34m.\u001b[0m\u001b[0marray\u001b[0m\u001b[0;34m(\u001b[0m\u001b[0;34m[\u001b[0m\u001b[0mareas\u001b[0m\u001b[0;34m[\u001b[0m\u001b[0mint\u001b[0m\u001b[0;34m(\u001b[0m\u001b[0;34m''\u001b[0m\u001b[0;34m.\u001b[0m\u001b[0mjoin\u001b[0m\u001b[0;34m(\u001b[0m\u001b[0mx\u001b[0m\u001b[0;34m)\u001b[0m\u001b[0;34m,\u001b[0m \u001b[0;36m2\u001b[0m\u001b[0;34m)\u001b[0m\u001b[0;34m]\u001b[0m \u001b[0;32mfor\u001b[0m \u001b[0mx\u001b[0m \u001b[0;32min\u001b[0m \u001b[0mvector_dec_from_bin\u001b[0m \u001b[0;32mif\u001b[0m \u001b[0msum\u001b[0m\u001b[0;34m(\u001b[0m\u001b[0mint\u001b[0m\u001b[0;34m(\u001b[0m\u001b[0mb\u001b[0m\u001b[0;34m)\u001b[0m \u001b[0;32mfor\u001b[0m \u001b[0mb\u001b[0m \u001b[0;32min\u001b[0m \u001b[0mx\u001b[0m\u001b[0;34m)\u001b[0m \u001b[0;34m==\u001b[0m \u001b[0;36m1\u001b[0m\u001b[0;34m]\u001b[0m\u001b[0;34m)\u001b[0m\u001b[0;34m\u001b[0m\u001b[0;34m\u001b[0m\u001b[0m\n",
            "\u001b[0;32m<ipython-input-62-fa36f3e675cc>\u001b[0m in \u001b[0;36mtransition_from_a_i\u001b[0;34m(a, start)\u001b[0m\n\u001b[1;32m     52\u001b[0m             \u001b[0;32mcontinue\u001b[0m\u001b[0;34m\u001b[0m\u001b[0;34m\u001b[0m\u001b[0m\n\u001b[1;32m     53\u001b[0m \u001b[0;34m\u001b[0m\u001b[0m\n\u001b[0;32m---> 54\u001b[0;31m         \u001b[0mnames_rows\u001b[0m \u001b[0;34m=\u001b[0m \u001b[0;34m[\u001b[0m\u001b[0mlist\u001b[0m\u001b[0;34m(\u001b[0m\u001b[0mname\u001b[0m\u001b[0;34m)\u001b[0m \u001b[0;32mfor\u001b[0m \u001b[0mname\u001b[0m \u001b[0;32min\u001b[0m \u001b[0ma\u001b[0m\u001b[0;34m[\u001b[0m\u001b[0mr\u001b[0m \u001b[0;34m+\u001b[0m \u001b[0;36m1\u001b[0m\u001b[0;34m]\u001b[0m\u001b[0;34m]\u001b[0m\u001b[0;34m\u001b[0m\u001b[0;34m\u001b[0m\u001b[0m\n\u001b[0m\u001b[1;32m     55\u001b[0m         \u001b[0mnames_cols\u001b[0m \u001b[0;34m=\u001b[0m \u001b[0;34m[\u001b[0m\u001b[0mlist\u001b[0m\u001b[0;34m(\u001b[0m\u001b[0mname\u001b[0m\u001b[0;34m)\u001b[0m \u001b[0;32mfor\u001b[0m \u001b[0mname\u001b[0m \u001b[0;32min\u001b[0m \u001b[0ma\u001b[0m\u001b[0;34m[\u001b[0m\u001b[0mr\u001b[0m\u001b[0;34m]\u001b[0m\u001b[0;34m]\u001b[0m\u001b[0;34m\u001b[0m\u001b[0;34m\u001b[0m\u001b[0m\n\u001b[1;32m     56\u001b[0m \u001b[0;34m\u001b[0m\u001b[0m\n",
            "\u001b[0;32m<ipython-input-62-fa36f3e675cc>\u001b[0m in \u001b[0;36m<listcomp>\u001b[0;34m(.0)\u001b[0m\n\u001b[1;32m     52\u001b[0m             \u001b[0;32mcontinue\u001b[0m\u001b[0;34m\u001b[0m\u001b[0;34m\u001b[0m\u001b[0m\n\u001b[1;32m     53\u001b[0m \u001b[0;34m\u001b[0m\u001b[0m\n\u001b[0;32m---> 54\u001b[0;31m         \u001b[0mnames_rows\u001b[0m \u001b[0;34m=\u001b[0m \u001b[0;34m[\u001b[0m\u001b[0mlist\u001b[0m\u001b[0;34m(\u001b[0m\u001b[0mname\u001b[0m\u001b[0;34m)\u001b[0m \u001b[0;32mfor\u001b[0m \u001b[0mname\u001b[0m \u001b[0;32min\u001b[0m \u001b[0ma\u001b[0m\u001b[0;34m[\u001b[0m\u001b[0mr\u001b[0m \u001b[0;34m+\u001b[0m \u001b[0;36m1\u001b[0m\u001b[0;34m]\u001b[0m\u001b[0;34m]\u001b[0m\u001b[0;34m\u001b[0m\u001b[0;34m\u001b[0m\u001b[0m\n\u001b[0m\u001b[1;32m     55\u001b[0m         \u001b[0mnames_cols\u001b[0m \u001b[0;34m=\u001b[0m \u001b[0;34m[\u001b[0m\u001b[0mlist\u001b[0m\u001b[0;34m(\u001b[0m\u001b[0mname\u001b[0m\u001b[0;34m)\u001b[0m \u001b[0;32mfor\u001b[0m \u001b[0mname\u001b[0m \u001b[0;32min\u001b[0m \u001b[0ma\u001b[0m\u001b[0;34m[\u001b[0m\u001b[0mr\u001b[0m\u001b[0;34m]\u001b[0m\u001b[0;34m]\u001b[0m\u001b[0;34m\u001b[0m\u001b[0;34m\u001b[0m\u001b[0m\n\u001b[1;32m     56\u001b[0m \u001b[0;34m\u001b[0m\u001b[0m\n",
            "\u001b[0;31mTypeError\u001b[0m: 'numpy.int64' object is not iterable"
          ]
        }
      ]
    }
  ]
}