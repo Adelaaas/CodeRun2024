{
  "nbformat": 4,
  "nbformat_minor": 0,
  "metadata": {
    "colab": {
      "provenance": [],
      "toc_visible": true
    },
    "kernelspec": {
      "name": "python3",
      "display_name": "Python 3"
    },
    "language_info": {
      "name": "python"
    }
  },
  "cells": [
    {
      "cell_type": "markdown",
      "source": [
        "# 549. Расстояние редактирования ✅"
      ],
      "metadata": {
        "id": "CIxvVKUjr8W1"
      }
    },
    {
      "cell_type": "markdown",
      "source": [
        "Даны строки $s$ и $t$.\n",
        "\n",
        "Найдите взвешенное расстояние редактирования (Расстояние Левенштейна) при стоимости вставки\n",
        "$I$, удаления $D$, замены $S$.\n",
        "\n",
        "**Формат ввода**\n",
        "\n",
        "В первой строке два целых числа $n$ и $m (1≤n,m≤1000)$, длины строк $s$ и $t$ соответственно.\n",
        "\n",
        "Во второй строке дано $s$, $s$ состоит из маленьких букв английского алфавита.\n",
        "\n",
        "В третьей строке дано $t$, $t$ состоит из маленьких букв английского алфавита.\n",
        "\n",
        "В четвертой строке три целых числа $I,\n",
        "D$ и $S (1≤I,D,S≤100)$.\n",
        "\n",
        "**Формат вывода**\n",
        "\n",
        "Выведите одно число — минимальную стоимость получения $t$ из $s$ с использованием операций вставки символа, удаления символа и замены символа на любой другой."
      ],
      "metadata": {
        "id": "vduP_ik7r_08"
      }
    },
    {
      "cell_type": "code",
      "execution_count": null,
      "metadata": {
        "id": "ZGrtzIlHrW4R"
      },
      "outputs": [],
      "source": [
        "n, m = list(map(int, input().split()))\n",
        "s = input()\n",
        "t = input()\n",
        "I, D, S = list(map(int, input().split()))"
      ]
    },
    {
      "cell_type": "code",
      "source": [
        "def levenshtein_distance(n, m, s, t, I, D, S):\n",
        "    # Инициализация матрицы dp размером (n+1) x (m+1)\n",
        "    dp = [[0] * (m + 1) for _ in range(n + 1)]\n",
        "\n",
        "    # Инициализация базовых случаев\n",
        "    for i in range(1, n + 1):\n",
        "        dp[i][0] = i * D\n",
        "    for j in range(1, m + 1):\n",
        "        dp[0][j] = j * I\n",
        "\n",
        "    # Заполнение матрицы dp\n",
        "    for i in range(1, n + 1):\n",
        "        for j in range(1, m + 1):\n",
        "            if s[i - 1] == t[j - 1]:\n",
        "                cost_replace = 0\n",
        "            else:\n",
        "                cost_replace = S\n",
        "\n",
        "            dp[i][j] = min(dp[i][j - 1] + I,    # Вставка\n",
        "                           dp[i - 1][j] + D,    # Удаление\n",
        "                           dp[i - 1][j - 1] + cost_replace)  # Замена\n",
        "\n",
        "    # Возвращаем минимальную стоимость преобразования s в t\n",
        "    return dp[n][m]\n",
        "\n",
        "# Пример использования\n",
        "# 7 11\n",
        "# coderun\n",
        "# competition\n",
        "# 1 1 1\n",
        "\n",
        "# 7 11\n",
        "# coderun\n",
        "# competition\n",
        "# 1 1 100\n",
        "\n",
        "# 7 11\n",
        "# coderun\n",
        "# competition\n",
        "# 100 1 1\n",
        "\n",
        "# 7 11\n",
        "# coderun\n",
        "# competition\n",
        "# 1 100 1\n",
        "\n",
        "n, m = list(map(int, input().split()))\n",
        "s = input()\n",
        "t = input()\n",
        "I, D, S = list(map(int, input().split()))\n",
        "\n",
        "print(levenshtein_distance(n, m, s, t, I, D, S))"
      ],
      "metadata": {
        "colab": {
          "base_uri": "https://localhost:8080/"
        },
        "id": "pinZ8urQuI44",
        "outputId": "c5076885-e03d-42a0-cc81-88067d26fd6b"
      },
      "execution_count": null,
      "outputs": [
        {
          "output_type": "stream",
          "name": "stdout",
          "text": [
            "7\n"
          ]
        }
      ]
    },
    {
      "cell_type": "markdown",
      "source": [
        "# 550. Опять эти опечатки"
      ],
      "metadata": {
        "id": "B0FtX5Juu7yZ"
      }
    },
    {
      "cell_type": "markdown",
      "source": [
        "Будем говорить, что две строки $s$ и $t$ похожи, если редакционное расстояние между ними не превосходит определенной величины $k$. Для заданных пар строк выясните, похожи ли они.\n",
        "\n",
        "**Формат ввода**\n",
        "\n",
        "В первой строке записано целое число $n$ − количество тестовых случаев $(1≤n≤1000)$.\n",
        "\n",
        "Описание каждого тестового случая занимает три строки. В первой строке находится целое число $k$ − параметр похожести $(1≤k≤20)$. Во второй строке записана строка $s$, в третьей − строка $t$.\n",
        "\n",
        "Все строки непустые и содержат только строчные буквы английского алфавита. Длина каждой не превосходит $10000$.\n",
        "\n",
        "**Формат вывода**\n",
        "\n",
        "Для каждого тестового случая выведите в отдельной строке слово $Yes$, если редакционное расстояние не превосходит заданного параметра $k$, или слово $No$ в противном случае. Регистр букв не имеет значения."
      ],
      "metadata": {
        "id": "Mxhu3e9Hu9IQ"
      }
    },
    {
      "cell_type": "code",
      "source": [
        "t = int(input())\n",
        "k = int(input())\n",
        "I, D, S = list(map(int, input().split()))\n"
      ],
      "metadata": {
        "id": "dln4yoV9v0Wk"
      },
      "execution_count": null,
      "outputs": []
    },
    {
      "cell_type": "code",
      "source": [
        "def levenshtein_distance_with_limit(s, t, k):\n",
        "    n, m = len(s), len(t)\n",
        "\n",
        "    if abs(n - m) > k:\n",
        "        return False\n",
        "\n",
        "    prev_row = list(range(m + 1))\n",
        "    curr_row = [0] * (m + 1)\n",
        "\n",
        "    for i in range(1, n + 1):\n",
        "        curr_row[0] = i\n",
        "        min_cost = curr_row[0]\n",
        "\n",
        "        for j in range(1, m + 1):\n",
        "            insert_cost = prev_row[j] + 1\n",
        "            delete_cost = curr_row[j - 1] + 1\n",
        "            replace_cost = prev_row[j - 1] + (s[i - 1] != t[j - 1])\n",
        "            curr_row[j] = min(insert_cost, delete_cost, replace_cost)\n",
        "            min_cost = min(min_cost, curr_row[j])\n",
        "\n",
        "        if min_cost > k:\n",
        "            return False\n",
        "\n",
        "        prev_row, curr_row = curr_row, prev_row\n",
        "\n",
        "    return prev_row[m] <= k\n",
        "\n",
        "# n = int(input())\n",
        "# for i in range(n):\n",
        "#     k = int(input())\n",
        "#     t = input()\n",
        "#     s = input()\n",
        "# 3\n",
        "# 1\n",
        "# run\n",
        "# code\n",
        "# 2\n",
        "# run\n",
        "# code\n",
        "# 20\n",
        "# run\n",
        "# code\n",
        "\n",
        "# 10\n",
        "# 4\n",
        "# abacaba\n",
        "# abaaba\n",
        "# 4\n",
        "# abacaba\n",
        "# abacaba\n",
        "# 4\n",
        "# abacaba\n",
        "# acc\n",
        "# 4\n",
        "# abacaba\n",
        "# abacaa\n",
        "# 4\n",
        "# abacaba\n",
        "# b\n",
        "# 4\n",
        "# abacaba\n",
        "# abacaaa\n",
        "# 4\n",
        "# abacaba\n",
        "# babcaabab -\n",
        "# 4\n",
        "# abacaba\n",
        "# abbacaca\n",
        "# 4\n",
        "# abacaba\n",
        "# bacaa\n",
        "# 4\n",
        "# abacaba\n",
        "# acbacbab\n",
        "\n",
        "# n = 3\n",
        "# k = [1,2,20]\n",
        "# t = ['run', 'run', 'run']\n",
        "# s = ['code', 'code', 'code']\n",
        "\n",
        "# n = 10\n",
        "# k = [4,4,4,4,4,4,4,4,4,4]\n",
        "# t = ['abacaba', 'abacaba', 'abacaba', 'abacaba', 'abacaba', 'abacaba', 'abacaba', 'abacaba', 'abacaba', 'abacaba']\n",
        "# s = ['abaaba', 'abacaba', 'acc', 'abacaa', 'b', 'abacaaa', 'babcaabab', 'abbacaca', 'bacaa', 'acbacbab']\n",
        "# for i in range(n):\n",
        "#     k_i = k[i]\n",
        "#     t_i = t[i]\n",
        "#     s_i = s[i]\n",
        "\n",
        "results = []\n",
        "n = int(input())\n",
        "\n",
        "for i in range(n):\n",
        "    k = int(input())\n",
        "    s = input()\n",
        "    t = input()\n",
        "    if levenshtein_distance_with_limit(s, t, k):\n",
        "        results.append(\"Yes\")\n",
        "    else:\n",
        "        results.append(\"No\")\n",
        "\n",
        "for result in results:\n",
        "    print(result)"
      ],
      "metadata": {
        "colab": {
          "base_uri": "https://localhost:8080/"
        },
        "id": "B1qfJrqDxnJ-",
        "outputId": "0e250221-66aa-46ab-8d49-8d5962d4f031"
      },
      "execution_count": null,
      "outputs": [
        {
          "output_type": "stream",
          "name": "stdout",
          "text": [
            "Yes\n",
            "Yes\n",
            "No\n",
            "Yes\n",
            "No\n",
            "Yes\n",
            "Yes\n",
            "Yes\n",
            "Yes\n",
            "Yes\n"
          ]
        }
      ]
    },
    {
      "cell_type": "code",
      "source": [
        "def levenshtein_distance_with_limit(s, t, k):\n",
        "    n, m = len(s), len(t)\n",
        "\n",
        "    if abs(n - m) > k:\n",
        "        return False\n",
        "\n",
        "    # Initialize the previous and current row arrays for dynamic programming\n",
        "    prev_row = [0] * (m + 1)\n",
        "    curr_row = [0] * (m + 1)\n",
        "\n",
        "    # Fill in the base cases\n",
        "    for j in range(1, m + 1):\n",
        "        prev_row[j] = j\n",
        "\n",
        "    # Calculate only for the window of 2*k + 1 around the diagonal\n",
        "    for i in range(1, n + 1):\n",
        "        curr_row[0] = i\n",
        "        for j in range(max(1, i - k), min(m, i + k) + 1):\n",
        "            if s[i - 1] == t[j - 1]:\n",
        "                curr_row[j] = prev_row[j - 1]\n",
        "            else:\n",
        "                curr_row[j] = min(prev_row[j] + 1, curr_row[j - 1] + 1, prev_row[j - 1] + 1)\n",
        "\n",
        "        # Early termination if the minimum cost so far exceeds k\n",
        "        if min(curr_row[max(1, i - k):min(m, i + k) + 1]) > k:\n",
        "            return False\n",
        "\n",
        "        # Swap current and previous row\n",
        "        prev_row, curr_row = curr_row, prev_row\n",
        "\n",
        "    return prev_row[m] <= k\n",
        "\n",
        "n = 10\n",
        "results = []\n",
        "\n",
        "k = [4,4,4,4,4,4,4,4,4,4]\n",
        "t = ['abacaba', 'abacaba', 'abacaba', 'abacaba', 'abacaba', 'abacaba', 'abacaba', 'abacaba', 'abacaba', 'abacaba']\n",
        "s = ['abaaba', 'abacaba', 'acc', 'abacaa', 'b', 'abacaaa', 'babcaabab', 'abbacaca', 'bacaa', 'acbacbab']\n",
        "\n",
        "for i in range(n):\n",
        "    k_i = k[i]\n",
        "    t_i = t[i]\n",
        "    s_i = s[i]\n",
        "\n",
        "    if levenshtein_distance_with_limit(s_i, t_i, k_i):\n",
        "        results.append(\"Yes\")\n",
        "    else:\n",
        "        results.append(\"No\")\n",
        "\n",
        "for result in results:\n",
        "    print(result)\n",
        "\n",
        "# Yes\n",
        "# Yes\n",
        "# No\n",
        "# Yes\n",
        "# No\n",
        "# Yes\n",
        "# Yes\n",
        "# Yes\n",
        "# Yes\n",
        "# Yes"
      ],
      "metadata": {
        "colab": {
          "base_uri": "https://localhost:8080/"
        },
        "id": "BAm6V4df0kMC",
        "outputId": "61a37147-a636-4e0d-a629-2738b305a0a9"
      },
      "execution_count": null,
      "outputs": [
        {
          "output_type": "stream",
          "name": "stdout",
          "text": [
            "Yes\n",
            "Yes\n",
            "Yes\n",
            "Yes\n",
            "No\n",
            "Yes\n",
            "Yes\n",
            "Yes\n",
            "Yes\n",
            "Yes\n"
          ]
        }
      ]
    },
    {
      "cell_type": "code",
      "source": [
        "def levenshtein_distance_with_limit(s, t, k):\n",
        "    n, m = len(s), len(t)\n",
        "\n",
        "    if abs(n - m) > k:\n",
        "        return False\n",
        "\n",
        "    prev_row = list(range(m + 1))\n",
        "    curr_row = [0] * (m + 1)\n",
        "\n",
        "    for i in range(1, n + 1):\n",
        "        curr_row[0] = i\n",
        "        min_cost = curr_row[0]\n",
        "\n",
        "        for j in range(1, m + 1):\n",
        "            insert_cost = prev_row[j] + 1\n",
        "            delete_cost = curr_row[j - 1] + 1\n",
        "            replace_cost = prev_row[j - 1] + (s[i - 1] != t[j - 1])\n",
        "            curr_row[j] = min(insert_cost, delete_cost, replace_cost)\n",
        "            min_cost = min(min_cost, curr_row[j])\n",
        "\n",
        "        if min_cost > k:\n",
        "            return False\n",
        "\n",
        "        prev_row, curr_row = curr_row, prev_row\n",
        "\n",
        "    return prev_row[m] <= k\n",
        "\n",
        "results = []\n",
        "n = int(input())\n",
        "\n",
        "for i in range(n):\n",
        "    k = int(input())\n",
        "    s = input()\n",
        "    t = input()\n",
        "    if levenshtein_distance_with_limit(s, t, k):\n",
        "        results.append(\"Yes\")\n",
        "    else:\n",
        "        results.append(\"No\")\n",
        "\n",
        "for result in results:\n",
        "    print(result)\n",
        "\n",
        "\n",
        "# n = 3\n",
        "# k = [1,2,20]\n",
        "# t = ['run', 'run', 'run']\n",
        "# s = ['code', 'code', 'code']"
      ],
      "metadata": {
        "colab": {
          "base_uri": "https://localhost:8080/"
        },
        "id": "ZOJACXpkQs0B",
        "outputId": "fa7f1aa2-7388-4a3a-a966-f26fc38d0ead"
      },
      "execution_count": null,
      "outputs": [
        {
          "output_type": "stream",
          "name": "stdout",
          "text": [
            "Yes\n",
            "Yes\n",
            "No\n",
            "Yes\n",
            "No\n",
            "Yes\n",
            "Yes\n",
            "Yes\n",
            "Yes\n",
            "Yes\n"
          ]
        }
      ]
    },
    {
      "cell_type": "markdown",
      "source": [
        "**Редакционное расстояние** — это минимальное количество букв, которые нужно вставить, удалить или заменить, чтобы получить из одного слова другое.\n",
        "\n"
      ],
      "metadata": {
        "id": "AYy5FaKvSx46"
      }
    },
    {
      "cell_type": "markdown",
      "source": [
        "# 553. Хорошие точки в кубе"
      ],
      "metadata": {
        "id": "j14CychI3ao3"
      }
    },
    {
      "cell_type": "markdown",
      "source": [
        "Петя очень любит простые алгоритмы, но еще больше он любит простые алгоритмы комбинировать!\n",
        "\n",
        "Реализовав алгоритм генерации случайной точки в единичном кубе с равномерным распределением, Петя задался вопросом, а с какой вероятностью расстояние от полученной точки до ближайшей вершины куба более $\\frac{3}{4}$ ?\n",
        "\n",
        "Помогите Пете ответить на этот вопрос.\n",
        "\n",
        "**Формат вывода**\n",
        "\n",
        "Если значимых цифр после запятой больше шести, округлите ответ до $6$ знаков после запятой или точки (формат $(-)N,NNNNNN$ или $(-)N.NNNNNN$), используя округление до ближайшего (например: $0,1234565$ следует округлить до $0,123457$). Если десятичная запись с 6 знаками заканчивается нулями, то их можно опустить (например: $0,123$ можно представить либо $0,123$, либо $0,1230$, либо $0,12300$, либо $0,123000$)."
      ],
      "metadata": {
        "id": "RpyYY0Jg3bLD"
      }
    },
    {
      "cell_type": "code",
      "source": [
        "# 1 вариант решения\n",
        "import numpy as np\n",
        "\n",
        "def calculate_probability(num_samples=1000000):\n",
        "    # генерируем рандомные точки в кубе [x,y,z]\n",
        "    points = np.random.rand(num_samples, 3)\n",
        "\n",
        "    # вершины единичного куба\n",
        "    vertices = np.array([[0, 0, 0], [0, 0, 1], [0, 1, 0], [0, 1, 1],\n",
        "                         [1, 0, 0], [1, 0, 1], [1, 1, 0], [1, 1, 1]])\n",
        "\n",
        "    # считаем расстояние от точек до каждой вершины\n",
        "    distances = np.linalg.norm(points[:, np.newaxis] - vertices, axis=2)\n",
        "\n",
        "    # находим минимальное расстояние\n",
        "    min_distances = np.min(distances, axis=1)\n",
        "\n",
        "    # Рассчитываем долю точек, где минимальное расстояние больше 3/4\n",
        "    fraction = np.mean(min_distances > 0.75)\n",
        "\n",
        "    return fraction\n",
        "\n",
        "# Calculate and print the probability\n",
        "probability = calculate_probability()\n",
        "print(f\"{probability:.6f}\")\n",
        "probability"
      ],
      "metadata": {
        "colab": {
          "base_uri": "https://localhost:8080/"
        },
        "id": "QT-79Dz5321j",
        "outputId": "299ba784-5de3-495c-f8ce-bb89d955431e"
      },
      "execution_count": null,
      "outputs": [
        {
          "output_type": "stream",
          "name": "stdout",
          "text": [
            "0.012352\n"
          ]
        },
        {
          "output_type": "execute_result",
          "data": {
            "text/plain": [
              "0.012352"
            ]
          },
          "metadata": {},
          "execution_count": 13
        }
      ]
    },
    {
      "cell_type": "markdown",
      "source": [
        "Этот вариант не зашел."
      ],
      "metadata": {
        "id": "8fgJQu_teidt"
      }
    },
    {
      "cell_type": "markdown",
      "source": [
        "**Попробуем построить решение на основе геометрической вероятности.**\n",
        "\n",
        "![image.png](data:image/png;base64,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)"
      ],
      "metadata": {
        "id": "5uC1BCv4elIf"
      }
    },
    {
      "cell_type": "markdown",
      "source": [
        "Если считать, что попадание в любую точку области $W$\n",
        "равновозможно, то вероятность попадания случайной точки в заданное множество $A$ будет равна отношению площадей\n",
        "$$\n",
        "P(A) = \\frac{S(A)}{S(Ω)}\n",
        "$$\n",
        "\n",
        "Где $P$ - вероятность, а $S$ - площадь. Т.е. по сути вероятность равна площади благоприятной области к площади всей области  площадь благоприятной области.\n",
        "\n",
        "По нашей задаче, у нас трехмерное пространство, т.е. вместо площадей будет объем:\n",
        "\n",
        "$$\n",
        "P(A) = \\frac{V(A)}{V(Ω)}\n",
        "$$\n",
        "\n",
        "Где, $V(Ω)$ - объем единичного куба, $V(A)$ - объем нужно области."
      ],
      "metadata": {
        "id": "r47C4jIgfEYr"
      }
    },
    {
      "cell_type": "code",
      "source": [
        "import numpy as np\n",
        "from scipy.integrate import nquad\n",
        "\n",
        "def integrand(x, y, z):\n",
        "    def dist_to_nearest_vertex(x, y, z):\n",
        "        return min(np.sqrt(x**2 + y**2 + z**2),\n",
        "                   np.sqrt((1 - x)**2 + y**2 + z**2),\n",
        "                   np.sqrt(x**2 + (1 - y)**2 + z**2),\n",
        "                   np.sqrt(x**2 + y**2 + (1 - z)**2),\n",
        "                   np.sqrt((1 - x)**2 + (1 - y)**2 + z**2),\n",
        "                   np.sqrt((1 - x)**2 + y**2 + (1 - z)**2),\n",
        "                   np.sqrt(x**2 + (1 - y)**2 + (1 - z)**2),\n",
        "                   np.sqrt((1 - x)**2 + (1 - y)**2 + (1 - z)**2))\n",
        "    return 1 if dist_to_nearest_vertex(x, y, z) > 0.75 else 0\n",
        "\n",
        "def volume_above_distance():\n",
        "    return nquad(integrand, [[0, 1], [0, 1], [0, 1]])[0]\n",
        "\n",
        "# Вычислить объем\n",
        "volume = volume_above_distance()\n",
        "print(f\"Volume: {volume:.6f}\")"
      ],
      "metadata": {
        "colab": {
          "base_uri": "https://localhost:8080/",
          "height": 460
        },
        "id": "UiWqz94OfDoN",
        "outputId": "9b160859-0a28-488b-c677-de75bcbb1496"
      },
      "execution_count": null,
      "outputs": [
        {
          "output_type": "stream",
          "name": "stderr",
          "text": [
            "/usr/local/lib/python3.10/dist-packages/scipy/integrate/_quadpack_py.py:1272: IntegrationWarning: The maximum number of subdivisions (50) has been achieved.\n",
            "  If increasing the limit yields no improvement it is advised to analyze \n",
            "  the integrand in order to determine the difficulties.  If the position of a \n",
            "  local difficulty can be determined (singularity, discontinuity) one will \n",
            "  probably gain from splitting up the interval and calling the integrator \n",
            "  on the subranges.  Perhaps a special-purpose integrator should be used.\n",
            "  quad_r = quad(f, low, high, args=args, full_output=self.full_output,\n"
          ]
        },
        {
          "output_type": "error",
          "ename": "KeyboardInterrupt",
          "evalue": "",
          "traceback": [
            "\u001b[0;31m---------------------------------------------------------------------------\u001b[0m",
            "\u001b[0;31mKeyboardInterrupt\u001b[0m                         Traceback (most recent call last)",
            "\u001b[0;32m<ipython-input-4-37d0c6e6eec6>\u001b[0m in \u001b[0;36m<cell line: 20>\u001b[0;34m()\u001b[0m\n\u001b[1;32m     18\u001b[0m \u001b[0;34m\u001b[0m\u001b[0m\n\u001b[1;32m     19\u001b[0m \u001b[0;31m# Вычислить объем\u001b[0m\u001b[0;34m\u001b[0m\u001b[0;34m\u001b[0m\u001b[0m\n\u001b[0;32m---> 20\u001b[0;31m \u001b[0mvolume\u001b[0m \u001b[0;34m=\u001b[0m \u001b[0mvolume_above_distance\u001b[0m\u001b[0;34m(\u001b[0m\u001b[0;34m)\u001b[0m\u001b[0;34m\u001b[0m\u001b[0;34m\u001b[0m\u001b[0m\n\u001b[0m\u001b[1;32m     21\u001b[0m \u001b[0mprint\u001b[0m\u001b[0;34m(\u001b[0m\u001b[0;34mf\"Volume: {volume:.6f}\"\u001b[0m\u001b[0;34m)\u001b[0m\u001b[0;34m\u001b[0m\u001b[0;34m\u001b[0m\u001b[0m\n",
            "\u001b[0;32m<ipython-input-4-37d0c6e6eec6>\u001b[0m in \u001b[0;36mvolume_above_distance\u001b[0;34m()\u001b[0m\n\u001b[1;32m     15\u001b[0m \u001b[0;34m\u001b[0m\u001b[0m\n\u001b[1;32m     16\u001b[0m \u001b[0;32mdef\u001b[0m \u001b[0mvolume_above_distance\u001b[0m\u001b[0;34m(\u001b[0m\u001b[0;34m)\u001b[0m\u001b[0;34m:\u001b[0m\u001b[0;34m\u001b[0m\u001b[0;34m\u001b[0m\u001b[0m\n\u001b[0;32m---> 17\u001b[0;31m     \u001b[0;32mreturn\u001b[0m \u001b[0mnquad\u001b[0m\u001b[0;34m(\u001b[0m\u001b[0mintegrand\u001b[0m\u001b[0;34m,\u001b[0m \u001b[0;34m[\u001b[0m\u001b[0;34m[\u001b[0m\u001b[0;36m0\u001b[0m\u001b[0;34m,\u001b[0m \u001b[0;36m1\u001b[0m\u001b[0;34m]\u001b[0m\u001b[0;34m,\u001b[0m \u001b[0;34m[\u001b[0m\u001b[0;36m0\u001b[0m\u001b[0;34m,\u001b[0m \u001b[0;36m1\u001b[0m\u001b[0;34m]\u001b[0m\u001b[0;34m,\u001b[0m \u001b[0;34m[\u001b[0m\u001b[0;36m0\u001b[0m\u001b[0;34m,\u001b[0m \u001b[0;36m1\u001b[0m\u001b[0;34m]\u001b[0m\u001b[0;34m]\u001b[0m\u001b[0;34m)\u001b[0m\u001b[0;34m[\u001b[0m\u001b[0;36m0\u001b[0m\u001b[0;34m]\u001b[0m\u001b[0;34m\u001b[0m\u001b[0;34m\u001b[0m\u001b[0m\n\u001b[0m\u001b[1;32m     18\u001b[0m \u001b[0;34m\u001b[0m\u001b[0m\n\u001b[1;32m     19\u001b[0m \u001b[0;31m# Вычислить объем\u001b[0m\u001b[0;34m\u001b[0m\u001b[0;34m\u001b[0m\u001b[0m\n",
            "\u001b[0;32m/usr/local/lib/python3.10/dist-packages/scipy/integrate/_quadpack_py.py\u001b[0m in \u001b[0;36mnquad\u001b[0;34m(func, ranges, args, opts, full_output)\u001b[0m\n\u001b[1;32m   1216\u001b[0m     \u001b[0;32melse\u001b[0m\u001b[0;34m:\u001b[0m\u001b[0;34m\u001b[0m\u001b[0;34m\u001b[0m\u001b[0m\n\u001b[1;32m   1217\u001b[0m         \u001b[0mopts\u001b[0m \u001b[0;34m=\u001b[0m \u001b[0;34m[\u001b[0m\u001b[0mopt\u001b[0m \u001b[0;32mif\u001b[0m \u001b[0mcallable\u001b[0m\u001b[0;34m(\u001b[0m\u001b[0mopt\u001b[0m\u001b[0;34m)\u001b[0m \u001b[0;32melse\u001b[0m \u001b[0m_OptFunc\u001b[0m\u001b[0;34m(\u001b[0m\u001b[0mopt\u001b[0m\u001b[0;34m)\u001b[0m \u001b[0;32mfor\u001b[0m \u001b[0mopt\u001b[0m \u001b[0;32min\u001b[0m \u001b[0mopts\u001b[0m\u001b[0;34m]\u001b[0m\u001b[0;34m\u001b[0m\u001b[0;34m\u001b[0m\u001b[0m\n\u001b[0;32m-> 1218\u001b[0;31m     \u001b[0;32mreturn\u001b[0m \u001b[0m_NQuad\u001b[0m\u001b[0;34m(\u001b[0m\u001b[0mfunc\u001b[0m\u001b[0;34m,\u001b[0m \u001b[0mranges\u001b[0m\u001b[0;34m,\u001b[0m \u001b[0mopts\u001b[0m\u001b[0;34m,\u001b[0m \u001b[0mfull_output\u001b[0m\u001b[0;34m)\u001b[0m\u001b[0;34m.\u001b[0m\u001b[0mintegrate\u001b[0m\u001b[0;34m(\u001b[0m\u001b[0;34m*\u001b[0m\u001b[0margs\u001b[0m\u001b[0;34m)\u001b[0m\u001b[0;34m\u001b[0m\u001b[0;34m\u001b[0m\u001b[0m\n\u001b[0m\u001b[1;32m   1219\u001b[0m \u001b[0;34m\u001b[0m\u001b[0m\n\u001b[1;32m   1220\u001b[0m \u001b[0;34m\u001b[0m\u001b[0m\n",
            "\u001b[0;32m/usr/local/lib/python3.10/dist-packages/scipy/integrate/_quadpack_py.py\u001b[0m in \u001b[0;36mintegrate\u001b[0;34m(self, *args, **kwargs)\u001b[0m\n\u001b[1;32m   1270\u001b[0m         \u001b[0;32melse\u001b[0m\u001b[0;34m:\u001b[0m\u001b[0;34m\u001b[0m\u001b[0;34m\u001b[0m\u001b[0m\n\u001b[1;32m   1271\u001b[0m             \u001b[0mf\u001b[0m \u001b[0;34m=\u001b[0m \u001b[0mpartial\u001b[0m\u001b[0;34m(\u001b[0m\u001b[0mself\u001b[0m\u001b[0;34m.\u001b[0m\u001b[0mintegrate\u001b[0m\u001b[0;34m,\u001b[0m \u001b[0mdepth\u001b[0m\u001b[0;34m=\u001b[0m\u001b[0mdepth\u001b[0m\u001b[0;34m+\u001b[0m\u001b[0;36m1\u001b[0m\u001b[0;34m)\u001b[0m\u001b[0;34m\u001b[0m\u001b[0;34m\u001b[0m\u001b[0m\n\u001b[0;32m-> 1272\u001b[0;31m         quad_r = quad(f, low, high, args=args, full_output=self.full_output,\n\u001b[0m\u001b[1;32m   1273\u001b[0m                       **opt)\n\u001b[1;32m   1274\u001b[0m         \u001b[0mvalue\u001b[0m \u001b[0;34m=\u001b[0m \u001b[0mquad_r\u001b[0m\u001b[0;34m[\u001b[0m\u001b[0;36m0\u001b[0m\u001b[0;34m]\u001b[0m\u001b[0;34m\u001b[0m\u001b[0;34m\u001b[0m\u001b[0m\n",
            "\u001b[0;32m/usr/local/lib/python3.10/dist-packages/scipy/integrate/_quadpack_py.py\u001b[0m in \u001b[0;36mquad\u001b[0;34m(func, a, b, args, full_output, epsabs, epsrel, limit, points, weight, wvar, wopts, maxp1, limlst, complex_func)\u001b[0m\n\u001b[1;32m    462\u001b[0m \u001b[0;34m\u001b[0m\u001b[0m\n\u001b[1;32m    463\u001b[0m     \u001b[0;32mif\u001b[0m \u001b[0mweight\u001b[0m \u001b[0;32mis\u001b[0m \u001b[0;32mNone\u001b[0m\u001b[0;34m:\u001b[0m\u001b[0;34m\u001b[0m\u001b[0;34m\u001b[0m\u001b[0m\n\u001b[0;32m--> 464\u001b[0;31m         retval = _quad(func, a, b, args, full_output, epsabs, epsrel, limit,\n\u001b[0m\u001b[1;32m    465\u001b[0m                        points)\n\u001b[1;32m    466\u001b[0m     \u001b[0;32melse\u001b[0m\u001b[0;34m:\u001b[0m\u001b[0;34m\u001b[0m\u001b[0;34m\u001b[0m\u001b[0m\n",
            "\u001b[0;32m/usr/local/lib/python3.10/dist-packages/scipy/integrate/_quadpack_py.py\u001b[0m in \u001b[0;36m_quad\u001b[0;34m(func, a, b, args, full_output, epsabs, epsrel, limit, points)\u001b[0m\n\u001b[1;32m    609\u001b[0m     \u001b[0;32mif\u001b[0m \u001b[0mpoints\u001b[0m \u001b[0;32mis\u001b[0m \u001b[0;32mNone\u001b[0m\u001b[0;34m:\u001b[0m\u001b[0;34m\u001b[0m\u001b[0;34m\u001b[0m\u001b[0m\n\u001b[1;32m    610\u001b[0m         \u001b[0;32mif\u001b[0m \u001b[0minfbounds\u001b[0m \u001b[0;34m==\u001b[0m \u001b[0;36m0\u001b[0m\u001b[0;34m:\u001b[0m\u001b[0;34m\u001b[0m\u001b[0;34m\u001b[0m\u001b[0m\n\u001b[0;32m--> 611\u001b[0;31m             \u001b[0;32mreturn\u001b[0m \u001b[0m_quadpack\u001b[0m\u001b[0;34m.\u001b[0m\u001b[0m_qagse\u001b[0m\u001b[0;34m(\u001b[0m\u001b[0mfunc\u001b[0m\u001b[0;34m,\u001b[0m\u001b[0ma\u001b[0m\u001b[0;34m,\u001b[0m\u001b[0mb\u001b[0m\u001b[0;34m,\u001b[0m\u001b[0margs\u001b[0m\u001b[0;34m,\u001b[0m\u001b[0mfull_output\u001b[0m\u001b[0;34m,\u001b[0m\u001b[0mepsabs\u001b[0m\u001b[0;34m,\u001b[0m\u001b[0mepsrel\u001b[0m\u001b[0;34m,\u001b[0m\u001b[0mlimit\u001b[0m\u001b[0;34m)\u001b[0m\u001b[0;34m\u001b[0m\u001b[0;34m\u001b[0m\u001b[0m\n\u001b[0m\u001b[1;32m    612\u001b[0m         \u001b[0;32melse\u001b[0m\u001b[0;34m:\u001b[0m\u001b[0;34m\u001b[0m\u001b[0;34m\u001b[0m\u001b[0m\n\u001b[1;32m    613\u001b[0m             return _quadpack._qagie(func, bound, infbounds, args, full_output, \n",
            "\u001b[0;32m/usr/local/lib/python3.10/dist-packages/scipy/integrate/_quadpack_py.py\u001b[0m in \u001b[0;36mintegrate\u001b[0;34m(self, *args, **kwargs)\u001b[0m\n\u001b[1;32m   1270\u001b[0m         \u001b[0;32melse\u001b[0m\u001b[0;34m:\u001b[0m\u001b[0;34m\u001b[0m\u001b[0;34m\u001b[0m\u001b[0m\n\u001b[1;32m   1271\u001b[0m             \u001b[0mf\u001b[0m \u001b[0;34m=\u001b[0m \u001b[0mpartial\u001b[0m\u001b[0;34m(\u001b[0m\u001b[0mself\u001b[0m\u001b[0;34m.\u001b[0m\u001b[0mintegrate\u001b[0m\u001b[0;34m,\u001b[0m \u001b[0mdepth\u001b[0m\u001b[0;34m=\u001b[0m\u001b[0mdepth\u001b[0m\u001b[0;34m+\u001b[0m\u001b[0;36m1\u001b[0m\u001b[0;34m)\u001b[0m\u001b[0;34m\u001b[0m\u001b[0;34m\u001b[0m\u001b[0m\n\u001b[0;32m-> 1272\u001b[0;31m         quad_r = quad(f, low, high, args=args, full_output=self.full_output,\n\u001b[0m\u001b[1;32m   1273\u001b[0m                       **opt)\n\u001b[1;32m   1274\u001b[0m         \u001b[0mvalue\u001b[0m \u001b[0;34m=\u001b[0m \u001b[0mquad_r\u001b[0m\u001b[0;34m[\u001b[0m\u001b[0;36m0\u001b[0m\u001b[0;34m]\u001b[0m\u001b[0;34m\u001b[0m\u001b[0;34m\u001b[0m\u001b[0m\n",
            "\u001b[0;32m/usr/local/lib/python3.10/dist-packages/scipy/integrate/_quadpack_py.py\u001b[0m in \u001b[0;36mquad\u001b[0;34m(func, a, b, args, full_output, epsabs, epsrel, limit, points, weight, wvar, wopts, maxp1, limlst, complex_func)\u001b[0m\n\u001b[1;32m    462\u001b[0m \u001b[0;34m\u001b[0m\u001b[0m\n\u001b[1;32m    463\u001b[0m     \u001b[0;32mif\u001b[0m \u001b[0mweight\u001b[0m \u001b[0;32mis\u001b[0m \u001b[0;32mNone\u001b[0m\u001b[0;34m:\u001b[0m\u001b[0;34m\u001b[0m\u001b[0;34m\u001b[0m\u001b[0m\n\u001b[0;32m--> 464\u001b[0;31m         retval = _quad(func, a, b, args, full_output, epsabs, epsrel, limit,\n\u001b[0m\u001b[1;32m    465\u001b[0m                        points)\n\u001b[1;32m    466\u001b[0m     \u001b[0;32melse\u001b[0m\u001b[0;34m:\u001b[0m\u001b[0;34m\u001b[0m\u001b[0;34m\u001b[0m\u001b[0m\n",
            "\u001b[0;32m/usr/local/lib/python3.10/dist-packages/scipy/integrate/_quadpack_py.py\u001b[0m in \u001b[0;36m_quad\u001b[0;34m(func, a, b, args, full_output, epsabs, epsrel, limit, points)\u001b[0m\n\u001b[1;32m    609\u001b[0m     \u001b[0;32mif\u001b[0m \u001b[0mpoints\u001b[0m \u001b[0;32mis\u001b[0m \u001b[0;32mNone\u001b[0m\u001b[0;34m:\u001b[0m\u001b[0;34m\u001b[0m\u001b[0;34m\u001b[0m\u001b[0m\n\u001b[1;32m    610\u001b[0m         \u001b[0;32mif\u001b[0m \u001b[0minfbounds\u001b[0m \u001b[0;34m==\u001b[0m \u001b[0;36m0\u001b[0m\u001b[0;34m:\u001b[0m\u001b[0;34m\u001b[0m\u001b[0;34m\u001b[0m\u001b[0m\n\u001b[0;32m--> 611\u001b[0;31m             \u001b[0;32mreturn\u001b[0m \u001b[0m_quadpack\u001b[0m\u001b[0;34m.\u001b[0m\u001b[0m_qagse\u001b[0m\u001b[0;34m(\u001b[0m\u001b[0mfunc\u001b[0m\u001b[0;34m,\u001b[0m\u001b[0ma\u001b[0m\u001b[0;34m,\u001b[0m\u001b[0mb\u001b[0m\u001b[0;34m,\u001b[0m\u001b[0margs\u001b[0m\u001b[0;34m,\u001b[0m\u001b[0mfull_output\u001b[0m\u001b[0;34m,\u001b[0m\u001b[0mepsabs\u001b[0m\u001b[0;34m,\u001b[0m\u001b[0mepsrel\u001b[0m\u001b[0;34m,\u001b[0m\u001b[0mlimit\u001b[0m\u001b[0;34m)\u001b[0m\u001b[0;34m\u001b[0m\u001b[0;34m\u001b[0m\u001b[0m\n\u001b[0m\u001b[1;32m    612\u001b[0m         \u001b[0;32melse\u001b[0m\u001b[0;34m:\u001b[0m\u001b[0;34m\u001b[0m\u001b[0;34m\u001b[0m\u001b[0m\n\u001b[1;32m    613\u001b[0m             return _quadpack._qagie(func, bound, infbounds, args, full_output, \n",
            "\u001b[0;32m/usr/local/lib/python3.10/dist-packages/scipy/integrate/_quadpack_py.py\u001b[0m in \u001b[0;36mintegrate\u001b[0;34m(self, *args, **kwargs)\u001b[0m\n\u001b[1;32m   1270\u001b[0m         \u001b[0;32melse\u001b[0m\u001b[0;34m:\u001b[0m\u001b[0;34m\u001b[0m\u001b[0;34m\u001b[0m\u001b[0m\n\u001b[1;32m   1271\u001b[0m             \u001b[0mf\u001b[0m \u001b[0;34m=\u001b[0m \u001b[0mpartial\u001b[0m\u001b[0;34m(\u001b[0m\u001b[0mself\u001b[0m\u001b[0;34m.\u001b[0m\u001b[0mintegrate\u001b[0m\u001b[0;34m,\u001b[0m \u001b[0mdepth\u001b[0m\u001b[0;34m=\u001b[0m\u001b[0mdepth\u001b[0m\u001b[0;34m+\u001b[0m\u001b[0;36m1\u001b[0m\u001b[0;34m)\u001b[0m\u001b[0;34m\u001b[0m\u001b[0;34m\u001b[0m\u001b[0m\n\u001b[0;32m-> 1272\u001b[0;31m         quad_r = quad(f, low, high, args=args, full_output=self.full_output,\n\u001b[0m\u001b[1;32m   1273\u001b[0m                       **opt)\n\u001b[1;32m   1274\u001b[0m         \u001b[0mvalue\u001b[0m \u001b[0;34m=\u001b[0m \u001b[0mquad_r\u001b[0m\u001b[0;34m[\u001b[0m\u001b[0;36m0\u001b[0m\u001b[0;34m]\u001b[0m\u001b[0;34m\u001b[0m\u001b[0;34m\u001b[0m\u001b[0m\n",
            "\u001b[0;32m/usr/local/lib/python3.10/dist-packages/scipy/integrate/_quadpack_py.py\u001b[0m in \u001b[0;36mquad\u001b[0;34m(func, a, b, args, full_output, epsabs, epsrel, limit, points, weight, wvar, wopts, maxp1, limlst, complex_func)\u001b[0m\n\u001b[1;32m    462\u001b[0m \u001b[0;34m\u001b[0m\u001b[0m\n\u001b[1;32m    463\u001b[0m     \u001b[0;32mif\u001b[0m \u001b[0mweight\u001b[0m \u001b[0;32mis\u001b[0m \u001b[0;32mNone\u001b[0m\u001b[0;34m:\u001b[0m\u001b[0;34m\u001b[0m\u001b[0;34m\u001b[0m\u001b[0m\n\u001b[0;32m--> 464\u001b[0;31m         retval = _quad(func, a, b, args, full_output, epsabs, epsrel, limit,\n\u001b[0m\u001b[1;32m    465\u001b[0m                        points)\n\u001b[1;32m    466\u001b[0m     \u001b[0;32melse\u001b[0m\u001b[0;34m:\u001b[0m\u001b[0;34m\u001b[0m\u001b[0;34m\u001b[0m\u001b[0m\n",
            "\u001b[0;32m/usr/local/lib/python3.10/dist-packages/scipy/integrate/_quadpack_py.py\u001b[0m in \u001b[0;36m_quad\u001b[0;34m(func, a, b, args, full_output, epsabs, epsrel, limit, points)\u001b[0m\n\u001b[1;32m    609\u001b[0m     \u001b[0;32mif\u001b[0m \u001b[0mpoints\u001b[0m \u001b[0;32mis\u001b[0m \u001b[0;32mNone\u001b[0m\u001b[0;34m:\u001b[0m\u001b[0;34m\u001b[0m\u001b[0;34m\u001b[0m\u001b[0m\n\u001b[1;32m    610\u001b[0m         \u001b[0;32mif\u001b[0m \u001b[0minfbounds\u001b[0m \u001b[0;34m==\u001b[0m \u001b[0;36m0\u001b[0m\u001b[0;34m:\u001b[0m\u001b[0;34m\u001b[0m\u001b[0;34m\u001b[0m\u001b[0m\n\u001b[0;32m--> 611\u001b[0;31m             \u001b[0;32mreturn\u001b[0m \u001b[0m_quadpack\u001b[0m\u001b[0;34m.\u001b[0m\u001b[0m_qagse\u001b[0m\u001b[0;34m(\u001b[0m\u001b[0mfunc\u001b[0m\u001b[0;34m,\u001b[0m\u001b[0ma\u001b[0m\u001b[0;34m,\u001b[0m\u001b[0mb\u001b[0m\u001b[0;34m,\u001b[0m\u001b[0margs\u001b[0m\u001b[0;34m,\u001b[0m\u001b[0mfull_output\u001b[0m\u001b[0;34m,\u001b[0m\u001b[0mepsabs\u001b[0m\u001b[0;34m,\u001b[0m\u001b[0mepsrel\u001b[0m\u001b[0;34m,\u001b[0m\u001b[0mlimit\u001b[0m\u001b[0;34m)\u001b[0m\u001b[0;34m\u001b[0m\u001b[0;34m\u001b[0m\u001b[0m\n\u001b[0m\u001b[1;32m    612\u001b[0m         \u001b[0;32melse\u001b[0m\u001b[0;34m:\u001b[0m\u001b[0;34m\u001b[0m\u001b[0;34m\u001b[0m\u001b[0m\n\u001b[1;32m    613\u001b[0m             return _quadpack._qagie(func, bound, infbounds, args, full_output, \n",
            "\u001b[0;32m<ipython-input-4-37d0c6e6eec6>\u001b[0m in \u001b[0;36mintegrand\u001b[0;34m(x, y, z)\u001b[0m\n\u001b[1;32m     12\u001b[0m                    \u001b[0mnp\u001b[0m\u001b[0;34m.\u001b[0m\u001b[0msqrt\u001b[0m\u001b[0;34m(\u001b[0m\u001b[0mx\u001b[0m\u001b[0;34m**\u001b[0m\u001b[0;36m2\u001b[0m \u001b[0;34m+\u001b[0m \u001b[0;34m(\u001b[0m\u001b[0;36m1\u001b[0m \u001b[0;34m-\u001b[0m \u001b[0my\u001b[0m\u001b[0;34m)\u001b[0m\u001b[0;34m**\u001b[0m\u001b[0;36m2\u001b[0m \u001b[0;34m+\u001b[0m \u001b[0;34m(\u001b[0m\u001b[0;36m1\u001b[0m \u001b[0;34m-\u001b[0m \u001b[0mz\u001b[0m\u001b[0;34m)\u001b[0m\u001b[0;34m**\u001b[0m\u001b[0;36m2\u001b[0m\u001b[0;34m)\u001b[0m\u001b[0;34m,\u001b[0m\u001b[0;34m\u001b[0m\u001b[0;34m\u001b[0m\u001b[0m\n\u001b[1;32m     13\u001b[0m                    np.sqrt((1 - x)**2 + (1 - y)**2 + (1 - z)**2))\n\u001b[0;32m---> 14\u001b[0;31m     \u001b[0;32mreturn\u001b[0m \u001b[0;36m1\u001b[0m \u001b[0;32mif\u001b[0m \u001b[0mdist_to_nearest_vertex\u001b[0m\u001b[0;34m(\u001b[0m\u001b[0mx\u001b[0m\u001b[0;34m,\u001b[0m \u001b[0my\u001b[0m\u001b[0;34m,\u001b[0m \u001b[0mz\u001b[0m\u001b[0;34m)\u001b[0m \u001b[0;34m>\u001b[0m \u001b[0;36m0.75\u001b[0m \u001b[0;32melse\u001b[0m \u001b[0;36m0\u001b[0m\u001b[0;34m\u001b[0m\u001b[0;34m\u001b[0m\u001b[0m\n\u001b[0m\u001b[1;32m     15\u001b[0m \u001b[0;34m\u001b[0m\u001b[0m\n\u001b[1;32m     16\u001b[0m \u001b[0;32mdef\u001b[0m \u001b[0mvolume_above_distance\u001b[0m\u001b[0;34m(\u001b[0m\u001b[0;34m)\u001b[0m\u001b[0;34m:\u001b[0m\u001b[0;34m\u001b[0m\u001b[0;34m\u001b[0m\u001b[0m\n",
            "\u001b[0;32m<ipython-input-4-37d0c6e6eec6>\u001b[0m in \u001b[0;36mdist_to_nearest_vertex\u001b[0;34m(x, y, z)\u001b[0m\n\u001b[1;32m      4\u001b[0m \u001b[0;32mdef\u001b[0m \u001b[0mintegrand\u001b[0m\u001b[0;34m(\u001b[0m\u001b[0mx\u001b[0m\u001b[0;34m,\u001b[0m \u001b[0my\u001b[0m\u001b[0;34m,\u001b[0m \u001b[0mz\u001b[0m\u001b[0;34m)\u001b[0m\u001b[0;34m:\u001b[0m\u001b[0;34m\u001b[0m\u001b[0;34m\u001b[0m\u001b[0m\n\u001b[1;32m      5\u001b[0m     \u001b[0;32mdef\u001b[0m \u001b[0mdist_to_nearest_vertex\u001b[0m\u001b[0;34m(\u001b[0m\u001b[0mx\u001b[0m\u001b[0;34m,\u001b[0m \u001b[0my\u001b[0m\u001b[0;34m,\u001b[0m \u001b[0mz\u001b[0m\u001b[0;34m)\u001b[0m\u001b[0;34m:\u001b[0m\u001b[0;34m\u001b[0m\u001b[0;34m\u001b[0m\u001b[0m\n\u001b[0;32m----> 6\u001b[0;31m         return min(np.sqrt(x**2 + y**2 + z**2),\n\u001b[0m\u001b[1;32m      7\u001b[0m                    \u001b[0mnp\u001b[0m\u001b[0;34m.\u001b[0m\u001b[0msqrt\u001b[0m\u001b[0;34m(\u001b[0m\u001b[0;34m(\u001b[0m\u001b[0;36m1\u001b[0m \u001b[0;34m-\u001b[0m \u001b[0mx\u001b[0m\u001b[0;34m)\u001b[0m\u001b[0;34m**\u001b[0m\u001b[0;36m2\u001b[0m \u001b[0;34m+\u001b[0m \u001b[0my\u001b[0m\u001b[0;34m**\u001b[0m\u001b[0;36m2\u001b[0m \u001b[0;34m+\u001b[0m \u001b[0mz\u001b[0m\u001b[0;34m**\u001b[0m\u001b[0;36m2\u001b[0m\u001b[0;34m)\u001b[0m\u001b[0;34m,\u001b[0m\u001b[0;34m\u001b[0m\u001b[0;34m\u001b[0m\u001b[0m\n\u001b[1;32m      8\u001b[0m                    \u001b[0mnp\u001b[0m\u001b[0;34m.\u001b[0m\u001b[0msqrt\u001b[0m\u001b[0;34m(\u001b[0m\u001b[0mx\u001b[0m\u001b[0;34m**\u001b[0m\u001b[0;36m2\u001b[0m \u001b[0;34m+\u001b[0m \u001b[0;34m(\u001b[0m\u001b[0;36m1\u001b[0m \u001b[0;34m-\u001b[0m \u001b[0my\u001b[0m\u001b[0;34m)\u001b[0m\u001b[0;34m**\u001b[0m\u001b[0;36m2\u001b[0m \u001b[0;34m+\u001b[0m \u001b[0mz\u001b[0m\u001b[0;34m**\u001b[0m\u001b[0;36m2\u001b[0m\u001b[0;34m)\u001b[0m\u001b[0;34m,\u001b[0m\u001b[0;34m\u001b[0m\u001b[0;34m\u001b[0m\u001b[0m\n",
            "\u001b[0;31mKeyboardInterrupt\u001b[0m: "
          ]
        }
      ]
    },
    {
      "cell_type": "markdown",
      "source": [
        "По сути благоприятная область, это светло голубая область выше внутреннего куба, но меньше единичного куба."
      ],
      "metadata": {
        "id": "FNUGwmGNg47h"
      }
    },
    {
      "cell_type": "code",
      "source": [
        "import numpy as np\n",
        "\n",
        "def monte_carlo_probability(num_samples=1000000):\n",
        "    count_inside = 0\n",
        "    points = np.random.rand(num_samples, 3)\n",
        "\n",
        "    for point in points:\n",
        "        x, y, z = point\n",
        "        min_dist = min(np.sqrt(x**2 + y**2 + z**2),\n",
        "                       np.sqrt((1 - x)**2 + y**2 + z**2),\n",
        "                       np.sqrt(x**2 + (1 - y)**2 + z**2),\n",
        "                       np.sqrt(x**2 + y**2 + (1 - z)**2),\n",
        "                       np.sqrt((1 - x)**2 + (1 - y)**2 + z**2),\n",
        "                       np.sqrt((1 - x)**2 + y**2 + (1 - z)**2),\n",
        "                       np.sqrt(x**2 + (1 - y)**2 + (1 - z)**2),\n",
        "                       np.sqrt((1 - x)**2 + (1 - y)**2 + (1 - z)**2))\n",
        "\n",
        "        if min_dist > 0.75:\n",
        "            count_inside += 1\n",
        "\n",
        "    probability = count_inside / num_samples\n",
        "    return round(probability, 6)\n",
        "\n",
        "probability = monte_carlo_probability()\n",
        "print(f\"{probability:.6f}\")"
      ],
      "metadata": {
        "colab": {
          "base_uri": "https://localhost:8080/"
        },
        "id": "Mzhl3o2NeiM-",
        "outputId": "e046e9f2-5460-4bf9-c625-b29d1fef1edd"
      },
      "execution_count": null,
      "outputs": [
        {
          "output_type": "stream",
          "name": "stdout",
          "text": [
            "0.012505\n"
          ]
        }
      ]
    },
    {
      "cell_type": "code",
      "source": [
        "num_samples = 2\n",
        "points = np.random.rand(num_samples, 3)\n",
        "points"
      ],
      "metadata": {
        "colab": {
          "base_uri": "https://localhost:8080/"
        },
        "id": "eNAcswTE49Cs",
        "outputId": "598e48cf-3fc4-4634-c147-8862e1a79cac"
      },
      "execution_count": null,
      "outputs": [
        {
          "output_type": "execute_result",
          "data": {
            "text/plain": [
              "array([[0.42026924, 0.76701419, 0.91855903],\n",
              "       [0.60368059, 0.41160624, 0.82460222]])"
            ]
          },
          "metadata": {},
          "execution_count": 11
        }
      ]
    },
    {
      "cell_type": "code",
      "source": [
        "import matplotlib.pyplot as plt\n",
        "\n",
        "# Данные экспериментов\n",
        "fpr_experiment1 = 0.4\n",
        "tpr_experiment1 = 0.8\n",
        "fpr_experiment2 = 0.2\n",
        "tpr_experiment2 = 0.6\n",
        "\n",
        "# Создание точек ROC-кривой\n",
        "fpr = [0, fpr_experiment2, fpr_experiment1, 1]\n",
        "tpr = [0, tpr_experiment2, tpr_experiment1, 1]\n",
        "\n",
        "# Построение ROC-кривой\n",
        "plt.figure()\n",
        "plt.plot(fpr, tpr, marker='o', linestyle='-', color='b')\n",
        "\n",
        "# Добавление линий для диагонали\n",
        "plt.plot([0, 1], [0, 1], linestyle='--', color='gray')\n",
        "\n",
        "# Настройка графика\n",
        "plt.title('ROC Curve')\n",
        "plt.xlabel('False Positive Rate')\n",
        "plt.ylabel('True Positive Rate')\n",
        "plt.xlim([0, 1])\n",
        "plt.ylim([0, 1])\n",
        "plt.grid(True)\n",
        "\n",
        "plt.show()"
      ],
      "metadata": {
        "colab": {
          "base_uri": "https://localhost:8080/",
          "height": 472
        },
        "id": "cMFuMo1YTfm6",
        "outputId": "4cfcf04d-ed3f-4a64-d799-0859e10f6a54"
      },
      "execution_count": null,
      "outputs": [
        {
          "output_type": "display_data",
          "data": {
            "text/plain": [
              "<Figure size 640x480 with 1 Axes>"
            ],
            "image/png": "[encoded data removed]"
          },
          "metadata": {}
        }
      ]
    },
    {
      "cell_type": "markdown",
      "source": [
        "лассификатор Антиголубь должен отличать котов от голубей, чтобы Мария Владимировна из задачи \"Найди кота!\" была спокойна, что корм для кошек не крадут голуби. Для этой задачи стажёр Тимур привлёк Кирилла, своего друга, с которым он познакомился на стажировке. Тимур и Кирилл написали классификаторы для потока, про который известно, что голубей там ровно половина.\n",
        "\n",
        "Классификатор Тимура опознаёт 80% голубей из всех голубей, но находит (ошибочно) 40% голубей среди всех котов. Классификатор Кирилла опознаёт 60% голубей из всех голубей, но считает голубем 20% котов.\n",
        "\n",
        "Если предположить, что они написали один и тот же классификатор, определяющий посещения кормушки голубями, в пределах от 0 до 1, но выбрали различный порог срабатывания, какая у этого классификатора может быть максимальная f-мера?\n",
        "\n",
        "Pressision = 0.60771904, So Recall = 0.941474, So F1(max) = 2*0.60771904*0.941474/(0.60771904 + 0.941474)"
      ],
      "metadata": {
        "id": "LUXCywlPU1rv"
      }
    },
    {
      "cell_type": "code",
      "source": [
        "from numpy import linspace\n",
        "\n",
        "def F(x, y):\n",
        "    if x + y == 0:\n",
        "        return float('-inf')  # Avoid division by zero\n",
        "    return 2 * x * y / (x + y)\n",
        "\n",
        "max_value = float('-inf')\n",
        "max_x = 0\n",
        "\n",
        "size = 10_000\n",
        "left = 0\n",
        "right = 1\n",
        "\n",
        "for epoch in range(10):\n",
        "    x_values = linspace(left, right, size)\n",
        "\n",
        "    for x in x_values:\n",
        "        y = -12 * x / 5 + 12 / 5\n",
        "        current_value = F(x, y)\n",
        "        if current_value > max_value:\n",
        "            max_value = current_value\n",
        "            max_x = x\n",
        "\n",
        "    # Update the search range centered around max_x\n",
        "    range_width = (right - left) / 3\n",
        "    left = max(0, max_x - range_width)\n",
        "    right = min(1, max_x + range_width)\n",
        "    # print(f\"Epoch {epoch+1}: left = {left}, max_x = {max_x}, right = {right}, max_value = {max_value}\")\n",
        "\n",
        "print(f\"Maximum value of F = {max_value} at x = {max_x}\")\n",
        "print(\"Rounded:\", round(max_value, 6))"
      ],
      "metadata": {
        "colab": {
          "base_uri": "https://localhost:8080/"
        },
        "id": "p8KiWRHOU2P1",
        "outputId": "ff336c36-2956-4b24-ceb9-cdf495092717"
      },
      "execution_count": null,
      "outputs": [
        {
          "output_type": "stream",
          "name": "stdout",
          "text": [
            "Maximum value of F = 0.7386448727353314 at x = 0.6077196552658366\n",
            "Rounded: 0.738645\n"
          ]
        }
      ]
    },
    {
      "cell_type": "markdown",
      "source": [
        "# 566. Пушистики ✅"
      ],
      "metadata": {
        "id": "xZyXXaUHjjpO"
      }
    },
    {
      "cell_type": "markdown",
      "source": [
        "Ветеринарные клиники способны за короткий промежуток времени принять очень большое количество хвостатых посетителей, но к сожалению, количество мест остается ограниченным.\n",
        "\n",
        "У ветеринара есть медкарты $N$ питомцев, для каждого питомца известно время, которое потребуется на процедуры. У ветеринара смена длиться $t$ времени.\n",
        "\n",
        "И, естественно, он хочет помочь как можно большему числу пушистиков. Для того, чтобы придумать оптимальный режим работы, нужно много анализировать. И первое, что заинтересовало ветеринара - какое максимальное количество питомцев смогут получить помощь, если он будет работать оптимально. Так как животных много, и ветеринару некогда заниматься этими расчётами, он попросил вас помочь с этим.\n",
        "\n",
        "**Формат ввода**\n",
        "\n",
        "В первой строке содержится два целых числа $n(1<=10^5)$ и $t(\n",
        "1≤10^{18})$.\n",
        "\n",
        "Во второй строке содержится ровно $n$ целых чисел $a_i (1≤10^{18})$.\n",
        "\n",
        "**Формат вывода**\n",
        "\n",
        "В единственной строке выведите одно целое число, обозначающее максимальное количество пушистых пациентов, которых может взять ветеринар."
      ],
      "metadata": {
        "id": "7Cjwdp-Qjk51"
      }
    },
    {
      "cell_type": "code",
      "source": [
        "# n - число питомцев\n",
        "# t - длительность смены врача\n",
        "n, t = list(map(int, input().split()))\n",
        "\n",
        "# время на каждого питомца\n",
        "a = list(map(int, input().split()))\n",
        "# 4 8\n",
        "# 5 10 3 2\n",
        "# Ответ: 2\n",
        "\n",
        "# 4 1\n",
        "# 2 3 5 4\n",
        "# Ответ: 0"
      ],
      "metadata": {
        "id": "v3i9f019kE-0"
      },
      "execution_count": null,
      "outputs": []
    },
    {
      "cell_type": "code",
      "source": [
        "def max_pets(n, t, times):\n",
        "    # Сортируем массив времен\n",
        "    times.sort()\n",
        "\n",
        "    # Инициализируем переменные\n",
        "    total_time = 0\n",
        "    count = 0\n",
        "\n",
        "    # Проходим по отсортированному массиву\n",
        "    for time in times:\n",
        "        if total_time + time <= t:\n",
        "            total_time += time\n",
        "            count += 1\n",
        "        else:\n",
        "            break  # Как только время превышает t, прекращаем подсчет\n",
        "\n",
        "    return count\n",
        "\n",
        "# Чтение входных данных\n",
        "n, t = map(int, input().split())\n",
        "times = list(map(int, input().split()))\n",
        "\n",
        "# Получение результата\n",
        "result = max_pets(n, t, times)\n",
        "\n",
        "# Вывод результата\n",
        "print(result)"
      ],
      "metadata": {
        "colab": {
          "base_uri": "https://localhost:8080/"
        },
        "id": "zf8Yjbpdlyav",
        "outputId": "162cb5ee-4a26-4641-a651-2590fb835410"
      },
      "execution_count": null,
      "outputs": [
        {
          "output_type": "stream",
          "name": "stdout",
          "text": [
            "4 1\n",
            "2 3 5 4\n",
            "0\n"
          ]
        }
      ]
    },
    {
      "cell_type": "markdown",
      "source": [
        "# 567. Найди кота! ✅"
      ],
      "metadata": {
        "id": "xMVzNzOYmJdq"
      }
    },
    {
      "cell_type": "markdown",
      "source": [
        "У стажёра Тимура есть любимая бабуля Мария Владимировна. Баба Маня регулярно подкармливает кошек возле своего дома. Тимур не просто стажёр, а стажёр-разработчик! Поэтому он решил автоматизировать пополнение миски с кормом. Для этого Тимур поставил камеру и при помощи алгоритмов компьютерного зрения научился выделять кошек на фото (чтобы всю еду не склевали голуби).\n",
        "\n",
        "Фото котов:"
      ],
      "metadata": {
        "id": "ywJVL-vpmjlD"
      }
    },
    {
      "cell_type": "markdown",
      "source": [
        "![markdown.jpg](data:image/jpeg;base64,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)"
      ],
      "metadata": {
        "id": "m-hdMyIKmk8O"
      }
    },
    {
      "cell_type": "markdown",
      "source": [
        "Выделенные с помощью алгоритмов компьютерного зрения коты:\n",
        "\n",
        "![markdown (1).jpg](data:image/jpeg;base64,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)"
      ],
      "metadata": {
        "id": "6EhR-WhPmnGU"
      }
    },
    {
      "cell_type": "markdown",
      "source": [
        "Баба Маня справедливо подсказала Тимуру, что надо бы не просто знать, что кошки пришли поесть к миске, но и посчитать их количество и насыпать необходимое количество порций корма. А сестра Тимура предложила сделать аккаунт с фото кошек, чтобы найти им хозяев. Для этого нужно не просто посчитать кошек на фото, но и научиться разделять кошек между собой, имея выделенные области со всеми кошками, например, вот так:\n",
        "\n",
        "![markdown (2).jpg](data:image/jpeg;base64,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)"
      ],
      "metadata": {
        "id": "JIcTHgeFmq_p"
      }
    },
    {
      "cell_type": "markdown",
      "source": [
        "Кошки, которые приходят поесть из миски, ведут себя очень воспитанно и соблюдают социальную кошачью дистанцию. Поэтому гарантируется, что кошки на фотографии не соседствуют по горизонтальным или вертикальным пикселям. Но разные кошки могут находиться в соседних пикселях друг с другом по диагонали.\n",
        "\n",
        "Помогите Тимуру и бабе Мане посчитать кошек и найти каждую из них на результатах уже имеющегося алгоритма!\n",
        "\n",
        "**Формат ввода**\n",
        "\n",
        "На вход подается результат первичной сегментации: $M$ строк, в каждой из них $N$ целых чисел ($0$ обозначает фон, $1$ − области, где алгоритм нашел кошку). $1≤N,M≤500$.\n",
        "\n",
        "**Формат вывода**\n",
        "\n",
        "В первой строке выведите число уникальных найденных на сегментации объектов.\n",
        "\n",
        "Далее выведите матрицу размера $N×M$ (как и входная матрица) с разметкой общих сегментированных областей на отдельные объекты (у каждого объекта должен быть свой уникальный номер)."
      ],
      "metadata": {
        "id": "ryuClWaDmwlO"
      }
    },
    {
      "cell_type": "markdown",
      "source": [
        "Пример 1\n",
        "\n",
        "Ввод:\n",
        "\n",
        "```\n",
        "1 0 1\n",
        "0 0 0\n",
        "0 1 0\n",
        "```\n",
        "Вывод:\n",
        "\n",
        "`3`\n",
        "\n",
        "```\n",
        "1 0 2\n",
        "0 0 0\n",
        "0 3 0\n",
        "```"
      ],
      "metadata": {
        "id": "PdyJ7XbZnMcv"
      }
    },
    {
      "cell_type": "code",
      "source": [
        "import numpy as np\n",
        "import sys\n",
        "\n",
        "# Чтение всех данных из стандартного ввода\n",
        "input_data = sys.stdin.read().strip()\n",
        "\n",
        "# Разделение данных на строки и затем на элементы\n",
        "lines = input_data.split('\\n')\n",
        "matrix = [list(map(int, line.split())) for line in lines]\n",
        "\n",
        "# Преобразование списка списков в numpy.array\n",
        "matrix = np.array(matrix)"
      ],
      "metadata": {
        "id": "ONmeIEzDnC_K"
      },
      "execution_count": null,
      "outputs": []
    },
    {
      "cell_type": "code",
      "source": [
        "# -*- encoding: utf-8 -*-\n",
        "\n",
        "import numpy as np\n",
        "import sys\n",
        "\n",
        "def helper(grid, rows, cols, i, j):\n",
        "    if i < 0 or i >= rows or j < 0 or j >= cols or grid[i][j] == '0':\n",
        "        return\n",
        "\n",
        "    grid[i][j] = '0'\n",
        "    helper(grid, rows, cols, i + 1, j)\n",
        "    helper(grid, rows, cols, i - 1, j)\n",
        "    helper(grid, rows, cols, i, j - 1)\n",
        "    helper(grid, rows, cols, i, j + 1)\n",
        "\n",
        "def numIslands(grid):\n",
        "    rows = len(grid)\n",
        "    cols = len(grid[0])\n",
        "    num_of_lands = 0\n",
        "    for i in range(rows):\n",
        "        for j in range(cols):\n",
        "            if grid[i][j] == '1':\n",
        "                num_of_lands += 1\n",
        "                helper(grid, rows, cols, i, j)\n",
        "    return num_of_lands\n",
        "\n",
        "# Чтение всех данных из стандартного ввода\n",
        "input_data = sys.stdin.read().strip()\n",
        "\n",
        "# Разделение данных на строки и затем на элементы\n",
        "lines = input_data.split('\\n')\n",
        "grid = [list(line.split()) for line in lines]\n",
        "\n",
        "# Преобразование списка списков в numpy.array\n",
        "grid = np.array(grid)\n",
        "\n",
        "print(numIslands(grid))"
      ],
      "metadata": {
        "colab": {
          "base_uri": "https://localhost:8080/"
        },
        "id": "qSAHaLAspVUW",
        "outputId": "cb1852e5-30ae-4fdc-e8ce-0be5bcbbebd1"
      },
      "execution_count": null,
      "outputs": [
        {
          "output_type": "stream",
          "name": "stdout",
          "text": [
            "0\n"
          ]
        }
      ]
    },
    {
      "cell_type": "code",
      "source": [
        "# -*- encoding: utf-8 -*-\n",
        "\n",
        "import sys\n",
        "\n",
        "# это функция которая просто преобразует результат фукнции numCats() в нужный вид\n",
        "# потому что numCats() возвращает id кота и координаты его пикселей в виде словаря\n",
        "def create_matrix_from_dict(data_dict, rows, cols):\n",
        "    # Создаем пустую матрицу заданного размера\n",
        "    matrix = [[0] * cols for _ in range(rows)]\n",
        "\n",
        "    # Заполняем матрицу значениями из словаря\n",
        "    for value, coordinates in data_dict.items():\n",
        "        for (r, c) in coordinates:\n",
        "            matrix[r][c] = value\n",
        "\n",
        "    return matrix\n",
        "\n",
        "# функция подсчета котов и создание их карты по id\n",
        "def numCats(grid):\n",
        "    CAT = '1'\n",
        "    BACKGROUND = '0'\n",
        "    rows = len(grid)\n",
        "    cols = len(grid[0])\n",
        "\n",
        "    current_cat_id = 0 # id текущего кода\n",
        "    visited = set() # все точки чтобы сохранить какие уже посетили\n",
        "    cats = {} # сюда будем сохранять id и координаты котов\n",
        "\n",
        "    st = []\n",
        "\n",
        "    for ri in range(rows):\n",
        "        for ci in range(cols):\n",
        "            if grid[ri][ci] == CAT and not (ri,ci) in visited:\n",
        "                # новый кот\n",
        "                current_cat_id += 1\n",
        "                cats[current_cat_id] = set()\n",
        "                st.append((ri,ci))\n",
        "            else:\n",
        "                # старый кот или фон\n",
        "                visited.add((ri,ci))\n",
        "\n",
        "            while st:\n",
        "                r, c = st.pop()\n",
        "                if (r,c) in visited:\n",
        "                    continue\n",
        "\n",
        "                visited.add((r,c))\n",
        "                if grid[r][c] == BACKGROUND:\n",
        "                    continue\n",
        "\n",
        "                cats[current_cat_id].add((r,c))\n",
        "\n",
        "                if r > 0:\n",
        "                    st.append((r-1,c))\n",
        "                if r < rows-1:\n",
        "                    st.append((r+1,c))\n",
        "                if c > 0:\n",
        "                    st.append((r,c-1))\n",
        "                if c < cols-1:\n",
        "                    st.append((r,c+1))\n",
        "\n",
        "    # Создаем матрицу из словаря\n",
        "    result_matrix = create_matrix_from_dict(cats, rows, cols)\n",
        "\n",
        "    return current_cat_id, result_matrix\n",
        "\n",
        "# Чтение всех данных из стандартного ввода\n",
        "input_data = sys.stdin.read().strip()\n",
        "\n",
        "# Разделение данных на строки и затем на элементы\n",
        "lines = input_data.split('\\n')\n",
        "grid = [list(line.split()) for line in lines]\n",
        "\n",
        "n,  result_matrix = numCats(grid)\n",
        "\n",
        "# Выводим результат\n",
        "print(n)\n",
        "for row in result_matrix:\n",
        "    print(\" \".join(map(str, row)))"
      ],
      "metadata": {
        "colab": {
          "base_uri": "https://localhost:8080/"
        },
        "id": "sowQdDU2o3sv",
        "outputId": "230e6f15-bbea-41fc-a7cd-d288c68b8da5"
      },
      "execution_count": null,
      "outputs": [
        {
          "output_type": "stream",
          "name": "stdout",
          "text": [
            "3\n",
            "1 0 2\n",
            "0 0 0\n",
            "0 3 0\n"
          ]
        }
      ]
    },
    {
      "cell_type": "markdown",
      "source": [
        "# 568. Наименьший вещественный корень ✅"
      ],
      "metadata": {
        "id": "wVE-DeJWtU69"
      }
    },
    {
      "cell_type": "markdown",
      "source": [
        "Лена всю ночь готовилась к зачёту по линалу. Но сон оказался сильнее. Во сне Лена боролась с чайками в комплексной плоскости. Со своим главным врагом - $𝑒^{−iϕ}$ она боролась, извлекая корни из полинома и бросая их в него.\n",
        "\n",
        "Внезапно полином поднялся вверх на сферу Римана, и вернулся в виде матричного уравнения $det(A−zI)=0$.\n",
        "\n",
        "-Это легкотня, к этому я готова, - подумала Лена.\n",
        "\n",
        "В эту же секунду полином совершил еще одну метаморфозу. Перед Леной возникло уравнение $det(B+Az+Iz^2)=0$.\n",
        "\n",
        "-Этого не было в учебнике, так не честно,- с ужасом прокричала Лена. Зачётка полетела вдаль от Лены…\n",
        "\n",
        "С колотящимся сердцем она проснулась и начала думать, как найти корни такого полинома. В ходе своих размышлений, Лена поняла, что для победы над $𝑒^{−iϕ}$ ей бы хватило и наименьшего вещественного корня этого уравнения, так как Лена запомнила, что её главный враг принялся убегать в направлении минус бесконечности на вещественной оси.\n",
        "\n",
        "Ваша задача помочь Лене найти наименьший вещественный корень уравнения $det(B+Az+Iz^2)=0$, где матрицы $A$ и $B$ - вещественные симметричные матрицы. Гарантируется, что такой корень существует.\n",
        "\n",
        "**Формат ввода**\n",
        "\n",
        "Первая строка содержит число $n (1≤n≤100)$ - размер матриц $A$ и $B$.\n",
        "\n",
        "В следующих $n$ строчках содержится $n$ вещественных чисел $A_{i,j} (-1 <= A_{i,j} <= 7$ - элементы матрицы $A$.\n",
        "\n",
        "В следующих $n$ строчках содержится $n$ вещественных чисел $B_{i,j} (-1 <= B_{i,j} <= 7$ - элементы матрицы $A$.\n",
        "\n",
        "Каждая строка с элементами матриц $А$ и $B$ заканчивается пробелом после последнего элемента и переводом строки.\n",
        "\n",
        "**Формат вывода**\n",
        "\n",
        "Выведите одно число - ответ на задачу с точностью четыре знака после запятой. Округление выполняется по стандартным правилам. Рекомендуем использовать `np.round(data, 4)` или аналоги."
      ],
      "metadata": {
        "id": "5kZ2nI6OtWXk"
      }
    },
    {
      "cell_type": "code",
      "source": [
        "import numpy as np\n",
        "from scipy.optimize import root_scalar\n",
        "\n",
        "# Определение матриц A и B\n",
        "# A = np.array([[1, 0, 0], [0, 1, 0], [0, 0, 1]])  # Пример симметричной матрицы A\n",
        "# B = np.array([[-1, 0, 0], [0, -1, 0], [0, 0, -1]])  # Пример симметричной матрицы B\n",
        "# I = np.eye(3)  # Единичная матрица\n",
        "\n",
        "# 3\n",
        "# 1 0 0\n",
        "# 0 1 0\n",
        "# 0 0 1\n",
        "# -1 0 0\n",
        "# 0 -1 0\n",
        "# 0 0 -1\n",
        "\n",
        "\n",
        "def determinant_function(z):\n",
        "    \"\"\"\n",
        "    Функция для вычисления детерминанта B + Az + I z^2\n",
        "    \"\"\"\n",
        "    matrix = B + A * z + I * z**2\n",
        "    return np.linalg.det(matrix)\n",
        "\n",
        "def find_smallest_root():\n",
        "    \"\"\"\n",
        "    Находит наименьший вещественный корень уравнения det(B + Az + I z^2) = 0\n",
        "    \"\"\"\n",
        "    # Используем np.linspace для создания интервала проверки\n",
        "    z_values = np.linspace(-10, 10, 100)\n",
        "\n",
        "    # Вычисляем значения детерминанта на этом интервале\n",
        "    det_values = np.array([determinant_function(z) for z in z_values])\n",
        "\n",
        "    # Найти интервалы, где детерминант меняет знак\n",
        "    intervals = []\n",
        "    for i in range(len(z_values) - 1):\n",
        "        if det_values[i] * det_values[i + 1] < 0:\n",
        "            intervals.append((z_values[i], z_values[i + 1]))\n",
        "\n",
        "    if not intervals:\n",
        "        raise ValueError(\"Не удалось найти интервалы, где функция меняет знак.\")\n",
        "\n",
        "    # Найти корень в каждом интервале и выбрать наименьший\n",
        "    smallest_root = None\n",
        "    for interval in intervals:\n",
        "        try:\n",
        "            result = root_scalar(determinant_function, bracket=interval, method='brentq')\n",
        "            if smallest_root is None or result.root < smallest_root:\n",
        "                smallest_root = result.root\n",
        "        except ValueError:\n",
        "            # Если метод не смог найти корень, пропустите этот интервал\n",
        "            continue\n",
        "\n",
        "    if smallest_root is None:\n",
        "        raise ValueError(\"Не удалось найти вещественный корень.\")\n",
        "\n",
        "    return smallest_root\n",
        "\n",
        "# Входные данные\n",
        "n = int(input())\n",
        "A = np.zeros((n, n))\n",
        "for i in range(n):\n",
        "    A[i] = [float(x) for x in input().split()]\n",
        "B = np.zeros((n, n))\n",
        "for i in range(n):\n",
        "    B[i] = [float(x) for x in input().split()]\n",
        "\n",
        "# Найти наименьший корень\n",
        "smallest_root = find_smallest_root()\n",
        "print(np.round(smallest_root,4))"
      ],
      "metadata": {
        "colab": {
          "base_uri": "https://localhost:8080/"
        },
        "id": "bgcwQyS2Y4g6",
        "outputId": "523f7715-6054-478a-9ee7-9857846cb5d8"
      },
      "execution_count": null,
      "outputs": [
        {
          "output_type": "stream",
          "name": "stdout",
          "text": [
            "3\n",
            "1 0 0\n",
            "0 1 0\n",
            "0 0 1\n",
            "-1 0 0\n",
            "0 -1 0\n",
            "0 0 -1\n",
            "-1.618\n"
          ]
        }
      ]
    },
    {
      "cell_type": "code",
      "source": [
        "import numpy as np\n",
        "from scipy.optimize import brentq\n",
        "\n",
        "# Входные данные\n",
        "n = int(input())\n",
        "A = np.zeros((n, n))\n",
        "for i in range(n):\n",
        "    A[i] = [float(x) for x in input().split()]\n",
        "B = np.zeros((n, n))\n",
        "for i in range(n):\n",
        "    B[i] = [float(x) for x in input().split()]\n",
        "\n",
        "# Функция для вычисления определителя матрицы в зависимости от z\n",
        "def det_z(z):\n",
        "    return np.linalg.det(B + A * z + np.eye(n) * z**2)\n",
        "\n",
        "# Поиск корня уравнения det(B + Az + Iz^2) = 0\n",
        "# Используем метод Brent's method для поиска корней в диапазоне\n",
        "\n",
        "# Определяем диапазон для поиска корня\n",
        "z_min, z_max = -10**10, 10**10  # Это примерный диапазон, его можно корректировать\n",
        "\n",
        "try:\n",
        "    root = brentq(det_z, z_min, z_max)\n",
        "    root_rounded = round(root, 4)\n",
        "    print(root_rounded)\n",
        "except ValueError as e:\n",
        "    print(\"Корень не найден в заданном диапазоне:\", e)\n",
        "\n",
        "# 3\n",
        "# 1 0 0\n",
        "# 0 1 0\n",
        "# 0 0 1\n",
        "# -1 0 0\n",
        "# 0 -1 0\n",
        "# 0 0 -1\n",
        "\n",
        "# -1.618"
      ],
      "metadata": {
        "colab": {
          "base_uri": "https://localhost:8080/"
        },
        "id": "hLqhMznPuB46",
        "outputId": "a3da375a-b6de-4cc6-aec0-1257e8443427"
      },
      "execution_count": null,
      "outputs": [
        {
          "output_type": "stream",
          "name": "stdout",
          "text": [
            "3\n",
            "1 0 0\n",
            "0 1 0\n",
            "0 0 1\n",
            "-1 0 0\n",
            "0 -1 0\n",
            "0 0 -1\n",
            "Корень не найден в заданном диапазоне: f(a) and f(b) must have different signs\n"
          ]
        }
      ]
    },
    {
      "cell_type": "code",
      "source": [
        "# зашло\n",
        "from scipy.optimize import fsolve\n",
        "import numpy as np\n",
        "\n",
        "def f(z):\n",
        "    return np.linalg.det(B + A * z + I * z**2)\n",
        "\n",
        "# n = 3\n",
        "# A = [[1,0,0],\n",
        "#      [0,1,0],\n",
        "#      [0,0,1]]\n",
        "\n",
        "# B = [[-1,0,0],\n",
        "#      [0,-1,0],\n",
        "#      [0,0,-1]]\n",
        "n = int(input())\n",
        "A = np.zeros((n, n))\n",
        "for i in range(n):\n",
        "    A[i] = [float(x) for x in input().split()]\n",
        "B = np.zeros((n, n))\n",
        "for i in range(n):\n",
        "    B[i] = [float(x) for x in input().split()]\n",
        "\n",
        "I = np.eye(n)\n",
        "\n",
        "min_root = 1000\n",
        "\n",
        "for x0 in np.linspace(-10, 10, 10):\n",
        "    z = fsolve(f, x0)[0]\n",
        "    if z <= min_root:\n",
        "        min_root = z\n",
        "\n",
        "print(np.round(min_root, 4))"
      ],
      "metadata": {
        "id": "fNHHszSNcANW",
        "colab": {
          "base_uri": "https://localhost:8080/"
        },
        "outputId": "45648628-6883-49c5-99e5-b0ff986d380d"
      },
      "execution_count": null,
      "outputs": [
        {
          "output_type": "stream",
          "name": "stdout",
          "text": [
            "-1.618\n"
          ]
        },
        {
          "output_type": "stream",
          "name": "stderr",
          "text": [
            "<ipython-input-10-516a37a7c4ab>:20: RuntimeWarning: The iteration is not making good progress, as measured by the \n",
            "  improvement from the last ten iterations.\n",
            "  z = fsolve(f, x0)[0]\n"
          ]
        }
      ]
    },
    {
      "cell_type": "code",
      "source": [
        "np.linspace(-10, 10, 10)"
      ],
      "metadata": {
        "colab": {
          "base_uri": "https://localhost:8080/"
        },
        "id": "WOpZqqmFOt-T",
        "outputId": "07c153cd-6039-4924-cd00-04aa3bcc8727"
      },
      "execution_count": null,
      "outputs": [
        {
          "output_type": "execute_result",
          "data": {
            "text/plain": [
              "array([-10.        ,  -7.77777778,  -5.55555556,  -3.33333333,\n",
              "        -1.11111111,   1.11111111,   3.33333333,   5.55555556,\n",
              "         7.77777778,  10.        ])"
            ]
          },
          "metadata": {},
          "execution_count": 5
        }
      ]
    },
    {
      "cell_type": "code",
      "source": [
        "import numpy as np\n",
        "from scipy.optimize import minimize_scalar\n",
        "\n",
        "# Входные данные\n",
        "n = int(input())\n",
        "A = np.zeros((n, n))\n",
        "for i in range(n):\n",
        "    A[i] = [float(x) for x in input().split()]\n",
        "B = np.zeros((n, n))\n",
        "for i in range(n):\n",
        "    B[i] = [float(x) for x in input().split()]\n",
        "\n",
        "def det_z(z):\n",
        "    return np.linalg.det(B + A * z + np.eye(n) * z**2)\n",
        "\n",
        "res = minimize_scalar(lambda z: abs(det_z(z)), bounds=(-10, 10), method='bounded')\n",
        "\n",
        "root = res.x\n",
        "root_rounded = round(root, 4)\n",
        "\n",
        "print(root_rounded)\n",
        "# 3\n",
        "# 1 0 0\n",
        "# 0 1 0\n",
        "# 0 0 1\n",
        "# -1 0 0\n",
        "# 0 -1 0\n",
        "# 0 0 -1"
      ],
      "metadata": {
        "colab": {
          "base_uri": "https://localhost:8080/"
        },
        "id": "E0NiJ3elv4pI",
        "outputId": "97d79809-c37a-4611-bb97-e4044b94b975"
      },
      "execution_count": null,
      "outputs": [
        {
          "output_type": "stream",
          "name": "stdout",
          "text": [
            "3\n",
            "1 0 0\n",
            "0 1 0\n",
            "0 0 1\n",
            "-1 0 0\n",
            "0 -1 0\n",
            "0 0 -1\n",
            "-1.618\n"
          ]
        }
      ]
    },
    {
      "cell_type": "markdown",
      "source": [
        "# 572. Поход в горы"
      ],
      "metadata": {
        "id": "IZ7mswV-t1ZO"
      }
    },
    {
      "cell_type": "markdown",
      "source": [
        "Что может быть лучше похода в горы?\n",
        "\n",
        "Группа друзей из Томского государственного университета обнаружили рекламу восхождения на Пик Томских студентов – это вершина высотой **$3500$** метров на Алтае.\n",
        "\n",
        "Восхождение на Пик занимает около **двух дней**, поэтому друзья решили забронировать место в хостеле Снежинка в **$500$** метрах от вершины, чтобы немного передохнуть.\n",
        "\n",
        "Придя в хостел, группа увидела очень грустного владельца, который глядел в стену. Но наша группа не простая, а с факультета ПМИ! Поэтому после расспросов, студенты выяснили в чём проблема и немедленно сели её решать.\n",
        "\n",
        "Хостел совсем небольшой, одновременно в нем может находиться не более $s$ человек. На ближайший период поступило $n$ заявок, $i$-ый турист сообщил, что прибудет в приют во время $t_i$.\n",
        "\n",
        "Теперь в хостеле необходимо ввести ограничение на время пребывания одного туриста в хостеле таким образом, чтобы одновременно в приюте находилось не более $s$ человек.\n",
        "\n",
        "Ограничение на максимальное время пребывания в хостеле одинаково для всех туристов.\n",
        "\n",
        "**Формат ввода**\n",
        "\n",
        "В первой строке содержится два целых числа $N, S (1 ≤ n, s ≤ 2⋅10^5)$ – количество заявок от туристов и вместимость хостела соответственно. В следующих n строках содержится по одному целому числу $t_i (0 ≤ ti ≤ 2⋅10^9)$ – время прибытия $i$-го туриста.\n",
        "\n",
        "**Формат вывода**\n",
        "\n",
        "Выведите одно положительное число – максимальное время, которое каждый турист может провести в хостеле. Выведите $Impossible$, если хостел окажется переполнен при любом положительном времени пребывания. В случае, если в установке ограничения времени нет необходимости, выведите $INF$."
      ],
      "metadata": {
        "id": "wpeyOiErt2sj"
      }
    },
    {
      "cell_type": "code",
      "source": [
        "N, S = list(map(int, input().split()))\n",
        "\n",
        "t = []\n",
        "for i in range(N):\n",
        "    t.append(int(input()))\n",
        "\n",
        "# Ввод\n",
        "# 8 3\n",
        "# 3\n",
        "# 6\n",
        "# 4\n",
        "# 5\n",
        "# 0\n",
        "# 2\n",
        "# 7\n",
        "# 0"
      ],
      "metadata": {
        "colab": {
          "base_uri": "https://localhost:8080/"
        },
        "id": "o4WqfBC6u1W3",
        "outputId": "30b977ac-3e4e-4c70-f602-e63bdc86682e"
      },
      "execution_count": null,
      "outputs": [
        {
          "name": "stdout",
          "output_type": "stream",
          "text": [
            "8 3\n",
            "3\n",
            "6\n",
            "4\n",
            "5\n",
            "0\n",
            "2\n",
            "7\n",
            "0\n"
          ]
        }
      ]
    },
    {
      "cell_type": "code",
      "source": [
        "def max_stay_time(n, s, arrivals):\n",
        "    arrivals.sort()\n",
        "\n",
        "    def can_stay(t):\n",
        "        current_visitors = 0\n",
        "        left = 0\n",
        "        for right in range(n):\n",
        "            while arrivals[right] - arrivals[left] + 1 > t:\n",
        "                left += 1\n",
        "            current_visitors = max(current_visitors, right - left + 1)\n",
        "            if current_visitors > s:\n",
        "                return False\n",
        "        return True\n",
        "\n",
        "    left, right = 1, max(arrivals) - min(arrivals) + 1\n",
        "    while left < right:\n",
        "        mid = (left + right) // 2\n",
        "        if can_stay(mid):\n",
        "            left = mid + 1\n",
        "        else:\n",
        "            right = mid\n",
        "\n",
        "    result = left - 1\n",
        "\n",
        "    if result == 0:\n",
        "        return \"Impossible\"\n",
        "    elif result == max(arrivals) - min(arrivals) + 1:\n",
        "        return \"INF\"\n",
        "    else:\n",
        "        return result\n",
        "\n",
        "# # Ввод\n",
        "N, S = 5, 100\n",
        "t = [98, 123, 42, 1840, 999999997]\n",
        "\n",
        "# 5 100\n",
        "# 98\n",
        "# 123\n",
        "# 42\n",
        "# 1840\n",
        "# 999999997\n",
        "\n",
        "# Вывод результата\n",
        "print(max_stay_time(N, S, t))"
      ],
      "metadata": {
        "colab": {
          "base_uri": "https://localhost:8080/"
        },
        "id": "L5CJsbFyvN07",
        "outputId": "1f5faff9-468a-4b21-ee56-bf684fc77af6"
      },
      "execution_count": null,
      "outputs": [
        {
          "output_type": "stream",
          "name": "stdout",
          "text": [
            "999999955\n"
          ]
        }
      ]
    },
    {
      "cell_type": "code",
      "source": [
        "def is_possible(t, max_time, s):\n",
        "    current_guests = 0\n",
        "    leave_times = []\n",
        "\n",
        "    for arrival in t:\n",
        "        print(f'arrival in loop: {arrival}')\n",
        "        # Удаляем гостей, которые уже должны были уйти\n",
        "        leave_times = [lt for lt in leave_times if lt > arrival]\n",
        "        print('Удаляем гостей, которые уже должны были уйти:', leave_times)\n",
        "\n",
        "        # Добавляем текущего гостя с его временем отъезда\n",
        "        leave_times.append(arrival + max_time)\n",
        "        print('Добавляем текущего гостя с его временем отъезда:', leave_times)\n",
        "\n",
        "        # Проверяем, не превысили ли мы вместимость хостела\n",
        "        if len(leave_times) > s:\n",
        "            return False\n",
        "\n",
        "    return True\n",
        "\n",
        "def max_stay_time(n, s, times):\n",
        "    left = 0\n",
        "    right = max(times)\n",
        "    result = \"Impossible\"\n",
        "\n",
        "    while left <= right:\n",
        "        print(f'Left: {left}, Mid: {(left + right) // 2}, Right: {right}')\n",
        "        mid = (left + right) // 2\n",
        "        if is_possible(times, mid, s):\n",
        "            result = mid\n",
        "            left = mid + 1\n",
        "        else:\n",
        "            right = mid - 1\n",
        "        print('-'*20)\n",
        "\n",
        "    # Проверяем возможность бесконечного времени пребывания\n",
        "    if is_possible(times, float('inf'), s):\n",
        "        return \"INF\"\n",
        "\n",
        "    return result\n",
        "\n",
        "# Пример ввода данных\n",
        "n = 5\n",
        "s = 100\n",
        "times = [98, 123, 42, 1840, 999999997]\n",
        "\n",
        "print(max_stay_time(n, s, times))"
      ],
      "metadata": {
        "colab": {
          "base_uri": "https://localhost:8080/"
        },
        "id": "4bCzleJHzQFU",
        "outputId": "55b87e3b-209f-47a1-e3b6-9eefc66afd6c"
      },
      "execution_count": null,
      "outputs": [
        {
          "output_type": "stream",
          "name": "stdout",
          "text": [
            "Left: 0, Mid: 499999998, Right: 999999997\n",
            "arrival in loop: 98\n",
            "Удаляем гостей, которые уже должны были уйти: []\n",
            "Добавляем текущего гостя с его временем отъезда: [500000096]\n",
            "arrival in loop: 123\n",
            "Удаляем гостей, которые уже должны были уйти: [500000096]\n",
            "Добавляем текущего гостя с его временем отъезда: [500000096, 500000121]\n",
            "arrival in loop: 42\n",
            "Удаляем гостей, которые уже должны были уйти: [500000096, 500000121]\n",
            "Добавляем текущего гостя с его временем отъезда: [500000096, 500000121, 500000040]\n",
            "arrival in loop: 1840\n",
            "Удаляем гостей, которые уже должны были уйти: [500000096, 500000121, 500000040]\n",
            "Добавляем текущего гостя с его временем отъезда: [500000096, 500000121, 500000040, 500001838]\n",
            "arrival in loop: 999999997\n",
            "Удаляем гостей, которые уже должны были уйти: []\n",
            "Добавляем текущего гостя с его временем отъезда: [1499999995]\n",
            "--------------------\n",
            "Left: 499999999, Mid: 749999998, Right: 999999997\n",
            "arrival in loop: 98\n",
            "Удаляем гостей, которые уже должны были уйти: []\n",
            "Добавляем текущего гостя с его временем отъезда: [750000096]\n",
            "arrival in loop: 123\n",
            "Удаляем гостей, которые уже должны были уйти: [750000096]\n",
            "Добавляем текущего гостя с его временем отъезда: [750000096, 750000121]\n",
            "arrival in loop: 42\n",
            "Удаляем гостей, которые уже должны были уйти: [750000096, 750000121]\n",
            "Добавляем текущего гостя с его временем отъезда: [750000096, 750000121, 750000040]\n",
            "arrival in loop: 1840\n",
            "Удаляем гостей, которые уже должны были уйти: [750000096, 750000121, 750000040]\n",
            "Добавляем текущего гостя с его временем отъезда: [750000096, 750000121, 750000040, 750001838]\n",
            "arrival in loop: 999999997\n",
            "Удаляем гостей, которые уже должны были уйти: []\n",
            "Добавляем текущего гостя с его временем отъезда: [1749999995]\n",
            "--------------------\n",
            "Left: 749999999, Mid: 874999998, Right: 999999997\n",
            "arrival in loop: 98\n",
            "Удаляем гостей, которые уже должны были уйти: []\n",
            "Добавляем текущего гостя с его временем отъезда: [875000096]\n",
            "arrival in loop: 123\n",
            "Удаляем гостей, которые уже должны были уйти: [875000096]\n",
            "Добавляем текущего гостя с его временем отъезда: [875000096, 875000121]\n",
            "arrival in loop: 42\n",
            "Удаляем гостей, которые уже должны были уйти: [875000096, 875000121]\n",
            "Добавляем текущего гостя с его временем отъезда: [875000096, 875000121, 875000040]\n",
            "arrival in loop: 1840\n",
            "Удаляем гостей, которые уже должны были уйти: [875000096, 875000121, 875000040]\n",
            "Добавляем текущего гостя с его временем отъезда: [875000096, 875000121, 875000040, 875001838]\n",
            "arrival in loop: 999999997\n",
            "Удаляем гостей, которые уже должны были уйти: []\n",
            "Добавляем текущего гостя с его временем отъезда: [1874999995]\n",
            "--------------------\n",
            "Left: 874999999, Mid: 937499998, Right: 999999997\n",
            "arrival in loop: 98\n",
            "Удаляем гостей, которые уже должны были уйти: []\n",
            "Добавляем текущего гостя с его временем отъезда: [937500096]\n",
            "arrival in loop: 123\n",
            "Удаляем гостей, которые уже должны были уйти: [937500096]\n",
            "Добавляем текущего гостя с его временем отъезда: [937500096, 937500121]\n",
            "arrival in loop: 42\n",
            "Удаляем гостей, которые уже должны были уйти: [937500096, 937500121]\n",
            "Добавляем текущего гостя с его временем отъезда: [937500096, 937500121, 937500040]\n",
            "arrival in loop: 1840\n",
            "Удаляем гостей, которые уже должны были уйти: [937500096, 937500121, 937500040]\n",
            "Добавляем текущего гостя с его временем отъезда: [937500096, 937500121, 937500040, 937501838]\n",
            "arrival in loop: 999999997\n",
            "Удаляем гостей, которые уже должны были уйти: []\n",
            "Добавляем текущего гостя с его временем отъезда: [1937499995]\n",
            "--------------------\n",
            "Left: 937499999, Mid: 968749998, Right: 999999997\n",
            "arrival in loop: 98\n",
            "Удаляем гостей, которые уже должны были уйти: []\n",
            "Добавляем текущего гостя с его временем отъезда: [968750096]\n",
            "arrival in loop: 123\n",
            "Удаляем гостей, которые уже должны были уйти: [968750096]\n",
            "Добавляем текущего гостя с его временем отъезда: [968750096, 968750121]\n",
            "arrival in loop: 42\n",
            "Удаляем гостей, которые уже должны были уйти: [968750096, 968750121]\n",
            "Добавляем текущего гостя с его временем отъезда: [968750096, 968750121, 968750040]\n",
            "arrival in loop: 1840\n",
            "Удаляем гостей, которые уже должны были уйти: [968750096, 968750121, 968750040]\n",
            "Добавляем текущего гостя с его временем отъезда: [968750096, 968750121, 968750040, 968751838]\n",
            "arrival in loop: 999999997\n",
            "Удаляем гостей, которые уже должны были уйти: []\n",
            "Добавляем текущего гостя с его временем отъезда: [1968749995]\n",
            "--------------------\n",
            "Left: 968749999, Mid: 984374998, Right: 999999997\n",
            "arrival in loop: 98\n",
            "Удаляем гостей, которые уже должны были уйти: []\n",
            "Добавляем текущего гостя с его временем отъезда: [984375096]\n",
            "arrival in loop: 123\n",
            "Удаляем гостей, которые уже должны были уйти: [984375096]\n",
            "Добавляем текущего гостя с его временем отъезда: [984375096, 984375121]\n",
            "arrival in loop: 42\n",
            "Удаляем гостей, которые уже должны были уйти: [984375096, 984375121]\n",
            "Добавляем текущего гостя с его временем отъезда: [984375096, 984375121, 984375040]\n",
            "arrival in loop: 1840\n",
            "Удаляем гостей, которые уже должны были уйти: [984375096, 984375121, 984375040]\n",
            "Добавляем текущего гостя с его временем отъезда: [984375096, 984375121, 984375040, 984376838]\n",
            "arrival in loop: 999999997\n",
            "Удаляем гостей, которые уже должны были уйти: []\n",
            "Добавляем текущего гостя с его временем отъезда: [1984374995]\n",
            "--------------------\n",
            "Left: 984374999, Mid: 992187498, Right: 999999997\n",
            "arrival in loop: 98\n",
            "Удаляем гостей, которые уже должны были уйти: []\n",
            "Добавляем текущего гостя с его временем отъезда: [992187596]\n",
            "arrival in loop: 123\n",
            "Удаляем гостей, которые уже должны были уйти: [992187596]\n",
            "Добавляем текущего гостя с его временем отъезда: [992187596, 992187621]\n",
            "arrival in loop: 42\n",
            "Удаляем гостей, которые уже должны были уйти: [992187596, 992187621]\n",
            "Добавляем текущего гостя с его временем отъезда: [992187596, 992187621, 992187540]\n",
            "arrival in loop: 1840\n",
            "Удаляем гостей, которые уже должны были уйти: [992187596, 992187621, 992187540]\n",
            "Добавляем текущего гостя с его временем отъезда: [992187596, 992187621, 992187540, 992189338]\n",
            "arrival in loop: 999999997\n",
            "Удаляем гостей, которые уже должны были уйти: []\n",
            "Добавляем текущего гостя с его временем отъезда: [1992187495]\n",
            "--------------------\n",
            "Left: 992187499, Mid: 996093748, Right: 999999997\n",
            "arrival in loop: 98\n",
            "Удаляем гостей, которые уже должны были уйти: []\n",
            "Добавляем текущего гостя с его временем отъезда: [996093846]\n",
            "arrival in loop: 123\n",
            "Удаляем гостей, которые уже должны были уйти: [996093846]\n",
            "Добавляем текущего гостя с его временем отъезда: [996093846, 996093871]\n",
            "arrival in loop: 42\n",
            "Удаляем гостей, которые уже должны были уйти: [996093846, 996093871]\n",
            "Добавляем текущего гостя с его временем отъезда: [996093846, 996093871, 996093790]\n",
            "arrival in loop: 1840\n",
            "Удаляем гостей, которые уже должны были уйти: [996093846, 996093871, 996093790]\n",
            "Добавляем текущего гостя с его временем отъезда: [996093846, 996093871, 996093790, 996095588]\n",
            "arrival in loop: 999999997\n",
            "Удаляем гостей, которые уже должны были уйти: []\n",
            "Добавляем текущего гостя с его временем отъезда: [1996093745]\n",
            "--------------------\n",
            "Left: 996093749, Mid: 998046873, Right: 999999997\n",
            "arrival in loop: 98\n",
            "Удаляем гостей, которые уже должны были уйти: []\n",
            "Добавляем текущего гостя с его временем отъезда: [998046971]\n",
            "arrival in loop: 123\n",
            "Удаляем гостей, которые уже должны были уйти: [998046971]\n",
            "Добавляем текущего гостя с его временем отъезда: [998046971, 998046996]\n",
            "arrival in loop: 42\n",
            "Удаляем гостей, которые уже должны были уйти: [998046971, 998046996]\n",
            "Добавляем текущего гостя с его временем отъезда: [998046971, 998046996, 998046915]\n",
            "arrival in loop: 1840\n",
            "Удаляем гостей, которые уже должны были уйти: [998046971, 998046996, 998046915]\n",
            "Добавляем текущего гостя с его временем отъезда: [998046971, 998046996, 998046915, 998048713]\n",
            "arrival in loop: 999999997\n",
            "Удаляем гостей, которые уже должны были уйти: []\n",
            "Добавляем текущего гостя с его временем отъезда: [1998046870]\n",
            "--------------------\n",
            "Left: 998046874, Mid: 999023435, Right: 999999997\n",
            "arrival in loop: 98\n",
            "Удаляем гостей, которые уже должны были уйти: []\n",
            "Добавляем текущего гостя с его временем отъезда: [999023533]\n",
            "arrival in loop: 123\n",
            "Удаляем гостей, которые уже должны были уйти: [999023533]\n",
            "Добавляем текущего гостя с его временем отъезда: [999023533, 999023558]\n",
            "arrival in loop: 42\n",
            "Удаляем гостей, которые уже должны были уйти: [999023533, 999023558]\n",
            "Добавляем текущего гостя с его временем отъезда: [999023533, 999023558, 999023477]\n",
            "arrival in loop: 1840\n",
            "Удаляем гостей, которые уже должны были уйти: [999023533, 999023558, 999023477]\n",
            "Добавляем текущего гостя с его временем отъезда: [999023533, 999023558, 999023477, 999025275]\n",
            "arrival in loop: 999999997\n",
            "Удаляем гостей, которые уже должны были уйти: []\n",
            "Добавляем текущего гостя с его временем отъезда: [1999023432]\n",
            "--------------------\n",
            "Left: 999023436, Mid: 999511716, Right: 999999997\n",
            "arrival in loop: 98\n",
            "Удаляем гостей, которые уже должны были уйти: []\n",
            "Добавляем текущего гостя с его временем отъезда: [999511814]\n",
            "arrival in loop: 123\n",
            "Удаляем гостей, которые уже должны были уйти: [999511814]\n",
            "Добавляем текущего гостя с его временем отъезда: [999511814, 999511839]\n",
            "arrival in loop: 42\n",
            "Удаляем гостей, которые уже должны были уйти: [999511814, 999511839]\n",
            "Добавляем текущего гостя с его временем отъезда: [999511814, 999511839, 999511758]\n",
            "arrival in loop: 1840\n",
            "Удаляем гостей, которые уже должны были уйти: [999511814, 999511839, 999511758]\n",
            "Добавляем текущего гостя с его временем отъезда: [999511814, 999511839, 999511758, 999513556]\n",
            "arrival in loop: 999999997\n",
            "Удаляем гостей, которые уже должны были уйти: []\n",
            "Добавляем текущего гостя с его временем отъезда: [1999511713]\n",
            "--------------------\n",
            "Left: 999511717, Mid: 999755857, Right: 999999997\n",
            "arrival in loop: 98\n",
            "Удаляем гостей, которые уже должны были уйти: []\n",
            "Добавляем текущего гостя с его временем отъезда: [999755955]\n",
            "arrival in loop: 123\n",
            "Удаляем гостей, которые уже должны были уйти: [999755955]\n",
            "Добавляем текущего гостя с его временем отъезда: [999755955, 999755980]\n",
            "arrival in loop: 42\n",
            "Удаляем гостей, которые уже должны были уйти: [999755955, 999755980]\n",
            "Добавляем текущего гостя с его временем отъезда: [999755955, 999755980, 999755899]\n",
            "arrival in loop: 1840\n",
            "Удаляем гостей, которые уже должны были уйти: [999755955, 999755980, 999755899]\n",
            "Добавляем текущего гостя с его временем отъезда: [999755955, 999755980, 999755899, 999757697]\n",
            "arrival in loop: 999999997\n",
            "Удаляем гостей, которые уже должны были уйти: []\n",
            "Добавляем текущего гостя с его временем отъезда: [1999755854]\n",
            "--------------------\n",
            "Left: 999755858, Mid: 999877927, Right: 999999997\n",
            "arrival in loop: 98\n",
            "Удаляем гостей, которые уже должны были уйти: []\n",
            "Добавляем текущего гостя с его временем отъезда: [999878025]\n",
            "arrival in loop: 123\n",
            "Удаляем гостей, которые уже должны были уйти: [999878025]\n",
            "Добавляем текущего гостя с его временем отъезда: [999878025, 999878050]\n",
            "arrival in loop: 42\n",
            "Удаляем гостей, которые уже должны были уйти: [999878025, 999878050]\n",
            "Добавляем текущего гостя с его временем отъезда: [999878025, 999878050, 999877969]\n",
            "arrival in loop: 1840\n",
            "Удаляем гостей, которые уже должны были уйти: [999878025, 999878050, 999877969]\n",
            "Добавляем текущего гостя с его временем отъезда: [999878025, 999878050, 999877969, 999879767]\n",
            "arrival in loop: 999999997\n",
            "Удаляем гостей, которые уже должны были уйти: []\n",
            "Добавляем текущего гостя с его временем отъезда: [1999877924]\n",
            "--------------------\n",
            "Left: 999877928, Mid: 999938962, Right: 999999997\n",
            "arrival in loop: 98\n",
            "Удаляем гостей, которые уже должны были уйти: []\n",
            "Добавляем текущего гостя с его временем отъезда: [999939060]\n",
            "arrival in loop: 123\n",
            "Удаляем гостей, которые уже должны были уйти: [999939060]\n",
            "Добавляем текущего гостя с его временем отъезда: [999939060, 999939085]\n",
            "arrival in loop: 42\n",
            "Удаляем гостей, которые уже должны были уйти: [999939060, 999939085]\n",
            "Добавляем текущего гостя с его временем отъезда: [999939060, 999939085, 999939004]\n",
            "arrival in loop: 1840\n",
            "Удаляем гостей, которые уже должны были уйти: [999939060, 999939085, 999939004]\n",
            "Добавляем текущего гостя с его временем отъезда: [999939060, 999939085, 999939004, 999940802]\n",
            "arrival in loop: 999999997\n",
            "Удаляем гостей, которые уже должны были уйти: []\n",
            "Добавляем текущего гостя с его временем отъезда: [1999938959]\n",
            "--------------------\n",
            "Left: 999938963, Mid: 999969480, Right: 999999997\n",
            "arrival in loop: 98\n",
            "Удаляем гостей, которые уже должны были уйти: []\n",
            "Добавляем текущего гостя с его временем отъезда: [999969578]\n",
            "arrival in loop: 123\n",
            "Удаляем гостей, которые уже должны были уйти: [999969578]\n",
            "Добавляем текущего гостя с его временем отъезда: [999969578, 999969603]\n",
            "arrival in loop: 42\n",
            "Удаляем гостей, которые уже должны были уйти: [999969578, 999969603]\n",
            "Добавляем текущего гостя с его временем отъезда: [999969578, 999969603, 999969522]\n",
            "arrival in loop: 1840\n",
            "Удаляем гостей, которые уже должны были уйти: [999969578, 999969603, 999969522]\n",
            "Добавляем текущего гостя с его временем отъезда: [999969578, 999969603, 999969522, 999971320]\n",
            "arrival in loop: 999999997\n",
            "Удаляем гостей, которые уже должны были уйти: []\n",
            "Добавляем текущего гостя с его временем отъезда: [1999969477]\n",
            "--------------------\n",
            "Left: 999969481, Mid: 999984739, Right: 999999997\n",
            "arrival in loop: 98\n",
            "Удаляем гостей, которые уже должны были уйти: []\n",
            "Добавляем текущего гостя с его временем отъезда: [999984837]\n",
            "arrival in loop: 123\n",
            "Удаляем гостей, которые уже должны были уйти: [999984837]\n",
            "Добавляем текущего гостя с его временем отъезда: [999984837, 999984862]\n",
            "arrival in loop: 42\n",
            "Удаляем гостей, которые уже должны были уйти: [999984837, 999984862]\n",
            "Добавляем текущего гостя с его временем отъезда: [999984837, 999984862, 999984781]\n",
            "arrival in loop: 1840\n",
            "Удаляем гостей, которые уже должны были уйти: [999984837, 999984862, 999984781]\n",
            "Добавляем текущего гостя с его временем отъезда: [999984837, 999984862, 999984781, 999986579]\n",
            "arrival in loop: 999999997\n",
            "Удаляем гостей, которые уже должны были уйти: []\n",
            "Добавляем текущего гостя с его временем отъезда: [1999984736]\n",
            "--------------------\n",
            "Left: 999984740, Mid: 999992368, Right: 999999997\n",
            "arrival in loop: 98\n",
            "Удаляем гостей, которые уже должны были уйти: []\n",
            "Добавляем текущего гостя с его временем отъезда: [999992466]\n",
            "arrival in loop: 123\n",
            "Удаляем гостей, которые уже должны были уйти: [999992466]\n",
            "Добавляем текущего гостя с его временем отъезда: [999992466, 999992491]\n",
            "arrival in loop: 42\n",
            "Удаляем гостей, которые уже должны были уйти: [999992466, 999992491]\n",
            "Добавляем текущего гостя с его временем отъезда: [999992466, 999992491, 999992410]\n",
            "arrival in loop: 1840\n",
            "Удаляем гостей, которые уже должны были уйти: [999992466, 999992491, 999992410]\n",
            "Добавляем текущего гостя с его временем отъезда: [999992466, 999992491, 999992410, 999994208]\n",
            "arrival in loop: 999999997\n",
            "Удаляем гостей, которые уже должны были уйти: []\n",
            "Добавляем текущего гостя с его временем отъезда: [1999992365]\n",
            "--------------------\n",
            "Left: 999992369, Mid: 999996183, Right: 999999997\n",
            "arrival in loop: 98\n",
            "Удаляем гостей, которые уже должны были уйти: []\n",
            "Добавляем текущего гостя с его временем отъезда: [999996281]\n",
            "arrival in loop: 123\n",
            "Удаляем гостей, которые уже должны были уйти: [999996281]\n",
            "Добавляем текущего гостя с его временем отъезда: [999996281, 999996306]\n",
            "arrival in loop: 42\n",
            "Удаляем гостей, которые уже должны были уйти: [999996281, 999996306]\n",
            "Добавляем текущего гостя с его временем отъезда: [999996281, 999996306, 999996225]\n",
            "arrival in loop: 1840\n",
            "Удаляем гостей, которые уже должны были уйти: [999996281, 999996306, 999996225]\n",
            "Добавляем текущего гостя с его временем отъезда: [999996281, 999996306, 999996225, 999998023]\n",
            "arrival in loop: 999999997\n",
            "Удаляем гостей, которые уже должны были уйти: []\n",
            "Добавляем текущего гостя с его временем отъезда: [1999996180]\n",
            "--------------------\n",
            "Left: 999996184, Mid: 999998090, Right: 999999997\n",
            "arrival in loop: 98\n",
            "Удаляем гостей, которые уже должны были уйти: []\n",
            "Добавляем текущего гостя с его временем отъезда: [999998188]\n",
            "arrival in loop: 123\n",
            "Удаляем гостей, которые уже должны были уйти: [999998188]\n",
            "Добавляем текущего гостя с его временем отъезда: [999998188, 999998213]\n",
            "arrival in loop: 42\n",
            "Удаляем гостей, которые уже должны были уйти: [999998188, 999998213]\n",
            "Добавляем текущего гостя с его временем отъезда: [999998188, 999998213, 999998132]\n",
            "arrival in loop: 1840\n",
            "Удаляем гостей, которые уже должны были уйти: [999998188, 999998213, 999998132]\n",
            "Добавляем текущего гостя с его временем отъезда: [999998188, 999998213, 999998132, 999999930]\n",
            "arrival in loop: 999999997\n",
            "Удаляем гостей, которые уже должны были уйти: []\n",
            "Добавляем текущего гостя с его временем отъезда: [1999998087]\n",
            "--------------------\n",
            "Left: 999998091, Mid: 999999044, Right: 999999997\n",
            "arrival in loop: 98\n",
            "Удаляем гостей, которые уже должны были уйти: []\n",
            "Добавляем текущего гостя с его временем отъезда: [999999142]\n",
            "arrival in loop: 123\n",
            "Удаляем гостей, которые уже должны были уйти: [999999142]\n",
            "Добавляем текущего гостя с его временем отъезда: [999999142, 999999167]\n",
            "arrival in loop: 42\n",
            "Удаляем гостей, которые уже должны были уйти: [999999142, 999999167]\n",
            "Добавляем текущего гостя с его временем отъезда: [999999142, 999999167, 999999086]\n",
            "arrival in loop: 1840\n",
            "Удаляем гостей, которые уже должны были уйти: [999999142, 999999167, 999999086]\n",
            "Добавляем текущего гостя с его временем отъезда: [999999142, 999999167, 999999086, 1000000884]\n",
            "arrival in loop: 999999997\n",
            "Удаляем гостей, которые уже должны были уйти: [1000000884]\n",
            "Добавляем текущего гостя с его временем отъезда: [1000000884, 1999999041]\n",
            "--------------------\n",
            "Left: 999999045, Mid: 999999521, Right: 999999997\n",
            "arrival in loop: 98\n",
            "Удаляем гостей, которые уже должны были уйти: []\n",
            "Добавляем текущего гостя с его временем отъезда: [999999619]\n",
            "arrival in loop: 123\n",
            "Удаляем гостей, которые уже должны были уйти: [999999619]\n",
            "Добавляем текущего гостя с его временем отъезда: [999999619, 999999644]\n",
            "arrival in loop: 42\n",
            "Удаляем гостей, которые уже должны были уйти: [999999619, 999999644]\n",
            "Добавляем текущего гостя с его временем отъезда: [999999619, 999999644, 999999563]\n",
            "arrival in loop: 1840\n",
            "Удаляем гостей, которые уже должны были уйти: [999999619, 999999644, 999999563]\n",
            "Добавляем текущего гостя с его временем отъезда: [999999619, 999999644, 999999563, 1000001361]\n",
            "arrival in loop: 999999997\n",
            "Удаляем гостей, которые уже должны были уйти: [1000001361]\n",
            "Добавляем текущего гостя с его временем отъезда: [1000001361, 1999999518]\n",
            "--------------------\n",
            "Left: 999999522, Mid: 999999759, Right: 999999997\n",
            "arrival in loop: 98\n",
            "Удаляем гостей, которые уже должны были уйти: []\n",
            "Добавляем текущего гостя с его временем отъезда: [999999857]\n",
            "arrival in loop: 123\n",
            "Удаляем гостей, которые уже должны были уйти: [999999857]\n",
            "Добавляем текущего гостя с его временем отъезда: [999999857, 999999882]\n",
            "arrival in loop: 42\n",
            "Удаляем гостей, которые уже должны были уйти: [999999857, 999999882]\n",
            "Добавляем текущего гостя с его временем отъезда: [999999857, 999999882, 999999801]\n",
            "arrival in loop: 1840\n",
            "Удаляем гостей, которые уже должны были уйти: [999999857, 999999882, 999999801]\n",
            "Добавляем текущего гостя с его временем отъезда: [999999857, 999999882, 999999801, 1000001599]\n",
            "arrival in loop: 999999997\n",
            "Удаляем гостей, которые уже должны были уйти: [1000001599]\n",
            "Добавляем текущего гостя с его временем отъезда: [1000001599, 1999999756]\n",
            "--------------------\n",
            "Left: 999999760, Mid: 999999878, Right: 999999997\n",
            "arrival in loop: 98\n",
            "Удаляем гостей, которые уже должны были уйти: []\n",
            "Добавляем текущего гостя с его временем отъезда: [999999976]\n",
            "arrival in loop: 123\n",
            "Удаляем гостей, которые уже должны были уйти: [999999976]\n",
            "Добавляем текущего гостя с его временем отъезда: [999999976, 1000000001]\n",
            "arrival in loop: 42\n",
            "Удаляем гостей, которые уже должны были уйти: [999999976, 1000000001]\n",
            "Добавляем текущего гостя с его временем отъезда: [999999976, 1000000001, 999999920]\n",
            "arrival in loop: 1840\n",
            "Удаляем гостей, которые уже должны были уйти: [999999976, 1000000001, 999999920]\n",
            "Добавляем текущего гостя с его временем отъезда: [999999976, 1000000001, 999999920, 1000001718]\n",
            "arrival in loop: 999999997\n",
            "Удаляем гостей, которые уже должны были уйти: [1000000001, 1000001718]\n",
            "Добавляем текущего гостя с его временем отъезда: [1000000001, 1000001718, 1999999875]\n",
            "--------------------\n",
            "Left: 999999879, Mid: 999999938, Right: 999999997\n",
            "arrival in loop: 98\n",
            "Удаляем гостей, которые уже должны были уйти: []\n",
            "Добавляем текущего гостя с его временем отъезда: [1000000036]\n",
            "arrival in loop: 123\n",
            "Удаляем гостей, которые уже должны были уйти: [1000000036]\n",
            "Добавляем текущего гостя с его временем отъезда: [1000000036, 1000000061]\n",
            "arrival in loop: 42\n",
            "Удаляем гостей, которые уже должны были уйти: [1000000036, 1000000061]\n",
            "Добавляем текущего гостя с его временем отъезда: [1000000036, 1000000061, 999999980]\n",
            "arrival in loop: 1840\n",
            "Удаляем гостей, которые уже должны были уйти: [1000000036, 1000000061, 999999980]\n",
            "Добавляем текущего гостя с его временем отъезда: [1000000036, 1000000061, 999999980, 1000001778]\n",
            "arrival in loop: 999999997\n",
            "Удаляем гостей, которые уже должны были уйти: [1000000036, 1000000061, 1000001778]\n",
            "Добавляем текущего гостя с его временем отъезда: [1000000036, 1000000061, 1000001778, 1999999935]\n",
            "--------------------\n",
            "Left: 999999939, Mid: 999999968, Right: 999999997\n",
            "arrival in loop: 98\n",
            "Удаляем гостей, которые уже должны были уйти: []\n",
            "Добавляем текущего гостя с его временем отъезда: [1000000066]\n",
            "arrival in loop: 123\n",
            "Удаляем гостей, которые уже должны были уйти: [1000000066]\n",
            "Добавляем текущего гостя с его временем отъезда: [1000000066, 1000000091]\n",
            "arrival in loop: 42\n",
            "Удаляем гостей, которые уже должны были уйти: [1000000066, 1000000091]\n",
            "Добавляем текущего гостя с его временем отъезда: [1000000066, 1000000091, 1000000010]\n",
            "arrival in loop: 1840\n",
            "Удаляем гостей, которые уже должны были уйти: [1000000066, 1000000091, 1000000010]\n",
            "Добавляем текущего гостя с его временем отъезда: [1000000066, 1000000091, 1000000010, 1000001808]\n",
            "arrival in loop: 999999997\n",
            "Удаляем гостей, которые уже должны были уйти: [1000000066, 1000000091, 1000000010, 1000001808]\n",
            "Добавляем текущего гостя с его временем отъезда: [1000000066, 1000000091, 1000000010, 1000001808, 1999999965]\n",
            "--------------------\n",
            "Left: 999999969, Mid: 999999983, Right: 999999997\n",
            "arrival in loop: 98\n",
            "Удаляем гостей, которые уже должны были уйти: []\n",
            "Добавляем текущего гостя с его временем отъезда: [1000000081]\n",
            "arrival in loop: 123\n",
            "Удаляем гостей, которые уже должны были уйти: [1000000081]\n",
            "Добавляем текущего гостя с его временем отъезда: [1000000081, 1000000106]\n",
            "arrival in loop: 42\n",
            "Удаляем гостей, которые уже должны были уйти: [1000000081, 1000000106]\n",
            "Добавляем текущего гостя с его временем отъезда: [1000000081, 1000000106, 1000000025]\n",
            "arrival in loop: 1840\n",
            "Удаляем гостей, которые уже должны были уйти: [1000000081, 1000000106, 1000000025]\n",
            "Добавляем текущего гостя с его временем отъезда: [1000000081, 1000000106, 1000000025, 1000001823]\n",
            "arrival in loop: 999999997\n",
            "Удаляем гостей, которые уже должны были уйти: [1000000081, 1000000106, 1000000025, 1000001823]\n",
            "Добавляем текущего гостя с его временем отъезда: [1000000081, 1000000106, 1000000025, 1000001823, 1999999980]\n",
            "--------------------\n",
            "Left: 999999984, Mid: 999999990, Right: 999999997\n",
            "arrival in loop: 98\n",
            "Удаляем гостей, которые уже должны были уйти: []\n",
            "Добавляем текущего гостя с его временем отъезда: [1000000088]\n",
            "arrival in loop: 123\n",
            "Удаляем гостей, которые уже должны были уйти: [1000000088]\n",
            "Добавляем текущего гостя с его временем отъезда: [1000000088, 1000000113]\n",
            "arrival in loop: 42\n",
            "Удаляем гостей, которые уже должны были уйти: [1000000088, 1000000113]\n",
            "Добавляем текущего гостя с его временем отъезда: [1000000088, 1000000113, 1000000032]\n",
            "arrival in loop: 1840\n",
            "Удаляем гостей, которые уже должны были уйти: [1000000088, 1000000113, 1000000032]\n",
            "Добавляем текущего гостя с его временем отъезда: [1000000088, 1000000113, 1000000032, 1000001830]\n",
            "arrival in loop: 999999997\n",
            "Удаляем гостей, которые уже должны были уйти: [1000000088, 1000000113, 1000000032, 1000001830]\n",
            "Добавляем текущего гостя с его временем отъезда: [1000000088, 1000000113, 1000000032, 1000001830, 1999999987]\n",
            "--------------------\n",
            "Left: 999999991, Mid: 999999994, Right: 999999997\n",
            "arrival in loop: 98\n",
            "Удаляем гостей, которые уже должны были уйти: []\n",
            "Добавляем текущего гостя с его временем отъезда: [1000000092]\n",
            "arrival in loop: 123\n",
            "Удаляем гостей, которые уже должны были уйти: [1000000092]\n",
            "Добавляем текущего гостя с его временем отъезда: [1000000092, 1000000117]\n",
            "arrival in loop: 42\n",
            "Удаляем гостей, которые уже должны были уйти: [1000000092, 1000000117]\n",
            "Добавляем текущего гостя с его временем отъезда: [1000000092, 1000000117, 1000000036]\n",
            "arrival in loop: 1840\n",
            "Удаляем гостей, которые уже должны были уйти: [1000000092, 1000000117, 1000000036]\n",
            "Добавляем текущего гостя с его временем отъезда: [1000000092, 1000000117, 1000000036, 1000001834]\n",
            "arrival in loop: 999999997\n",
            "Удаляем гостей, которые уже должны были уйти: [1000000092, 1000000117, 1000000036, 1000001834]\n",
            "Добавляем текущего гостя с его временем отъезда: [1000000092, 1000000117, 1000000036, 1000001834, 1999999991]\n",
            "--------------------\n",
            "Left: 999999995, Mid: 999999996, Right: 999999997\n",
            "arrival in loop: 98\n",
            "Удаляем гостей, которые уже должны были уйти: []\n",
            "Добавляем текущего гостя с его временем отъезда: [1000000094]\n",
            "arrival in loop: 123\n",
            "Удаляем гостей, которые уже должны были уйти: [1000000094]\n",
            "Добавляем текущего гостя с его временем отъезда: [1000000094, 1000000119]\n",
            "arrival in loop: 42\n",
            "Удаляем гостей, которые уже должны были уйти: [1000000094, 1000000119]\n",
            "Добавляем текущего гостя с его временем отъезда: [1000000094, 1000000119, 1000000038]\n",
            "arrival in loop: 1840\n",
            "Удаляем гостей, которые уже должны были уйти: [1000000094, 1000000119, 1000000038]\n",
            "Добавляем текущего гостя с его временем отъезда: [1000000094, 1000000119, 1000000038, 1000001836]\n",
            "arrival in loop: 999999997\n",
            "Удаляем гостей, которые уже должны были уйти: [1000000094, 1000000119, 1000000038, 1000001836]\n",
            "Добавляем текущего гостя с его временем отъезда: [1000000094, 1000000119, 1000000038, 1000001836, 1999999993]\n",
            "--------------------\n",
            "Left: 999999997, Mid: 999999997, Right: 999999997\n",
            "arrival in loop: 98\n",
            "Удаляем гостей, которые уже должны были уйти: []\n",
            "Добавляем текущего гостя с его временем отъезда: [1000000095]\n",
            "arrival in loop: 123\n",
            "Удаляем гостей, которые уже должны были уйти: [1000000095]\n",
            "Добавляем текущего гостя с его временем отъезда: [1000000095, 1000000120]\n",
            "arrival in loop: 42\n",
            "Удаляем гостей, которые уже должны были уйти: [1000000095, 1000000120]\n",
            "Добавляем текущего гостя с его временем отъезда: [1000000095, 1000000120, 1000000039]\n",
            "arrival in loop: 1840\n",
            "Удаляем гостей, которые уже должны были уйти: [1000000095, 1000000120, 1000000039]\n",
            "Добавляем текущего гостя с его временем отъезда: [1000000095, 1000000120, 1000000039, 1000001837]\n",
            "arrival in loop: 999999997\n",
            "Удаляем гостей, которые уже должны были уйти: [1000000095, 1000000120, 1000000039, 1000001837]\n",
            "Добавляем текущего гостя с его временем отъезда: [1000000095, 1000000120, 1000000039, 1000001837, 1999999994]\n",
            "--------------------\n",
            "arrival in loop: 98\n",
            "Удаляем гостей, которые уже должны были уйти: []\n",
            "Добавляем текущего гостя с его временем отъезда: [inf]\n",
            "arrival in loop: 123\n",
            "Удаляем гостей, которые уже должны были уйти: [inf]\n",
            "Добавляем текущего гостя с его временем отъезда: [inf, inf]\n",
            "arrival in loop: 42\n",
            "Удаляем гостей, которые уже должны были уйти: [inf, inf]\n",
            "Добавляем текущего гостя с его временем отъезда: [inf, inf, inf]\n",
            "arrival in loop: 1840\n",
            "Удаляем гостей, которые уже должны были уйти: [inf, inf, inf]\n",
            "Добавляем текущего гостя с его временем отъезда: [inf, inf, inf, inf]\n",
            "arrival in loop: 999999997\n",
            "Удаляем гостей, которые уже должны были уйти: [inf, inf, inf, inf]\n",
            "Добавляем текущего гостя с его временем отъезда: [inf, inf, inf, inf, inf]\n",
            "INF\n"
          ]
        }
      ]
    },
    {
      "cell_type": "markdown",
      "source": [
        "Метод скользящего окна для поиска интервала времени, в котором количество туристов превышает $𝑆$. Поддерживается два указателя, $left$ и $right$, которые обозначают границы текущего окна времени.\n",
        "\n",
        "- Перемещаем указатель $right$, увеличивая количество гостей в окне.\n",
        "- Когда количество гостей в окне становится больше $S$, обновляем минимальное время, на которое необходимо ограничить пребывание, чтобы количество гостей не превышало $S$. Затем перемещаем указатель $left$ для поиска нового интервала."
      ],
      "metadata": {
        "id": "sRSTcZDk8m_a"
      }
    },
    {
      "cell_type": "code",
      "source": [
        "N, S = map(int, input().split())\n",
        "guests = []\n",
        "\n",
        "for i in range(N):\n",
        "    guests.append(int(input()))\n",
        "# 5 100\n",
        "# 98\n",
        "# 123\n",
        "# 42\n",
        "# 1840\n",
        "# 999999997\n",
        "\n",
        "# 8 3\n",
        "# 3\n",
        "# 6\n",
        "# 4\n",
        "# 5\n",
        "# 0\n",
        "# 2\n",
        "# 7\n",
        "# 0\n",
        "# N, S = 5, 100\n",
        "# guests = [98, 123, 42, 1840, 999999997]\n",
        "guests.sort()\n",
        "\n",
        "if N <= S:\n",
        "    print(\"INF\")\n",
        "else:\n",
        "    diff = float('inf')\n",
        "    left = 0\n",
        "    current_guests = 0\n",
        "    for right in range(N):\n",
        "        current_guests += 1\n",
        "        if current_guests == S + 1:\n",
        "            diff = min(diff, guests[right] - guests[left])\n",
        "            prev_guest = guests[left]\n",
        "            while (guests[left] == prev_guest) and (left<right):\n",
        "                left += 1\n",
        "                current_guests -= 1\n",
        "    if diff <= 0:\n",
        "        print(\"Impossible\")\n",
        "    else:\n",
        "        print(diff)"
      ],
      "metadata": {
        "colab": {
          "base_uri": "https://localhost:8080/"
        },
        "id": "yPx2eLJd0qy8",
        "outputId": "6527c6ab-c50a-4968-d257-c89ca3cccf43"
      },
      "execution_count": null,
      "outputs": [
        {
          "output_type": "stream",
          "name": "stdout",
          "text": [
            "INF\n"
          ]
        }
      ]
    },
    {
      "cell_type": "markdown",
      "source": [
        "# 573. Антиголубь"
      ],
      "metadata": {
        "id": "qvRD2bdU2nQm"
      }
    },
    {
      "cell_type": "markdown",
      "source": [
        "Классификатор Антиголубь должен отличать котов от голубей, чтобы Мария Владимировна из задачи ”Найди кота!” была спокойна, что корм для кошек не крадут голуби.\n",
        "\n",
        "Для этой задачи стажёр Тимур привлёк Кирилла, своего друга, с которым он познакомился на стажировке.\n",
        "\n",
        "Тимур и Кирилл написали классификаторы для потока, про который известно, что голубей там ровно половина. Классификатор Тимура опознаёт $80\\%$ голубей из всех голубей, но находит (ошибочно) $40\\%$ голубей среди всех котов. Классификатор Кирилла опознаёт $60\\%$ голубей из всех голубей, но считает голубем $20\\%$ котов.\n",
        "\n",
        "Если предположить, что они написали один и тот же классификатор, определяющий посещения кормушки голубями, в пределах от $0$ до $1$, но выбрали различный порог срабатывания, какая у этого классификатора может быть максимальная $f-мера$?\n",
        "\n",
        "**Формат вывода**\n",
        "\n",
        "Если ответ не является целым числом, запишите его в виде десятичной дроби. Если значимых цифр после запятой больше шести, округлите ответ до 6 знаков после запятой или точки (формат (-)N,NNNNNN или (-)N.NNNNNN), используя округление до ближайшего (например: 0,1234565 следует округлить до 0,123457). Если десятичная запись с 6 знаками заканчивается нулями, то их можно опустить (например: 0,123 можно представить либо 0,123, либо 0,1230, либо 0,12300, либо 0,123000)."
      ],
      "metadata": {
        "id": "rs6TzL-I2qBY"
      }
    },
    {
      "cell_type": "markdown",
      "source": [
        "![image.png](data:image/png;base64,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)"
      ],
      "metadata": {
        "id": "2n2UEt6G5PA6"
      }
    },
    {
      "cell_type": "markdown",
      "source": [
        "![image.png](data:image/png;base64,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)"
      ],
      "metadata": {
        "id": "hTX70YJT5Pge"
      }
    },
    {
      "cell_type": "markdown",
      "source": [
        "Для Тимура:\n",
        "\n",
        "- $TPR = 0.8$\n",
        "- $FPR = 0.4$\n",
        "\n",
        "Для Кирилла:\n",
        "\n",
        "- $TPR = 0.6$\n",
        "- $FPR = 0.2$"
      ],
      "metadata": {
        "id": "VRvdyn_y5SFE"
      }
    },
    {
      "cell_type": "markdown",
      "source": [
        "$\\frac{FP}{TN+FP} = \\frac{8}{10}$\n",
        "\n",
        "$\\frac{TP}{TP+FN} = \\frac{4}{10}$\n",
        "\n",
        "$FP+TN = TP+FN$"
      ],
      "metadata": {
        "id": "laQa0kXa53YH"
      }
    },
    {
      "cell_type": "code",
      "source": [
        "import numpy as np\n",
        "import matplotlib.pyplot as plt\n",
        "\n",
        "# Пример данных (TPR и FPR для двух порогов)\n",
        "tpr_points = [0.8, 0.6]\n",
        "fpr_points = [0.4, 0.2]\n",
        "\n",
        "# Предполагаем, что данные сбалансированы (например, количество положительных и отрицательных классов одинаково)\n",
        "# Количество истинных положительных и ложных положительных\n",
        "# Эти значения можно приблизительно рассчитать или принять как гипотетические\n",
        "\n",
        "# Поставим, что precision и recall можно приблизительно рассчитать для интерполяции\n",
        "recalls = np.linspace(min(tpr_points), max(tpr_points), num=100)\n",
        "precisions = np.linspace(0.1, 0.9, num=100)  # Здесь нужно применять реальные данные, если они известны\n",
        "\n",
        "# Построение PR кривой\n",
        "plt.figure(figsize=(8, 6))\n",
        "plt.plot(recalls, precisions, label='PR Curve')\n",
        "plt.xlabel('Recall')\n",
        "plt.ylabel('Precision')\n",
        "plt.title('Precision-Recall Curve')\n",
        "plt.grid(True)\n",
        "plt.legend()\n",
        "plt.show()"
      ],
      "metadata": {
        "colab": {
          "base_uri": "https://localhost:8080/",
          "height": 564
        },
        "id": "sOiCBZ-wPCqo",
        "outputId": "ccd7d954-8140-41c8-f1d1-29e430107db8"
      },
      "execution_count": null,
      "outputs": [
        {
          "output_type": "display_data",
          "data": {
            "text/plain": [
              "<Figure size 800x600 with 1 Axes>"
            ],
            "image/png": "[encoded data removed]"
          },
          "metadata": {}
        }
      ]
    },
    {
      "cell_type": "code",
      "source": [
        "import numpy as np\n",
        "\n",
        "def f_measure(precision, recall):\n",
        "    if precision + recall == 0:\n",
        "        return 0\n",
        "    return 2 * (precision * recall) / (precision + recall)\n",
        "\n",
        "def find_max_f_measure(p_t, f_p_t, p_k, f_p_k):\n",
        "    # Точность и полнота для классификатора Тимура\n",
        "    precision_t = p_t\n",
        "    recall_t = 1 - f_p_t\n",
        "\n",
        "    # Точность и полнота для классификатора Кирилла\n",
        "    precision_k = p_k\n",
        "    recall_k = 1 - f_p_k\n",
        "\n",
        "    # Максимизация F-меры\n",
        "    f_t = f_measure(precision_t, recall_t)\n",
        "    f_k = f_measure(precision_k, recall_k)\n",
        "\n",
        "    return max(f_t, f_k)\n",
        "\n",
        "# Входные данные\n",
        "p_t = 0.8  # точность Тимура\n",
        "f_p_t = 0.4  # ложноположительные Тимура\n",
        "p_k = 0.6  # точность Кирилла\n",
        "f_p_k = 0.2  # ложноположительные Кирилла\n",
        "\n",
        "# Нахождение максимальной F-меры\n",
        "max_f = find_max_f_measure(p_t, f_p_t, p_k, f_p_k)\n",
        "\n",
        "# Вывод с округлением до 6 знаков после запятой\n",
        "print(f\"{max_f:.6f}\")"
      ],
      "metadata": {
        "colab": {
          "base_uri": "https://localhost:8080/"
        },
        "id": "R5DzJKP727Zq",
        "outputId": "6a200ee3-c1f8-4f47-da29-61c30ec43742"
      },
      "execution_count": null,
      "outputs": [
        {
          "output_type": "stream",
          "name": "stdout",
          "text": [
            "0.685714\n"
          ]
        }
      ]
    },
    {
      "cell_type": "code",
      "source": [
        "def calculate_f_measure(tpr, fpr):\n",
        "    precision = tpr / (tpr + fpr)\n",
        "    recall = tpr\n",
        "    f_measure = 2 * (precision * recall) / (precision + recall)\n",
        "    return f_measure\n",
        "\n",
        "# Показатели классификаторов\n",
        "classifiers = [\n",
        "    {'tpr': 0.8, 'fpr': 0.4},  # Тимур\n",
        "    {'tpr': 0.6, 'fpr': 0.2}   # Кирилл\n",
        "]\n",
        "\n",
        "# Вычисляем F-меру для каждого классификатора\n",
        "max_f_measure = 0\n",
        "for classifier in classifiers:\n",
        "    tpr = classifier['tpr']\n",
        "    fpr = classifier['fpr']\n",
        "    f_measure = calculate_f_measure(tpr, fpr)\n",
        "    if f_measure > max_f_measure:\n",
        "        max_f_measure = f_measure\n",
        "\n",
        "print(f\"{max_f_measure:.6f}\")"
      ],
      "metadata": {
        "colab": {
          "base_uri": "https://localhost:8080/"
        },
        "id": "HfMfWd4D9BVf",
        "outputId": "1d04f479-8c05-432f-ddcb-683fe3331070"
      },
      "execution_count": null,
      "outputs": [
        {
          "output_type": "stream",
          "name": "stdout",
          "text": [
            "0.727273\n"
          ]
        }
      ]
    },
    {
      "cell_type": "code",
      "source": [
        "from numpy import linspace\n",
        "\n",
        "def F(x, y):\n",
        "    if x + y == 0:\n",
        "        return float('-inf')  # Avoid division by zero\n",
        "    return 2 * x * y / (x + y)\n",
        "\n",
        "max_value = float('-inf')\n",
        "max_x = 0\n",
        "\n",
        "size = 10_000\n",
        "left = 0\n",
        "right = 1\n",
        "\n",
        "for epoch in range(10):\n",
        "    x_values = linspace(left, right, size)\n",
        "\n",
        "    for x in x_values:\n",
        "        y = -12 * x / 5 + 12 / 5\n",
        "        current_value = F(x, y)\n",
        "        if current_value > max_value:\n",
        "            max_value = current_value\n",
        "            max_x = x\n",
        "\n",
        "    # Update the search range centered around max_x\n",
        "    range_width = (right - left) / 3\n",
        "    left = max(0, max_x - range_width)\n",
        "    right = min(1, max_x + range_width)\n",
        "    # print(f\"Epoch {epoch+1}: left = {left}, max_x = {max_x}, right = {right}, max_value = {max_value}\")\n",
        "\n",
        "print(f\"Maximum value of F = {max_value} at x = {max_x}\")\n",
        "print(\"Rounded:\", round(max_value, 6))"
      ],
      "metadata": {
        "colab": {
          "base_uri": "https://localhost:8080/"
        },
        "id": "O-jOtWsLNxpy",
        "outputId": "5e474cc3-4a09-4a40-c1ba-89b38eeec27b"
      },
      "execution_count": null,
      "outputs": [
        {
          "output_type": "stream",
          "name": "stdout",
          "text": [
            "Maximum value of F = 0.7386448727353314 at x = 0.6077196552658366\n",
            "Rounded: 0.738645\n"
          ]
        }
      ]
    },
    {
      "cell_type": "code",
      "source": [
        "t = 2*0.60771904*0.941474/(0.60771904 + 0.941474)\n",
        "round(t, 6)"
      ],
      "metadata": {
        "colab": {
          "base_uri": "https://localhost:8080/"
        },
        "id": "-3yBRYTWN7ph",
        "outputId": "46f6813f-8c71-43e6-ea39-e0d4c742368f"
      },
      "execution_count": null,
      "outputs": [
        {
          "output_type": "execute_result",
          "data": {
            "text/plain": [
              "0.738645"
            ]
          },
          "metadata": {},
          "execution_count": 3
        }
      ]
    },
    {
      "cell_type": "markdown",
      "source": [
        "# 574. Лето у бабушки"
      ],
      "metadata": {
        "id": "hNGGie8_Ftmd"
      }
    },
    {
      "cell_type": "markdown",
      "source": [
        "В прекрасную солнечную Кубань приехали на лето к бабушке брат и сестра Пафнутий и Алевтина. Пафнутий и Алевтина каждый день летних каникул играли с кубиками и больше всего им понравилась следующая игра:\n",
        "\n",
        "Есть два игрока, игроки по очереди бросают по одному $k$-гранному кубику, пока число выпавших кубиков не будет равно $m$. Когда выпало $m$ кубиков, игроки перемножают выпавшие на кубиках числа и считают количество делителей и у получившегося числа.\n",
        "\n",
        "Если это число имеет нечетное число делителей, то победил первый игрок. В обратном случае побеждает второй игрок.\n",
        "\n",
        "Пафнутий начинает первым. А Пафнутий очень любознательный мальчик, поэтому он просит вас ответить ему на один единственный вопрос: **какая вероятность его победы, если все кубики бросаются независимо?**\n",
        "\n",
        "Можно показать, что ответ может быть представлен в виде несократимой дроби $\\frac{q}{p}$, где $p$ и $q$ ~--- целые числа, и $q \\not\\equiv{0}$ $(\\mod1000000007)$. Выведите целое число, равное $p⋅q^{−1} \\mod 1000000007$.\n",
        "\n",
        "Другими словами, выведите такое целое число $x$, что $0≤x<1000000007$ и $x⋅q≡p(\\mod1000000007)$.\n",
        "\n",
        "**Формат ввода**\n",
        "\n",
        "В первой и единственной строке находятся два целых числа − число кубиков $1≤m≤1000$, число граней каждого кубика $3≤k≤20$.\n",
        "\n",
        "**Формат вывода**\n",
        "\n",
        "Выведите одно целое число − значение $p⋅q^{−1} \\mod 1000000007$.\n",
        "\n",
        "**Примечание**\n",
        "\n",
        "Кубик называется $k$ гранным если на его гранях записаны цифры от $1$ до $k$ и все они могут равновероятно выпасть на кубике."
      ],
      "metadata": {
        "id": "Jd-rxNEvFuNx"
      }
    },
    {
      "cell_type": "code",
      "source": [
        "m, k = map(int, input().strip().split())\n",
        "\n",
        "grani = []\n",
        "for i in range(m):\n",
        "    grani.append([i+1 for i in range(k)])\n",
        "\n",
        "grani"
      ],
      "metadata": {
        "colab": {
          "base_uri": "https://localhost:8080/"
        },
        "id": "xJbJmyMVVE8q",
        "outputId": "24d06857-7b9d-49d5-a6d9-e024e2248e73"
      },
      "execution_count": null,
      "outputs": [
        {
          "name": "stdout",
          "output_type": "stream",
          "text": [
            "5 5\n"
          ]
        },
        {
          "output_type": "execute_result",
          "data": {
            "text/plain": [
              "[[1, 2, 3, 4, 5],\n",
              " [1, 2, 3, 4, 5],\n",
              " [1, 2, 3, 4, 5],\n",
              " [1, 2, 3, 4, 5],\n",
              " [1, 2, 3, 4, 5]]"
            ]
          },
          "metadata": {},
          "execution_count": 15
        }
      ]
    },
    {
      "cell_type": "code",
      "source": [
        "m = 3\n",
        "k = 3\n",
        "faces = [i + 1 for i in range(k)]\n",
        "print(faces)\n",
        "print('-'*10)\n",
        "# Generate all possible outcomes for m dice\n",
        "combinations = itertools.product(faces, repeat=m)\n",
        "list(combinations)"
      ],
      "metadata": {
        "colab": {
          "base_uri": "https://localhost:8080/"
        },
        "id": "gKq_HsBFb0TJ",
        "outputId": "2c902dcd-45a0-4cbe-925f-7f68dcfdef22"
      },
      "execution_count": null,
      "outputs": [
        {
          "output_type": "stream",
          "name": "stdout",
          "text": [
            "[1, 2, 3]\n",
            "----------\n"
          ]
        },
        {
          "output_type": "execute_result",
          "data": {
            "text/plain": [
              "[(1, 1, 1),\n",
              " (1, 1, 2),\n",
              " (1, 1, 3),\n",
              " (1, 2, 1),\n",
              " (1, 2, 2),\n",
              " (1, 2, 3),\n",
              " (1, 3, 1),\n",
              " (1, 3, 2),\n",
              " (1, 3, 3),\n",
              " (2, 1, 1),\n",
              " (2, 1, 2),\n",
              " (2, 1, 3),\n",
              " (2, 2, 1),\n",
              " (2, 2, 2),\n",
              " (2, 2, 3),\n",
              " (2, 3, 1),\n",
              " (2, 3, 2),\n",
              " (2, 3, 3),\n",
              " (3, 1, 1),\n",
              " (3, 1, 2),\n",
              " (3, 1, 3),\n",
              " (3, 2, 1),\n",
              " (3, 2, 2),\n",
              " (3, 2, 3),\n",
              " (3, 3, 1),\n",
              " (3, 3, 2),\n",
              " (3, 3, 3)]"
            ]
          },
          "metadata": {},
          "execution_count": 30
        }
      ]
    },
    {
      "cell_type": "code",
      "source": [
        "import math\n",
        "\n",
        "def find_divisors(n):\n",
        "    divisors = []\n",
        "    for i in range(1, int(math.sqrt(n))+1):\n",
        "        if n % i == 0:\n",
        "            divisors.append(i)\n",
        "            if i != n // i:\n",
        "                divisors.append(n // i)\n",
        "    return divisors"
      ],
      "metadata": {
        "id": "S6g9XJwQY3jk"
      },
      "execution_count": null,
      "outputs": []
    },
    {
      "cell_type": "code",
      "source": [
        "import itertools\n",
        "import numpy as np\n",
        "m = 5\n",
        "k = 5\n",
        "grani = [i + 1 for i in range(k)]\n",
        "combinations = list(itertools.product(grani, repeat=m))\n",
        "\n",
        "k = 0\n",
        "for i in combinations:\n",
        "    product = np.prod(i)\n",
        "    divisors_num = len(find_divisors(product))\n",
        "    # print(i, product, divisors_num)\n",
        "    if divisors_num%2 != 0:\n",
        "        k += 1\n",
        "\n",
        "print(k)\n",
        "len(combinations)"
      ],
      "metadata": {
        "colab": {
          "base_uri": "https://localhost:8080/"
        },
        "id": "KWJhkbyaWjSw",
        "outputId": "36bbeff8-284f-421c-d3fc-a86d68512fea",
        "collapsed": true
      },
      "execution_count": null,
      "outputs": [
        {
          "output_type": "stream",
          "name": "stdout",
          "text": [
            "482\n"
          ]
        },
        {
          "output_type": "execute_result",
          "data": {
            "text/plain": [
              "3125"
            ]
          },
          "metadata": {},
          "execution_count": 40
        }
      ]
    },
    {
      "cell_type": "code",
      "source": [],
      "metadata": {
        "colab": {
          "base_uri": "https://localhost:8080/"
        },
        "id": "SZlXcyt3gGYI",
        "outputId": "ba9a62fc-aa10-40e9-9d39-daca8ee7bc56"
      },
      "execution_count": null,
      "outputs": [
        {
          "output_type": "stream",
          "name": "stdout",
          "text": [
            "3125\n"
          ]
        }
      ]
    },
    {
      "cell_type": "code",
      "source": [
        "import math\n",
        "\n",
        "k = 4  # количество элементов в каждой последовательности\n",
        "m = 3  # количество последовательностей\n",
        "\n",
        "# Количество комбинаций, если все последовательности имеют k элементов\n",
        "total_combinations = pow(k, m)\n",
        "print(total_combinations)\n",
        "\n",
        "# Или для разных значений k\n",
        "ks = [2, 3, 5]  # разные количества элементов в последовательностях\n",
        "total_combinations_different = math.prod(ks)\n",
        "print(total_combinations_different)"
      ],
      "metadata": {
        "id": "icKIKFYpf0_q"
      },
      "execution_count": null,
      "outputs": []
    },
    {
      "cell_type": "code",
      "source": [
        "def mod_inverse(q, mod):\n",
        "    return pow(q, mod - 2, mod)\n",
        "\n",
        "def compute_result(p, q, mod):\n",
        "    q_inv = mod_inverse(q, mod)\n",
        "    result = (p * q_inv) % mod\n",
        "    return result\n",
        "\n",
        "p = 482\n",
        "q = 3125\n",
        "mod = 1000000007\n",
        "\n",
        "# Вычисление результата\n",
        "result = compute_result(p, q, mod)\n",
        "print(result)"
      ],
      "metadata": {
        "colab": {
          "base_uri": "https://localhost:8080/"
        },
        "id": "a7XoxEjuZzGQ",
        "outputId": "5cebf0fa-4307-405e-a72e-542f5cf954cc"
      },
      "execution_count": null,
      "outputs": [
        {
          "output_type": "stream",
          "name": "stdout",
          "text": [
            "263680002\n"
          ]
        }
      ]
    },
    {
      "cell_type": "code",
      "source": [
        "import math\n",
        "import itertools\n",
        "import numpy as np\n",
        "\n",
        "def find_divisors(n):\n",
        "    divisors = []\n",
        "    for i in range(1, int(math.sqrt(n))+1):\n",
        "        if n % i == 0:\n",
        "            divisors.append(i)\n",
        "            if i != n // i:\n",
        "                divisors.append(n // i)\n",
        "    return divisors\n",
        "\n",
        "def mod_inverse(q, mod):\n",
        "    return pow(q, mod - 2, mod)\n",
        "\n",
        "def compute_result(p, q, mod):\n",
        "    q_inv = mod_inverse(q, mod)\n",
        "    result = (p * q_inv) % mod\n",
        "    return result\n",
        "\n",
        "def mod_inverse(q, mod):\n",
        "    return pow(q, mod - 2, mod)\n",
        "\n",
        "def compute_result(p, q, mod):\n",
        "    q_inv = mod_inverse(q, mod)\n",
        "    result = (p * q_inv) % mod\n",
        "    return result\n",
        "\n",
        "m, k = map(int, input().strip().split())\n",
        "grani = [i + 1 for i in range(k)]\n",
        "\n",
        "k = 0\n",
        "for i in itertools.product(grani, repeat=m):\n",
        "    product = np.prod(i)\n",
        "    divisors_num = len(find_divisors(product))\n",
        "    if divisors_num%2 != 0:\n",
        "        k += 1\n",
        "\n",
        "p = k\n",
        "q = len(combinations)\n",
        "mod = 1000000007\n",
        "\n",
        "# Вычисление результата\n",
        "result = compute_result(p, q, mod)\n",
        "print(result)"
      ],
      "metadata": {
        "colab": {
          "base_uri": "https://localhost:8080/"
        },
        "id": "Dsx1YvhfakxV",
        "outputId": "ca900781-6d97-4159-d80f-bdaf3414915a"
      },
      "execution_count": null,
      "outputs": [
        {
          "output_type": "stream",
          "name": "stdout",
          "text": [
            "5 5\n",
            "263680002\n"
          ]
        }
      ]
    },
    {
      "cell_type": "code",
      "source": [
        "import math\n",
        "import itertools\n",
        "import numpy as np\n",
        "\n",
        "def count_divisors(n):\n",
        "    count = 0\n",
        "    for i in range(1, int(math.sqrt(n)) + 1):\n",
        "        if n % i == 0:\n",
        "            count += 1\n",
        "            if i != n // i:\n",
        "                count += 1\n",
        "    return count\n",
        "\n",
        "def mod_inverse(q, mod):\n",
        "    return pow(q, mod - 2, mod)\n",
        "\n",
        "def compute_result(p, q, mod):\n",
        "    q_inv = mod_inverse(q, mod)\n",
        "    result = (p * q_inv) % mod\n",
        "    return result\n",
        "\n",
        "def mod_inverse(q, mod):\n",
        "    return pow(q, mod - 2, mod)\n",
        "\n",
        "def compute_result(p, q, mod):\n",
        "    q_inv = mod_inverse(q, mod)\n",
        "    result = (p * q_inv) % mod\n",
        "    return result\n",
        "\n",
        "m, k = map(int, input().strip().split())\n",
        "\n",
        "# Количество всех возможных комбинаций,\n",
        "# по сути количество чисел для которых нужно найти делители, т.е. q\n",
        "q = pow(k, m)\n",
        "grani = [i + 1 for i in range(k)]\n",
        "\n",
        "p = 0\n",
        "for i in itertools.product(grani, repeat=m):\n",
        "    product = np.prod(i)\n",
        "    if count_divisors(product) % 2 != 0:\n",
        "        p += 1\n",
        "\n",
        "mod = 1000000007\n",
        "\n",
        "# Вычисление результата\n",
        "print(compute_result(p, q, mod))"
      ],
      "metadata": {
        "colab": {
          "base_uri": "https://localhost:8080/"
        },
        "id": "ry-UyqCYcxpD",
        "outputId": "211de9b9-afb0-4866-a937-06f4f0865bc8"
      },
      "execution_count": null,
      "outputs": [
        {
          "output_type": "stream",
          "name": "stdout",
          "text": [
            "5 5\n",
            "263680002\n"
          ]
        }
      ]
    },
    {
      "cell_type": "code",
      "source": [
        "import itertools\n",
        "import math\n",
        "from collections import Counter\n",
        "from functools import reduce\n",
        "from operator import mul\n",
        "\n",
        "MOD = 1000000007\n",
        "\n",
        "def is_square(n):\n",
        "    if n < 1:\n",
        "        return False\n",
        "    root = int(math.isqrt(n))\n",
        "    return root * root == n\n",
        "\n",
        "def mod_inverse(q, mod):\n",
        "    return pow(q, mod - 2, mod)\n",
        "\n",
        "def compute_result(p, q, mod):\n",
        "    q_inv = mod_inverse(q, mod)\n",
        "    result = (p * q_inv) % mod\n",
        "    return result\n",
        "\n",
        "def prime_factors_count(n):\n",
        "    i = 2\n",
        "    factors = Counter()\n",
        "    while i * i <= n:\n",
        "        while (n % i) == 0:\n",
        "            factors[i] += 1\n",
        "            n //= i\n",
        "        i += 1\n",
        "    if n > 1:\n",
        "        factors[n] += 1\n",
        "    return factors\n",
        "\n",
        "def count_odd_divisors_combinations(m, k):\n",
        "    faces = list(range(1, k + 1))\n",
        "    p = 0\n",
        "\n",
        "    for combination in itertools.product(faces, repeat=m):\n",
        "        product = reduce(mul, combination, 1)\n",
        "        factors = prime_factors_count(product)\n",
        "        if all(count % 2 == 0 for count in factors.values()):\n",
        "            p += 1\n",
        "\n",
        "    return p\n",
        "\n",
        "m, k = map(int, input().strip().split())\n",
        "\n",
        "total_combinations = pow(k, m, MOD)\n",
        "p = count_odd_divisors_combinations(m, k)\n",
        "\n",
        "result = compute_result(p, total_combinations, MOD)\n",
        "print(result)\n",
        "# 263680002"
      ],
      "metadata": {
        "colab": {
          "base_uri": "https://localhost:8080/"
        },
        "id": "Ja4b6vJQkKZ5",
        "outputId": "ba22918f-f4e0-4e9a-d8c9-32795d4230ff"
      },
      "execution_count": null,
      "outputs": [
        {
          "output_type": "stream",
          "name": "stdout",
          "text": [
            "5 5\n",
            "263680002\n"
          ]
        }
      ]
    },
    {
      "cell_type": "code",
      "source": [
        "import math\n",
        "from collections import defaultdict\n",
        "\n",
        "MOD = 1000000007\n",
        "\n",
        "def mod_inverse(q, mod):\n",
        "    return pow(q, mod - 2, mod)\n",
        "\n",
        "def compute_result(p, q, mod):\n",
        "    q_inv = mod_inverse(q, mod)\n",
        "    return (p * q_inv) % mod\n",
        "\n",
        "def count_odd_divisors_combinations(m, k):\n",
        "    # Считаем количество произведений, которые дают четное количество делителей\n",
        "    def count_divisors(n):\n",
        "        count = 0\n",
        "        for i in range(1, int(math.sqrt(n)) + 1):\n",
        "            if n % i == 0:\n",
        "                count += 1\n",
        "                if i != n // i:\n",
        "                    count += 1\n",
        "        return count\n",
        "\n",
        "    # Динамическое программирование для подсчета количества комбинаций\n",
        "    # Количество комбинаций с конкретным произведением\n",
        "    dp = defaultdict(int)\n",
        "    dp[1] = 1  # Начальное состояние: одно произведение (1)\n",
        "\n",
        "    # Обновление dp для каждой новой грани кубика\n",
        "    for _ in range(m):\n",
        "        next_dp = defaultdict(int)\n",
        "        for value, count in dp.items():\n",
        "            for face in range(1, k + 1):\n",
        "                new_value = value * face\n",
        "                next_dp[new_value] = (next_dp[new_value] + count) % MOD\n",
        "        dp = next_dp\n",
        "\n",
        "    # Подсчет количества произведений с нечетным числом делителей\n",
        "    p = 0\n",
        "    for product, count in dp.items():\n",
        "        if count_divisors(product) % 2 != 0:\n",
        "            p = (p + count) % MOD\n",
        "\n",
        "    return p\n",
        "\n",
        "m, k = map(int, input().strip().split())\n",
        "\n",
        "total_combinations = pow(k, m, MOD)\n",
        "p = count_odd_divisors_combinations(m, k)\n",
        "\n",
        "result = compute_result(p, total_combinations, MOD)\n",
        "print(result)\n",
        "# плюс один тест, но все еще долго"
      ],
      "metadata": {
        "colab": {
          "base_uri": "https://localhost:8080/"
        },
        "id": "DltoqlYfovw2",
        "outputId": "ea5ea5d1-e069-4f4f-f304-226f88c090b7"
      },
      "execution_count": null,
      "outputs": [
        {
          "output_type": "stream",
          "name": "stdout",
          "text": [
            "2 3\n",
            "333333336\n"
          ]
        }
      ]
    },
    {
      "cell_type": "code",
      "source": [
        "import math\n",
        "from functools import lru_cache\n",
        "from itertools import product\n",
        "\n",
        "MOD = 1000000007\n",
        "\n",
        "def mod_inverse(q, mod):\n",
        "    return pow(q, mod - 2, mod)\n",
        "\n",
        "def compute_result(p, q, mod):\n",
        "    q_inv = mod_inverse(q, mod)\n",
        "    return (p * q_inv) % mod\n",
        "\n",
        "def count_squares(m, k):\n",
        "    \"\"\"\n",
        "    Использует динамическое программирование для подсчета количества комбинаций,\n",
        "    которые дают квадрат числа.\n",
        "    \"\"\"\n",
        "    dp = [0] * (k * m + 1)\n",
        "    dp[1] = 1\n",
        "\n",
        "    for _ in range(m):\n",
        "        new_dp = [0] * (k * m + 1)\n",
        "        for i in range(1, len(dp)):\n",
        "            if dp[i] > 0:\n",
        "                for face in range(1, k + 1):\n",
        "                    new_dp[i * face] = (new_dp[i * face] + dp[i]) % MOD\n",
        "        dp = new_dp\n",
        "\n",
        "    count = 0\n",
        "    for i in range(1, len(dp)):\n",
        "        if int(math.sqrt(i)) ** 2 == i:\n",
        "            count = (count + dp[i]) % MOD\n",
        "\n",
        "    return count\n",
        "\n",
        "# m, k = map(int, input().split())\n",
        "m , k = 5, 5\n",
        "total_combinations = pow(k, m, MOD)\n",
        "p = count_squares(m, k)\n",
        "\n",
        "print(compute_result(p, total_combinations, MOD))\n",
        "# print(solve(m, k))"
      ],
      "metadata": {
        "colab": {
          "base_uri": "https://localhost:8080/",
          "height": 332
        },
        "id": "ZCrWr9mqpNqt",
        "outputId": "958cd818-a4d8-4e4f-b904-5ed4ac5c547f"
      },
      "execution_count": null,
      "outputs": [
        {
          "output_type": "error",
          "ename": "IndexError",
          "evalue": "list index out of range",
          "traceback": [
            "\u001b[0;31m---------------------------------------------------------------------------\u001b[0m",
            "\u001b[0;31mIndexError\u001b[0m                                Traceback (most recent call last)",
            "\u001b[0;32m<ipython-input-58-d0a085794646>\u001b[0m in \u001b[0;36m<cell line: 40>\u001b[0;34m()\u001b[0m\n\u001b[1;32m     38\u001b[0m \u001b[0mm\u001b[0m \u001b[0;34m,\u001b[0m \u001b[0mk\u001b[0m \u001b[0;34m=\u001b[0m \u001b[0;36m5\u001b[0m\u001b[0;34m,\u001b[0m \u001b[0;36m5\u001b[0m\u001b[0;34m\u001b[0m\u001b[0;34m\u001b[0m\u001b[0m\n\u001b[1;32m     39\u001b[0m \u001b[0mtotal_combinations\u001b[0m \u001b[0;34m=\u001b[0m \u001b[0mpow\u001b[0m\u001b[0;34m(\u001b[0m\u001b[0mk\u001b[0m\u001b[0;34m,\u001b[0m \u001b[0mm\u001b[0m\u001b[0;34m,\u001b[0m \u001b[0mMOD\u001b[0m\u001b[0;34m)\u001b[0m\u001b[0;34m\u001b[0m\u001b[0;34m\u001b[0m\u001b[0m\n\u001b[0;32m---> 40\u001b[0;31m \u001b[0mp\u001b[0m \u001b[0;34m=\u001b[0m \u001b[0mcount_squares\u001b[0m\u001b[0;34m(\u001b[0m\u001b[0mm\u001b[0m\u001b[0;34m,\u001b[0m \u001b[0mk\u001b[0m\u001b[0;34m)\u001b[0m\u001b[0;34m\u001b[0m\u001b[0;34m\u001b[0m\u001b[0m\n\u001b[0m\u001b[1;32m     41\u001b[0m \u001b[0;34m\u001b[0m\u001b[0m\n\u001b[1;32m     42\u001b[0m \u001b[0mprint\u001b[0m\u001b[0;34m(\u001b[0m\u001b[0mcompute_result\u001b[0m\u001b[0;34m(\u001b[0m\u001b[0mp\u001b[0m\u001b[0;34m,\u001b[0m \u001b[0mtotal_combinations\u001b[0m\u001b[0;34m,\u001b[0m \u001b[0mMOD\u001b[0m\u001b[0;34m)\u001b[0m\u001b[0;34m)\u001b[0m\u001b[0;34m\u001b[0m\u001b[0;34m\u001b[0m\u001b[0m\n",
            "\u001b[0;32m<ipython-input-58-d0a085794646>\u001b[0m in \u001b[0;36mcount_squares\u001b[0;34m(m, k)\u001b[0m\n\u001b[1;32m     25\u001b[0m             \u001b[0;32mif\u001b[0m \u001b[0mdp\u001b[0m\u001b[0;34m[\u001b[0m\u001b[0mi\u001b[0m\u001b[0;34m]\u001b[0m \u001b[0;34m>\u001b[0m \u001b[0;36m0\u001b[0m\u001b[0;34m:\u001b[0m\u001b[0;34m\u001b[0m\u001b[0;34m\u001b[0m\u001b[0m\n\u001b[1;32m     26\u001b[0m                 \u001b[0;32mfor\u001b[0m \u001b[0mface\u001b[0m \u001b[0;32min\u001b[0m \u001b[0mrange\u001b[0m\u001b[0;34m(\u001b[0m\u001b[0;36m1\u001b[0m\u001b[0;34m,\u001b[0m \u001b[0mk\u001b[0m \u001b[0;34m+\u001b[0m \u001b[0;36m1\u001b[0m\u001b[0;34m)\u001b[0m\u001b[0;34m:\u001b[0m\u001b[0;34m\u001b[0m\u001b[0;34m\u001b[0m\u001b[0m\n\u001b[0;32m---> 27\u001b[0;31m                     \u001b[0mnew_dp\u001b[0m\u001b[0;34m[\u001b[0m\u001b[0mi\u001b[0m \u001b[0;34m*\u001b[0m \u001b[0mface\u001b[0m\u001b[0;34m]\u001b[0m \u001b[0;34m=\u001b[0m \u001b[0;34m(\u001b[0m\u001b[0mnew_dp\u001b[0m\u001b[0;34m[\u001b[0m\u001b[0mi\u001b[0m \u001b[0;34m*\u001b[0m \u001b[0mface\u001b[0m\u001b[0;34m]\u001b[0m \u001b[0;34m+\u001b[0m \u001b[0mdp\u001b[0m\u001b[0;34m[\u001b[0m\u001b[0mi\u001b[0m\u001b[0;34m]\u001b[0m\u001b[0;34m)\u001b[0m \u001b[0;34m%\u001b[0m \u001b[0mMOD\u001b[0m\u001b[0;34m\u001b[0m\u001b[0;34m\u001b[0m\u001b[0m\n\u001b[0m\u001b[1;32m     28\u001b[0m         \u001b[0mdp\u001b[0m \u001b[0;34m=\u001b[0m \u001b[0mnew_dp\u001b[0m\u001b[0;34m\u001b[0m\u001b[0;34m\u001b[0m\u001b[0m\n\u001b[1;32m     29\u001b[0m \u001b[0;34m\u001b[0m\u001b[0m\n",
            "\u001b[0;31mIndexError\u001b[0m: list index out of range"
          ]
        }
      ]
    },
    {
      "cell_type": "code",
      "source": [
        "m, s = map(int, input().split())\n",
        "n = int(input())\n",
        "reqs = {}\n",
        "for _ in range(n):\n",
        "    week, day, hour, *dji = map(int, input().split())\n",
        "    reqs[(week, day, hour)] = dji\n",
        "\n",
        "q = int(input())\n",
        "results = {}\n",
        "for _ in range(q):\n",
        "    query_type, week, day, hour, *dji = map(int, input().split())\n",
        "    if query_type == 1:\n",
        "        reqs[(week, day, hour)] = dji\n",
        "    else:\n",
        "        all_requests = [0] * m\n",
        "        for (w, d, h), counts in reqs.items():\n",
        "            if week - w <= 1 and day == d and hour - h <= 1:\n",
        "                for i in range(m):\n",
        "                    all_requests[i] += counts[i]\n",
        "        results[(week, day, hour)] = all_requests\n",
        "\n",
        "averages = [sum(counts) / len(results) for counts in zip(*results.values())]\n",
        "print(' '.join(f'{avg:.1f}' for avg in averages))"
      ],
      "metadata": {
        "id": "3XP42EF7cGOj"
      },
      "execution_count": null,
      "outputs": []
    },
    {
      "cell_type": "code",
      "source": [
        "from collections import defaultdict\n",
        "\n",
        "n = int(input())\n",
        "\n",
        "strings = [input().strip() for _ in range(n)]\n",
        "\n",
        "# Хэш-таблица для хранения строк и их индексов\n",
        "hash_map = defaultdict(list)\n",
        "\n",
        "# Заполнение хэш-таблицы\n",
        "for idx, s in enumerate(strings):\n",
        "    hash_map[s].append(idx + 1)\n",
        "\n",
        "# Проверка пар строк\n",
        "for i in range(n):\n",
        "    s = strings[i]\n",
        "    length = len(s)\n",
        "\n",
        "    # Проверка всех возможных разделений строки\n",
        "    for k in range(1, length):\n",
        "        left = s[:k]\n",
        "        right = s[k:]\n",
        "\n",
        "        # Проверка для левой и правой частей\n",
        "        if left in hash_map and right in hash_map:\n",
        "            for l_idx in hash_map[left]:\n",
        "                for r_idx in hash_map[right]:\n",
        "                    if l_idx != i + 1 and r_idx != i + 1:\n",
        "                        combined = strings[l_idx - 1] + strings[r_idx - 1]\n",
        "                        if combined[:len(combined) // 2] == combined[len(combined) // 2:]:\n",
        "                            print(l_idx, r_idx)\n",
        "# 4\n",
        "# tan\n",
        "# dem\n",
        "# tandemtan\n",
        "# demtandem"
      ],
      "metadata": {
        "id": "xo2bij9ZcvG5",
        "outputId": "6f7708b1-fce5-4b19-9e44-8e06805db21e",
        "colab": {
          "base_uri": "https://localhost:8080/"
        }
      },
      "execution_count": null,
      "outputs": [
        {
          "name": "stdout",
          "output_type": "stream",
          "text": [
            "4\n",
            "tan\n",
            "dem\n",
            "tandemtan\n",
            "demtandem\n"
          ]
        }
      ]
    }
  ]
}